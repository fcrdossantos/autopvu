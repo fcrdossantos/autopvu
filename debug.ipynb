{
 "cells": [
  {
   "cell_type": "markdown",
   "source": [
    "Configura para sempre reimportar os módulos (para caso você edite alguma rotina mais de uma vez direto na fonte dela)"
   ],
   "metadata": {}
  },
  {
   "cell_type": "code",
   "execution_count": 1,
   "source": [
    "%load_ext autoreload\r\n",
    "%autoreload 2"
   ],
   "outputs": [],
   "metadata": {}
  },
  {
   "cell_type": "markdown",
   "source": [
    "Abre o navegador e inicia o debug.\r\n",
    "\r\n",
    "PS: Lembre-se de ativar o debug no .env"
   ],
   "metadata": {}
  },
  {
   "cell_type": "code",
   "execution_count": null,
   "source": [
    "import os\r\n",
    "import sys\r\n",
    "import time\r\n",
    "from threading import Thread\r\n",
    "import traceback\r\n",
    "import dotenv\r\n",
    "import browser\r\n",
    "import metamask\r\n",
    "import admin\r\n",
    "from hwid import set_hwid, clear_hwid, check_hwid_clean, CHECK\r\n",
    "from pvu.game import play_game\r\n",
    "from pvu.login import login\r\n",
    "from pvu.utils import random_sleep\r\n",
    "from logs import log\r\n",
    "\r\n",
    "from pvu.maintenance import wait_maintenance\r\n",
    "from pvu.farm import (\r\n",
    "    water_plants,\r\n",
    "    remove_crows,\r\n",
    "    use_pots,\r\n",
    "    harvest_plants,\r\n",
    "    add_plants,\r\n",
    ")\r\n",
    "from pvu.daily import do_daily\r\n",
    "from pvu.user import get_user_info\r\n",
    "from pvu.utils import random_sleep\r\n",
    "from pvu.store import buy_items\r\n",
    "from logs import log\r\n",
    "from pvu.captcha import get_challenge_gt, get_captcha_result\r\n",
    "\r\n",
    "browser.BROWSER = None\r\n",
    "\r\n",
    "try:\r\n",
    "    log(\"Carregando o ambiente (.env)\")\r\n",
    "    dotenv.load_dotenv()\r\n",
    "\r\n",
    "    if os.getenv(\"SET_HWID\", \"False\").lower() in (\"true\", \"1\"):\r\n",
    "        set_hwid()\r\n",
    "\r\n",
    "    random_sleep()\r\n",
    "    driver = browser.get_browser(new=True)\r\n",
    "    log(\"Não minimize outro mude a aba do navegador ainda!!!\")\r\n",
    "\r\n",
    "    random_sleep()\r\n",
    "    metamask.login()\r\n",
    "\r\n",
    "    try:\r\n",
    "        if driver is not None:\r\n",
    "            driver.get(\"https://marketplace.plantvsundead.com/farm#/\")\r\n",
    "    except:\r\n",
    "        log(\"Impossível acessar a página principal do jogo\")\r\n",
    "\r\n",
    "    random_sleep(min_time=1)\r\n",
    "\r\n",
    "    log(\"Inicializando o bot\")\r\n",
    "\r\n",
    "    login()\r\n",
    "\r\n",
    "    log(\"Pronto! Você já pode minimizar ou mudar a aba do navegador\")\r\n",
    "\r\n",
    "\r\n",
    "except KeyboardInterrupt:\r\n",
    "    log(\"Processo interrompido pelo usuário\")\r\n",
    "    browser.close_browser()\r\n",
    "    CHECK = False\r\n",
    "    sys.exit()\r\n",
    "except ConnectionResetError:\r\n",
    "    log(\"Navegador forçadamente encerrado\")\r\n",
    "except Exception as e:\r\n",
    "    log(\"Ocorreu um problema:\", e)\r\n"
   ],
   "outputs": [],
   "metadata": {}
  },
  {
   "cell_type": "markdown",
   "source": [
    "Aqui você pode manipular função por função sempre que quiser, apenas precisa deixar o navegador aberto"
   ],
   "metadata": {}
  },
  {
   "cell_type": "code",
   "execution_count": 10,
   "source": [
    "get_challenge_gt()"
   ],
   "outputs": [
    {
     "output_type": "stream",
     "name": "stdout",
     "text": [
      " [15:24:43 31/08/2021] Identificando Challenge e GT\n",
      "{\"status\":444,\"data\":{}}\n"
     ]
    },
    {
     "output_type": "error",
     "ename": "KeyError",
     "evalue": "'challenge'",
     "traceback": [
      "\u001b[1;31m---------------------------------------------------------------------------\u001b[0m",
      "\u001b[1;31mKeyError\u001b[0m                                  Traceback (most recent call last)",
      "\u001b[1;32m<ipython-input-10-1e13fa60657e>\u001b[0m in \u001b[0;36m<module>\u001b[1;34m\u001b[0m\n\u001b[1;32m----> 1\u001b[1;33m \u001b[0mget_challenge_gt\u001b[0m\u001b[1;33m(\u001b[0m\u001b[1;33m)\u001b[0m\u001b[1;33m\u001b[0m\u001b[1;33m\u001b[0m\u001b[0m\n\u001b[0m",
      "\u001b[1;32mp:\\autopvu\\pvu\\captcha.py\u001b[0m in \u001b[0;36mget_challenge_gt\u001b[1;34m()\u001b[0m\n\u001b[0;32m     22\u001b[0m     \u001b[0mprint\u001b[0m\u001b[1;33m(\u001b[0m\u001b[0mresponse\u001b[0m\u001b[1;33m)\u001b[0m\u001b[1;33m\u001b[0m\u001b[1;33m\u001b[0m\u001b[0m\n\u001b[0;32m     23\u001b[0m \u001b[1;33m\u001b[0m\u001b[0m\n\u001b[1;32m---> 24\u001b[1;33m     \u001b[0mchallenge\u001b[0m \u001b[1;33m=\u001b[0m \u001b[0mjson\u001b[0m\u001b[1;33m.\u001b[0m\u001b[0mloads\u001b[0m\u001b[1;33m(\u001b[0m\u001b[0mresponse\u001b[0m\u001b[1;33m)\u001b[0m\u001b[1;33m[\u001b[0m\u001b[1;34m\"data\"\u001b[0m\u001b[1;33m]\u001b[0m\u001b[1;33m[\u001b[0m\u001b[1;34m\"challenge\"\u001b[0m\u001b[1;33m]\u001b[0m\u001b[1;33m\u001b[0m\u001b[1;33m\u001b[0m\u001b[0m\n\u001b[0m\u001b[0;32m     25\u001b[0m     \u001b[0mgt\u001b[0m \u001b[1;33m=\u001b[0m \u001b[0mjson\u001b[0m\u001b[1;33m.\u001b[0m\u001b[0mloads\u001b[0m\u001b[1;33m(\u001b[0m\u001b[0mresponse\u001b[0m\u001b[1;33m)\u001b[0m\u001b[1;33m[\u001b[0m\u001b[1;34m\"data\"\u001b[0m\u001b[1;33m]\u001b[0m\u001b[1;33m[\u001b[0m\u001b[1;34m\"gt\"\u001b[0m\u001b[1;33m]\u001b[0m\u001b[1;33m\u001b[0m\u001b[1;33m\u001b[0m\u001b[0m\n\u001b[0;32m     26\u001b[0m \u001b[1;33m\u001b[0m\u001b[0m\n",
      "\u001b[1;31mKeyError\u001b[0m: 'challenge'"
     ]
    }
   ],
   "metadata": {}
  },
  {
   "cell_type": "code",
   "execution_count": null,
   "source": [
    "get_captcha_result()"
   ],
   "outputs": [],
   "metadata": {}
  },
  {
   "cell_type": "code",
   "execution_count": null,
   "source": [
    "get_user_info()"
   ],
   "outputs": [],
   "metadata": {}
  },
  {
   "cell_type": "code",
   "execution_count": null,
   "source": [
    "buy_items()"
   ],
   "outputs": [],
   "metadata": {}
  },
  {
   "cell_type": "code",
   "execution_count": null,
   "source": [
    "harvest_plants()"
   ],
   "outputs": [],
   "metadata": {}
  },
  {
   "cell_type": "code",
   "execution_count": null,
   "source": [
    "add_plants()"
   ],
   "outputs": [],
   "metadata": {}
  },
  {
   "cell_type": "code",
   "execution_count": null,
   "source": [
    "use_pots()"
   ],
   "outputs": [],
   "metadata": {}
  },
  {
   "cell_type": "code",
   "execution_count": null,
   "source": [
    "water_plants()"
   ],
   "outputs": [],
   "metadata": {}
  },
  {
   "cell_type": "code",
   "execution_count": 11,
   "source": [
    "remove_crows()"
   ],
   "outputs": [
    {
     "output_type": "stream",
     "name": "stdout",
     "text": [
      " [15:27:31 31/08/2021] Iniciando a rotina de remover corvos\n",
      " [15:27:31 31/08/2021] Coletando as informações das plantas\n",
      " [15:27:31 31/08/2021] Coletando as informações da fazenda\n",
      " [15:27:36 31/08/2021] Fim da rotina de remover corvos\n"
     ]
    }
   ],
   "metadata": {}
  },
  {
   "cell_type": "code",
   "execution_count": null,
   "source": [
    "do_daily()"
   ],
   "outputs": [],
   "metadata": {}
  },
  {
   "cell_type": "code",
   "execution_count": 12,
   "source": [
    "from pvu.farm import get_farm_infos\r\n",
    "\r\n",
    "get_farm_infos()"
   ],
   "outputs": [],
   "metadata": {}
  },
  {
   "cell_type": "code",
   "execution_count": null,
   "source": [],
   "outputs": [],
   "metadata": {}
  },
  {
   "cell_type": "code",
   "execution_count": null,
   "source": [],
   "outputs": [],
   "metadata": {}
  },
  {
   "cell_type": "code",
   "execution_count": null,
   "source": [],
   "outputs": [],
   "metadata": {}
  },
  {
   "cell_type": "code",
   "execution_count": null,
   "source": [],
   "outputs": [],
   "metadata": {}
  },
  {
   "cell_type": "code",
   "execution_count": null,
   "source": [],
   "outputs": [],
   "metadata": {}
  },
  {
   "cell_type": "code",
   "execution_count": null,
   "source": [],
   "outputs": [],
   "metadata": {}
  },
  {
   "cell_type": "code",
   "execution_count": null,
   "source": [],
   "outputs": [],
   "metadata": {}
  },
  {
   "cell_type": "code",
   "execution_count": null,
   "source": [],
   "outputs": [],
   "metadata": {}
  },
  {
   "cell_type": "code",
   "execution_count": null,
   "source": [],
   "outputs": [],
   "metadata": {}
  },
  {
   "cell_type": "code",
   "execution_count": null,
   "source": [],
   "outputs": [],
   "metadata": {}
  },
  {
   "cell_type": "code",
   "execution_count": null,
   "source": [],
   "outputs": [],
   "metadata": {}
  },
  {
   "cell_type": "code",
   "execution_count": 3,
   "source": [
    "import time\r\n",
    "import os\r\n",
    "from datetime import datetime, timedelta\r\n",
    "from browser import get_browser\r\n",
    "from selenium.webdriver.common.by import By\r\n",
    "from selenium.webdriver.support.ui import WebDriverWait\r\n",
    "from selenium.webdriver.support import expected_conditions as EC\r\n",
    "from pvu.utils import random_sleep\r\n",
    "\r\n",
    "\r\n",
    "import json\r\n",
    "import requests\r\n",
    "from pvu.utils import get_headers, random_sleep\r\n",
    "from logs import log\r\n",
    "\r\n",
    "\r\n",
    "def maintenance_request():\r\n",
    "    url = \"https://backend-farm.plantvsundead.com/farming-stats\"\r\n",
    "    headers = get_headers()\r\n",
    "\r\n",
    "    log(\"Verificando se está em manutenção via request\")\r\n",
    "\r\n",
    "    random_sleep()\r\n",
    "    response = requests.request(\"GET\", url, headers=headers)\r\n",
    "\r\n",
    "    user_info = json.loads(response.text)\r\n",
    "\r\n",
    "    status = user_info.get(\"status\")\r\n",
    "\r\n",
    "    # 444 = maintenance\r\n",
    "    return status == 444\r\n",
    "\r\n",
    "maintenance_request()"
   ],
   "outputs": [
    {
     "output_type": "stream",
     "name": "stdout",
     "text": [
      " [15:12:39 31/08/2021] Pegando novo Token\n",
      " [15:12:39 31/08/2021] Verificando se está em manutenção via request\n"
     ]
    },
    {
     "output_type": "execute_result",
     "data": {
      "text/plain": [
       "False"
      ]
     },
     "metadata": {},
     "execution_count": 3
    }
   ],
   "metadata": {}
  },
  {
   "cell_type": "code",
   "execution_count": 4,
   "source": [
    "from datetime import datetime\r\n",
    "from dateutil import tz \r\n",
    "\r\n",
    "def get_next_group_time():\r\n",
    "    try:\r\n",
    "        random_sleep()\r\n",
    "        now = datetime.now()\r\n",
    "\r\n",
    "        url = \"https://backend-farm.plantvsundead.com/farm-status\"\r\n",
    "        headers = get_headers()\r\n",
    "\r\n",
    "        log(\"Pegando horário do próximo grupo\")\r\n",
    "\r\n",
    "        random_sleep()\r\n",
    "        response = requests.request(\"GET\", url, headers=headers)\r\n",
    "\r\n",
    "        json_response  = json.loads(response.text)\r\n",
    "\r\n",
    "        print(response.text)\r\n",
    "\r\n",
    "        next_group = json_response.get(\"data\").get(\"nextGroup\")\r\n",
    "\r\n",
    "        next_group_utc = datetime.strptime(next_group,'%Y-%m-%dT%H:%M:%S.%fZ')\r\n",
    "\r\n",
    "        next_group_utc = next_group_utc.replace(tzinfo=tz.tzutc())\r\n",
    "\r\n",
    "        local_next_group = next_group_utc.astimezone(tz=tz.tzlocal())\r\n",
    "\r\n",
    "\r\n",
    "        log(\"Horário do próximo grupo encontrado!\")\r\n",
    "        random_sleep()\r\n",
    "\r\n",
    "        return local_next_group\r\n",
    "    except Exception as e:\r\n",
    "        print(e)\r\n",
    "        log(\"Horário do próximo grupo não informado\")\r\n",
    "        return False\r\n"
   ],
   "outputs": [],
   "metadata": {}
  },
  {
   "cell_type": "markdown",
   "source": [
    "PS: Sempre que você terminar seu debug/teste e fechar o seu navegador, é necessário Reiniciar a Kernel e rodar de novo, para pegar um novo navegador"
   ],
   "metadata": {}
  },
  {
   "cell_type": "code",
   "execution_count": 5,
   "source": [
    "from logs import log \r\n",
    "from pvu.utils import random_sleep, get_headers\r\n",
    "import requests\r\n",
    "import json \r\n",
    "x = get_next_group_time()\r\n",
    "print(x)"
   ],
   "outputs": [
    {
     "output_type": "stream",
     "name": "stdout",
     "text": [
      " [15:12:44 31/08/2021] Pegando horário do próximo grupo\n",
      "{\"status\":0,\"data\":{\"status\":1}}\n",
      "strptime() argument 1 must be str, not None\n",
      " [15:12:47 31/08/2021] Horário do próximo grupo não informado\n",
      "False\n"
     ]
    }
   ],
   "metadata": {}
  },
  {
   "cell_type": "code",
   "execution_count": 6,
   "source": [
    "x"
   ],
   "outputs": [
    {
     "output_type": "execute_result",
     "data": {
      "text/plain": [
       "False"
      ]
     },
     "metadata": {},
     "execution_count": 6
    }
   ],
   "metadata": {}
  },
  {
   "cell_type": "code",
   "execution_count": 7,
   "source": [
    "print(x)\r\n",
    "now = datetime.now().replace(tzinfo=tz.tzlocal())\r\n",
    "\r\n",
    "if now < x:\r\n",
    "    print('a')\r\n",
    "else:\r\n",
    "    print('b')"
   ],
   "outputs": [
    {
     "output_type": "stream",
     "name": "stdout",
     "text": [
      "False\n"
     ]
    },
    {
     "output_type": "error",
     "ename": "TypeError",
     "evalue": "'<' not supported between instances of 'datetime.datetime' and 'bool'",
     "traceback": [
      "\u001b[1;31m---------------------------------------------------------------------------\u001b[0m",
      "\u001b[1;31mTypeError\u001b[0m                                 Traceback (most recent call last)",
      "\u001b[1;32m<ipython-input-7-4c45e423d52d>\u001b[0m in \u001b[0;36m<module>\u001b[1;34m\u001b[0m\n\u001b[0;32m      2\u001b[0m \u001b[0mnow\u001b[0m \u001b[1;33m=\u001b[0m \u001b[0mdatetime\u001b[0m\u001b[1;33m.\u001b[0m\u001b[0mnow\u001b[0m\u001b[1;33m(\u001b[0m\u001b[1;33m)\u001b[0m\u001b[1;33m.\u001b[0m\u001b[0mreplace\u001b[0m\u001b[1;33m(\u001b[0m\u001b[0mtzinfo\u001b[0m\u001b[1;33m=\u001b[0m\u001b[0mtz\u001b[0m\u001b[1;33m.\u001b[0m\u001b[0mtzlocal\u001b[0m\u001b[1;33m(\u001b[0m\u001b[1;33m)\u001b[0m\u001b[1;33m)\u001b[0m\u001b[1;33m\u001b[0m\u001b[1;33m\u001b[0m\u001b[0m\n\u001b[0;32m      3\u001b[0m \u001b[1;33m\u001b[0m\u001b[0m\n\u001b[1;32m----> 4\u001b[1;33m \u001b[1;32mif\u001b[0m \u001b[0mnow\u001b[0m \u001b[1;33m<\u001b[0m \u001b[0mx\u001b[0m\u001b[1;33m:\u001b[0m\u001b[1;33m\u001b[0m\u001b[1;33m\u001b[0m\u001b[0m\n\u001b[0m\u001b[0;32m      5\u001b[0m     \u001b[0mprint\u001b[0m\u001b[1;33m(\u001b[0m\u001b[1;34m'a'\u001b[0m\u001b[1;33m)\u001b[0m\u001b[1;33m\u001b[0m\u001b[1;33m\u001b[0m\u001b[0m\n\u001b[0;32m      6\u001b[0m \u001b[1;32melse\u001b[0m\u001b[1;33m:\u001b[0m\u001b[1;33m\u001b[0m\u001b[1;33m\u001b[0m\u001b[0m\n",
      "\u001b[1;31mTypeError\u001b[0m: '<' not supported between instances of 'datetime.datetime' and 'bool'"
     ]
    }
   ],
   "metadata": {}
  },
  {
   "cell_type": "code",
   "execution_count": null,
   "source": [
    "now = datetime.now()\r\n",
    "\r\n",
    "timezone.\r\n",
    "\r\n",
    "url = \"https://backend-farm.plantvsundead.com/farm-status\"\r\n",
    "headers = get_headers()\r\n",
    "\r\n",
    "log(\"Pegando horário do próximo grupo\")\r\n",
    "\r\n",
    "random_sleep()\r\n",
    "response = requests.request(\"GET\", url, headers=headers)\r\n",
    "\r\n",
    "json_response  = json.loads(response.text)\r\n",
    "\r\n",
    "next_group = json_response.get(\"data\").get(\"nextGroup\")\r\n",
    "\r\n",
    "next_group_utc = datetime.strptime(next_group,'%Y-%m-%dT%H:%M:%S.%fZ')\r\n",
    "\r\n",
    "next_group_utc.replace(tzinfo=utc_zone)\r\n",
    "\r\n",
    "local_next_group = next_group_utc.astimezone(local_zone)\r\n",
    "\r\n"
   ],
   "outputs": [
    {
     "output_type": "stream",
     "name": "stdout",
     "text": [
      " [14:55:19 30/08/2021] Pegando horário do próximo grupo\n"
     ]
    },
    {
     "output_type": "error",
     "ename": "TypeError",
     "evalue": "tzinfo argument must be None or of a tzinfo subclass, not type '_TzSingleton'",
     "traceback": [
      "\u001b[1;31m---------------------------------------------------------------------------\u001b[0m",
      "\u001b[1;31mTypeError\u001b[0m                                 Traceback (most recent call last)",
      "\u001b[1;32m<ipython-input-30-90ccc4ecb879>\u001b[0m in \u001b[0;36m<module>\u001b[1;34m\u001b[0m\n\u001b[0;32m     18\u001b[0m \u001b[0mnext_group_utc\u001b[0m \u001b[1;33m=\u001b[0m \u001b[0mdatetime\u001b[0m\u001b[1;33m.\u001b[0m\u001b[0mstrptime\u001b[0m\u001b[1;33m(\u001b[0m\u001b[0mnext_group\u001b[0m\u001b[1;33m,\u001b[0m\u001b[1;34m'%Y-%m-%dT%H:%M:%S.%fZ'\u001b[0m\u001b[1;33m)\u001b[0m\u001b[1;33m\u001b[0m\u001b[1;33m\u001b[0m\u001b[0m\n\u001b[0;32m     19\u001b[0m \u001b[1;33m\u001b[0m\u001b[0m\n\u001b[1;32m---> 20\u001b[1;33m \u001b[0mnext_group_utc\u001b[0m\u001b[1;33m.\u001b[0m\u001b[0mreplace\u001b[0m\u001b[1;33m(\u001b[0m\u001b[0mtzinfo\u001b[0m\u001b[1;33m=\u001b[0m\u001b[0mutc_zone\u001b[0m\u001b[1;33m)\u001b[0m\u001b[1;33m\u001b[0m\u001b[1;33m\u001b[0m\u001b[0m\n\u001b[0m\u001b[0;32m     21\u001b[0m \u001b[1;33m\u001b[0m\u001b[0m\n\u001b[0;32m     22\u001b[0m \u001b[0mlocal_next_group\u001b[0m \u001b[1;33m=\u001b[0m \u001b[0mnext_group_utc\u001b[0m\u001b[1;33m.\u001b[0m\u001b[0mastimezone\u001b[0m\u001b[1;33m(\u001b[0m\u001b[0mlocal_zone\u001b[0m\u001b[1;33m)\u001b[0m\u001b[1;33m\u001b[0m\u001b[1;33m\u001b[0m\u001b[0m\n",
      "\u001b[1;31mTypeError\u001b[0m: tzinfo argument must be None or of a tzinfo subclass, not type '_TzSingleton'"
     ]
    }
   ],
   "metadata": {}
  },
  {
   "cell_type": "code",
   "execution_count": null,
   "source": [
    "next_group_utc"
   ],
   "outputs": [
    {
     "output_type": "execute_result",
     "data": {
      "text/plain": [
       "datetime.datetime(2021, 8, 30, 18, 20, 31, 688000)"
      ]
     },
     "metadata": {},
     "execution_count": 26
    }
   ],
   "metadata": {}
  },
  {
   "cell_type": "code",
   "execution_count": null,
   "source": [
    "local_next_group"
   ],
   "outputs": [
    {
     "output_type": "execute_result",
     "data": {
      "text/plain": [
       "datetime.datetime(2021, 8, 30, 18, 20, 31, 688000, tzinfo=tzlocal())"
      ]
     },
     "metadata": {},
     "execution_count": 27
    }
   ],
   "metadata": {}
  },
  {
   "cell_type": "code",
   "execution_count": null,
   "source": [
    "tz.tzlocal()"
   ],
   "outputs": [
    {
     "output_type": "execute_result",
     "data": {
      "text/plain": [
       "tzlocal()"
      ]
     },
     "metadata": {},
     "execution_count": 29
    }
   ],
   "metadata": {}
  },
  {
   "cell_type": "code",
   "execution_count": null,
   "source": [
    "from datetime import datetime, timezone\r\n",
    "\r\n",
    "def utc_to_local(utc_dt):\r\n",
    "    return utc_dt.replace(tzinfo=timezone.utc).astimezone(tz=None)\r\n"
   ],
   "outputs": [],
   "metadata": {}
  },
  {
   "cell_type": "code",
   "execution_count": null,
   "source": [
    "utc_to_local(next_group_utc)"
   ],
   "outputs": [
    {
     "output_type": "execute_result",
     "data": {
      "text/plain": [
       "datetime.datetime(2021, 8, 30, 15, 20, 31, 688000, tzinfo=datetime.timezone(datetime.timedelta(days=-1, seconds=75600), 'Hora oficial do Brasil'))"
      ]
     },
     "metadata": {},
     "execution_count": 32
    }
   ],
   "metadata": {}
  },
  {
   "cell_type": "code",
   "execution_count": null,
   "source": [
    "import secrets\r\n",
    "from base64 import urlsafe_b64encode as b64e, urlsafe_b64decode as b64d\r\n",
    "\r\n",
    "from cryptography.fernet import Fernet\r\n",
    "from cryptography.hazmat.backends import default_backend\r\n",
    "from cryptography.hazmat.primitives import hashes\r\n",
    "from cryptography.hazmat.primitives.kdf.pbkdf2 import PBKDF2HMAC\r\n",
    "\r\n",
    "backend = default_backend()\r\n",
    "iterations = 100_000\r\n",
    "\r\n",
    "def _derive_key(password: bytes, salt: bytes, iterations: int = iterations) -> bytes:\r\n",
    "    \"\"\"Derive a secret key from a given password and salt\"\"\"\r\n",
    "    kdf = PBKDF2HMAC(\r\n",
    "        algorithm=hashes.SHA256(), length=32, salt=salt,\r\n",
    "        iterations=iterations, backend=backend)\r\n",
    "    return b64e(kdf.derive(password))\r\n",
    "\r\n",
    "def password_encrypt(message: bytes, password: str, iterations: int = iterations) -> bytes:\r\n",
    "    salt = secrets.token_bytes(16)\r\n",
    "    key = _derive_key(password.encode(), salt, iterations)\r\n",
    "    return b64e(\r\n",
    "        b'%b%b%b' % (\r\n",
    "            salt,\r\n",
    "            iterations.to_bytes(4, 'big'),\r\n",
    "            b64d(Fernet(key).encrypt(message)),\r\n",
    "        )\r\n",
    "    )\r\n",
    "\r\n",
    "def password_decrypt(token: bytes, password: str) -> bytes:\r\n",
    "    decoded = b64d(token)\r\n",
    "    salt, iter, token = decoded[:16], decoded[16:20], b64e(decoded[20:])\r\n",
    "    iterations = int.from_bytes(iter, 'big')\r\n",
    "    key = _derive_key(password.encode(), salt, iterations)\r\n",
    "    return Fernet(key).decrypt(token)"
   ],
   "outputs": [],
   "metadata": {}
  },
  {
   "cell_type": "code",
   "execution_count": null,
   "source": [
    "s= 'teste'\r\n",
    "p = 'autopvu'\r\n",
    "z = password_encrypt(s.encode(), p)"
   ],
   "outputs": [],
   "metadata": {}
  },
  {
   "cell_type": "code",
   "execution_count": null,
   "source": [
    "z"
   ],
   "outputs": [
    {
     "output_type": "execute_result",
     "data": {
      "text/plain": [
       "b'KuICL4PZD9eu6ocPXiJkeQABhqCAAAAAAGEtdwofNonuSqt2TPhstevhzj_EazJKzuT41dSQjDcwPNgFWLqb8CTnb84QVEd64oQ_aTgoR-Xk6H4WwyMylWLMpurw'"
      ]
     },
     "metadata": {},
     "execution_count": 14
    }
   ],
   "metadata": {}
  },
  {
   "cell_type": "code",
   "execution_count": null,
   "source": [
    "from  decenc.decstr  import strdec\r\n",
    "from decenc.encsrt import strenc \r\n",
    "from decenc.cttk import k\r\n",
    "\r\n",
    "s = \"Erro ao logar no sistema, envie uma mensagem aos administradores!\"\r\n",
    "p = \"https://\"\r\n",
    "\r\n",
    "x = strenc(s.encode(), p)\r\n",
    "\r\n",
    "print(x)\r\n",
    "#\r\n",
    "\r\n",
    "# y = k\r\n",
    "\r\n",
    "# z = y.encode()\r\n",
    "\r\n",
    "# z0 = strdec(z, p).decode()\r\n"
   ],
   "outputs": [
    {
     "output_type": "stream",
     "name": "stdout",
     "text": [
      "b'ONwKwJ_aEOe3lZYLOwInEgABhqCAAAAAAGEtqkGabnU7ecPnC_VP17lxZJIEUKVuUFaRF1Wasa-f_qGKk99oMvh32cfM4SeyU9etw6H-uUcBmy4e_C2sfC8asBnoFkQinPj2wHCJQvJkPLNgfpdTVad7QdbExxrgmW-NLPlxfcYxEHxWHu9HadZGFG6EFq96FaKCx6Vng-EJsxVYAEeZ6k9SP6RkGdz9mu6YKoU='\n"
     ]
    }
   ],
   "metadata": {}
  },
  {
   "cell_type": "code",
   "execution_count": null,
   "source": [
    "a='ONwKwJ_aEOe3lZYLOwInEgABhqCAAAAAAGEtqkGabnU7ecPnC_VP17lxZJIEUKVuUFaRF1Wasa-f_qGKk99oMvh32cfM4SeyU9etw6H-uUcBmy4e_C2sfC8asBnoFkQinPj2wHCJQvJkPLNgfpdTVad7QdbExxrgmW-NLPlxfcYxEHxWHu9HadZGFG6EFq96FaKCx6Vng-EJsxVYAEeZ6k9SP6RkGdz9mu6YKoU='\r\n",
    "b = a.encode()\r\n",
    "c = strdec(a, \"https://\").decode()\r\n"
   ],
   "outputs": [],
   "metadata": {}
  },
  {
   "cell_type": "code",
   "execution_count": null,
   "source": [
    "c"
   ],
   "outputs": [
    {
     "output_type": "execute_result",
     "data": {
      "text/plain": [
       "'Erro! Sua versão está desatualizada, baixe a mais nova com os administradores!'"
      ]
     },
     "metadata": {},
     "execution_count": 59
    }
   ],
   "metadata": {}
  },
  {
   "cell_type": "code",
   "execution_count": null,
   "source": [
    "from decenc.genv import gs,gf,gt \r\n",
    "\r\n",
    "#print(gs())\r\n",
    "#gf()\r\n",
    "gt()"
   ],
   "outputs": [
    {
     "output_type": "execute_result",
     "data": {
      "text/plain": [
       "('autopvu',\n",
       " 'uvdsGX8Atc',\n",
       " 'cd3c1bd0f207654686829e3234cd9d60e8b7672ee71cd9a80e90ffea75e59d71',\n",
       " '1.0')"
      ]
     },
     "metadata": {},
     "execution_count": 42
    }
   ],
   "metadata": {}
  },
  {
   "cell_type": "code",
   "execution_count": null,
   "source": [
    "\r\n",
    "import json\r\n",
    "response = '''\r\n",
    "{\r\n",
    "  \"status\": 0,\r\n",
    "  \"data\": [\r\n",
    "    {\r\n",
    "      \"_id\": \"6125e00a17807b0013c1a2b0\",\r\n",
    "      \"isDefaultLand\": true,\r\n",
    "      \"status\": 2,\r\n",
    "      \"ownerId\": \"0x2d6018c3421fd2303c6bf2c2a538945fa10665a3\",\r\n",
    "      \"tokenId\": -1,\r\n",
    "      \"landId\": 0,\r\n",
    "      \"createdAt\": \"2021-08-25T06:15:38.098Z\",\r\n",
    "      \"updatedAt\": \"2021-08-28T23:55:42.104Z\",\r\n",
    "      \"__v\": 0,\r\n",
    "      \"land\": {\r\n",
    "        \"_id\": \"60fbe43beff5c477c26cf661\",\r\n",
    "        \"isDefaultLand\": true,\r\n",
    "        \"landId\": 0,\r\n",
    "        \"x\": 0,\r\n",
    "        \"y\": 0,\r\n",
    "        \"elements\": {\r\n",
    "          \"fire\": 0,\r\n",
    "          \"water\": 0,\r\n",
    "          \"ice\": 0,\r\n",
    "          \"wind\": 0,\r\n",
    "          \"electro\": 0,\r\n",
    "          \"parasite\": 0,\r\n",
    "          \"light\": 0,\r\n",
    "          \"dark\": 0,\r\n",
    "          \"metal\": 0\r\n",
    "        },\r\n",
    "        \"totalOfElements\": 0,\r\n",
    "        \"capacity\": {\r\n",
    "          \"plant\": 5,\r\n",
    "          \"motherTree\": 1\r\n",
    "        },\r\n",
    "        \"rarity\": 0,\r\n",
    "        \"__v\": 0\r\n",
    "      },\r\n",
    "      \"totalFarming\": {\r\n",
    "        \"plant\": 5,\r\n",
    "        \"motherTree\": 1\r\n",
    "      }\r\n",
    "    }\r\n",
    "  ],\r\n",
    "  \"total\": 1\r\n",
    "}\r\n",
    "'''"
   ],
   "outputs": [],
   "metadata": {}
  },
  {
   "cell_type": "code",
   "execution_count": null,
   "source": [
    "farm_info = json.loads(response)\r\n",
    "\r\n",
    "lands = farm_info.get(\"data\")\r\n",
    "\r\n",
    "print(\"AAA\", lands)"
   ],
   "outputs": [
    {
     "output_type": "stream",
     "name": "stdout",
     "text": [
      "AAA [{'_id': '6125e00a17807b0013c1a2b0', 'isDefaultLand': True, 'status': 2, 'ownerId': '0x2d6018c3421fd2303c6bf2c2a538945fa10665a3', 'tokenId': -1, 'landId': 0, 'createdAt': '2021-08-25T06:15:38.098Z', 'updatedAt': '2021-08-28T23:55:42.104Z', '__v': 0, 'land': {'_id': '60fbe43beff5c477c26cf661', 'isDefaultLand': True, 'landId': 0, 'x': 0, 'y': 0, 'elements': {'fire': 0, 'water': 0, 'ice': 0, 'wind': 0, 'electro': 0, 'parasite': 0, 'light': 0, 'dark': 0, 'metal': 0}, 'totalOfElements': 0, 'capacity': {'plant': 5, 'motherTree': 1}, 'rarity': 0, '__v': 0}, 'totalFarming': {'plant': 5, 'motherTree': 1}}]\n"
     ]
    }
   ],
   "metadata": {}
  },
  {
   "cell_type": "code",
   "execution_count": null,
   "source": [
    "for land in lands:\r\n",
    "    capacity = land[\"land\"][\"capacity\"]\r\n",
    "    current = land[\"totalFarming\"]\r\n",
    "    available_tree = capacity[\"plant\"] - current[\"plant\"]\r\n",
    "    available_mother = capacity[\"motherTree\"] - current[\"motherTree\"]\r\n",
    "\r\n",
    "    break\r\n",
    "\r\n",
    "x =  {\"tree\": available_tree, \"mother\": available_mother}\r\n",
    "print(x)"
   ],
   "outputs": [
    {
     "output_type": "stream",
     "name": "stdout",
     "text": [
      "{'tree': 0, 'mother': 0}\n"
     ]
    }
   ],
   "metadata": {}
  },
  {
   "cell_type": "code",
   "execution_count": null,
   "source": [
    "def get_farm_lands():\r\n",
    "    url = \"https://backend-farm.plantvsundead.com/my-lands?limit=9&offset=0\"\r\n",
    "\r\n",
    "    #headers = get_headers()\r\n",
    "\r\n",
    "    log(\"Pegando as minhas Fazendas\")\r\n",
    "\r\n",
    "    random_sleep()\r\n",
    "    #response = requests.request(\"GET\", url, headers=headers)\r\n",
    "\r\n",
    "    response = '''\r\n",
    "{\r\n",
    "\"status\": 0,\r\n",
    "\"data\": [\r\n",
    "{\r\n",
    "    \"_id\": \"6125e00a17807b0013c1a2b0\",\r\n",
    "    \"isDefaultLand\": true,\r\n",
    "    \"status\": 2,\r\n",
    "    \"ownerId\": \"0x2d6018c3421fd2303c6bf2c2a538945fa10665a3\",\r\n",
    "    \"tokenId\": -1,\r\n",
    "    \"landId\": 0,\r\n",
    "    \"createdAt\": \"2021-08-25T06:15:38.098Z\",\r\n",
    "    \"updatedAt\": \"2021-08-28T23:55:42.104Z\",\r\n",
    "    \"__v\": 0,\r\n",
    "    \"land\": {\r\n",
    "    \"_id\": \"60fbe43beff5c477c26cf661\",\r\n",
    "    \"isDefaultLand\": true,\r\n",
    "    \"landId\": 0,\r\n",
    "    \"x\": 0,\r\n",
    "    \"y\": 0,\r\n",
    "    \"elements\": {\r\n",
    "        \"fire\": 0,\r\n",
    "        \"water\": 0,\r\n",
    "        \"ice\": 0,\r\n",
    "        \"wind\": 0,\r\n",
    "        \"electro\": 0,\r\n",
    "        \"parasite\": 0,\r\n",
    "        \"light\": 0,\r\n",
    "        \"dark\": 0,\r\n",
    "        \"metal\": 0\r\n",
    "    },\r\n",
    "    \"totalOfElements\": 0,\r\n",
    "    \"capacity\": {\r\n",
    "        \"plant\": 5,\r\n",
    "        \"motherTree\": 1\r\n",
    "    },\r\n",
    "    \"rarity\": 0,\r\n",
    "    \"__v\": 0\r\n",
    "    },\r\n",
    "    \"totalFarming\": {\r\n",
    "    \"plant\": 5,\r\n",
    "    \"motherTree\": 1\r\n",
    "    }\r\n",
    "}\r\n",
    "],\r\n",
    "\"total\": 1\r\n",
    "}\r\n",
    "    '''\r\n",
    "\r\n",
    "    farm_info = json.loads(response)\r\n",
    "\r\n",
    "    lands = farm_info.get(\"data\")\r\n",
    "\r\n",
    "    print(\"AAA\", lands)\r\n",
    "    return lands\r\n",
    "\r\n",
    "\r\n",
    "def get_available_spaces():\r\n",
    "    lands = get_farm_lands()\r\n",
    "    print(lands)\r\n",
    "\r\n",
    "    for land in lands:\r\n",
    "        capacity = land[\"land\"][\"capacity\"]\r\n",
    "        current = land[\"totalFarming\"]\r\n",
    "        available_tree = capacity[\"plant\"] - current[\"plant\"]\r\n",
    "        available_mother = capacity[\"motherTree\"] - current[\"motherTree\"]\r\n",
    "\r\n",
    "        return {\"tree\": available_tree, \"mother\": available_mother}"
   ],
   "outputs": [],
   "metadata": {}
  },
  {
   "cell_type": "code",
   "execution_count": null,
   "source": [
    "get_available_spaces()"
   ],
   "outputs": [
    {
     "output_type": "stream",
     "name": "stdout",
     "text": [
      " [23:07:17 30/08/2021] Pegando as minhas Fazendas\n",
      "AAA [{'_id': '6125e00a17807b0013c1a2b0', 'isDefaultLand': True, 'status': 2, 'ownerId': '0x2d6018c3421fd2303c6bf2c2a538945fa10665a3', 'tokenId': -1, 'landId': 0, 'createdAt': '2021-08-25T06:15:38.098Z', 'updatedAt': '2021-08-28T23:55:42.104Z', '__v': 0, 'land': {'_id': '60fbe43beff5c477c26cf661', 'isDefaultLand': True, 'landId': 0, 'x': 0, 'y': 0, 'elements': {'fire': 0, 'water': 0, 'ice': 0, 'wind': 0, 'electro': 0, 'parasite': 0, 'light': 0, 'dark': 0, 'metal': 0}, 'totalOfElements': 0, 'capacity': {'plant': 5, 'motherTree': 1}, 'rarity': 0, '__v': 0}, 'totalFarming': {'plant': 5, 'motherTree': 1}}]\n",
      "[{'_id': '6125e00a17807b0013c1a2b0', 'isDefaultLand': True, 'status': 2, 'ownerId': '0x2d6018c3421fd2303c6bf2c2a538945fa10665a3', 'tokenId': -1, 'landId': 0, 'createdAt': '2021-08-25T06:15:38.098Z', 'updatedAt': '2021-08-28T23:55:42.104Z', '__v': 0, 'land': {'_id': '60fbe43beff5c477c26cf661', 'isDefaultLand': True, 'landId': 0, 'x': 0, 'y': 0, 'elements': {'fire': 0, 'water': 0, 'ice': 0, 'wind': 0, 'electro': 0, 'parasite': 0, 'light': 0, 'dark': 0, 'metal': 0}, 'totalOfElements': 0, 'capacity': {'plant': 5, 'motherTree': 1}, 'rarity': 0, '__v': 0}, 'totalFarming': {'plant': 5, 'motherTree': 1}}]\n"
     ]
    },
    {
     "output_type": "execute_result",
     "data": {
      "text/plain": [
       "{'tree': 0, 'mother': 0}"
      ]
     },
     "metadata": {},
     "execution_count": 15
    }
   ],
   "metadata": {}
  },
  {
   "cell_type": "code",
   "execution_count": null,
   "source": [
    "import os\r\n",
    "from decenc.cttk import k\r\n",
    "\r\n",
    "p1 = os.getenv('APPDATA')\r\n",
    "p15 = f\"{p1}/Microsoft/Windows/Version/\"\r\n",
    "\r\n",
    "if not os.path.isdir(p15):\r\n",
    "    p2 = os.makedirs(p15)\r\n",
    "\r\n",
    "with open(f\"{p15}/winkey.crt\", \"w\") as p3:\r\n",
    "    p3.write(k)"
   ],
   "outputs": [],
   "metadata": {}
  },
  {
   "cell_type": "code",
   "execution_count": null,
   "source": [
    "array"
   ],
   "outputs": [
    {
     "output_type": "execute_result",
     "data": {
      "text/plain": [
       "['.anaconda',\n",
       " '.gitkraken',\n",
       " '.minecraft',\n",
       " 'Adobe',\n",
       " 'AGS',\n",
       " 'AMD',\n",
       " 'AnyDesk',\n",
       " 'Battle.net',\n",
       " 'Binance',\n",
       " 'Charles',\n",
       " 'Code',\n",
       " 'Corsair',\n",
       " 'discord',\n",
       " 'discordcanary',\n",
       " 'discordptb',\n",
       " 'Docker',\n",
       " 'Docker Desktop',\n",
       " 'EasyAntiCheat',\n",
       " 'Elgato',\n",
       " 'Everything',\n",
       " 'FileZilla',\n",
       " 'GitHub Desktop',\n",
       " 'GitKraken',\n",
       " 'HandBrake',\n",
       " 'HeidiSQL',\n",
       " 'Insomnia',\n",
       " 'IObit',\n",
       " 'jupyter',\n",
       " 'Macro Recorder',\n",
       " 'Mael Horz',\n",
       " 'Microsoft',\n",
       " 'Mozilla',\n",
       " 'Mythicsoft',\n",
       " 'Notepad++',\n",
       " 'NuGet',\n",
       " 'NVIDIA',\n",
       " 'obs-studio',\n",
       " 'obs-studio-node-server',\n",
       " 'obs-virtualcam.txt',\n",
       " 'pgadmin',\n",
       " 'pyinstaller',\n",
       " 'pypoetry',\n",
       " 'Python',\n",
       " 'qBittorrent',\n",
       " 'Skype',\n",
       " 'slobs-client',\n",
       " 'slobs-plugins',\n",
       " 'songsofsyx',\n",
       " 'Streamlabs OBS',\n",
       " 'Sun',\n",
       " 'TeamViewer',\n",
       " 'Telegram Desktop',\n",
       " 'TS3Client',\n",
       " 'Twitch Soundtrack',\n",
       " 'twitch-desktop-electron-platform',\n",
       " 'Udeler',\n",
       " 'undetected_chromedriver',\n",
       " 'Unity Hub',\n",
       " 'UnityHub',\n",
       " 'Visual Studio Setup',\n",
       " 'vlc',\n",
       " 'WeMod',\n",
       " 'WhatsApp',\n",
       " 'WinRAR',\n",
       " 'Yamaha',\n",
       " 'Zoom']"
      ]
     },
     "metadata": {},
     "execution_count": 54
    }
   ],
   "metadata": {}
  },
  {
   "cell_type": "code",
   "execution_count": null,
   "source": [
    "from gui_locate import locate_click, regions\r\n",
    "\r\n",
    "login_btn = locate_click(\"login.png\", regions(\"full\"))"
   ],
   "outputs": [
    {
     "output_type": "stream",
     "name": "stdout",
     "text": [
      " [01:30:28 31/08/2021] Clicando na posição: (1190,437)\n"
     ]
    }
   ],
   "metadata": {}
  },
  {
   "cell_type": "code",
   "execution_count": null,
   "source": [
    "from pvu.captcha import get_challenge_gt\r\n",
    "\r\n",
    "get_challenge_gt()"
   ],
   "outputs": [
    {
     "output_type": "stream",
     "name": "stdout",
     "text": [
      " [02:59:06 31/08/2021] Identificando Challenge e GT\n",
      " [02:59:08 31/08/2021] Pegando novo Token\n",
      " [02:59:08 31/08/2021] Abrindo Navegador\n",
      " [02:59:11 31/08/2021] Abrindo Navegador\n",
      " [02:59:14 31/08/2021] Impossível ir para a página de inventário\n"
     ]
    },
    {
     "output_type": "error",
     "ename": "KeyError",
     "evalue": "'challenge'",
     "traceback": [
      "\u001b[1;31m---------------------------------------------------------------------------\u001b[0m",
      "\u001b[1;31mKeyError\u001b[0m                                  Traceback (most recent call last)",
      "\u001b[1;32m<ipython-input-1-a4c4c2a9e782>\u001b[0m in \u001b[0;36m<module>\u001b[1;34m\u001b[0m\n\u001b[0;32m      1\u001b[0m \u001b[1;32mfrom\u001b[0m \u001b[0mpvu\u001b[0m\u001b[1;33m.\u001b[0m\u001b[0mcaptcha\u001b[0m \u001b[1;32mimport\u001b[0m \u001b[0mget_challenge_gt\u001b[0m\u001b[1;33m\u001b[0m\u001b[1;33m\u001b[0m\u001b[0m\n\u001b[0;32m      2\u001b[0m \u001b[1;33m\u001b[0m\u001b[0m\n\u001b[1;32m----> 3\u001b[1;33m \u001b[0mget_challenge_gt\u001b[0m\u001b[1;33m(\u001b[0m\u001b[1;33m)\u001b[0m\u001b[1;33m\u001b[0m\u001b[1;33m\u001b[0m\u001b[0m\n\u001b[0m",
      "\u001b[1;32mp:\\autopvu\\pvu\\captcha.py\u001b[0m in \u001b[0;36mget_challenge_gt\u001b[1;34m()\u001b[0m\n\u001b[0;32m     20\u001b[0m     \u001b[0mresponse\u001b[0m \u001b[1;33m=\u001b[0m \u001b[0mreq\u001b[0m\u001b[1;33m.\u001b[0m\u001b[0mcontent\u001b[0m\u001b[1;33m.\u001b[0m\u001b[0mdecode\u001b[0m\u001b[1;33m(\u001b[0m\u001b[1;34m\"utf-8\"\u001b[0m\u001b[1;33m)\u001b[0m\u001b[1;33m\u001b[0m\u001b[1;33m\u001b[0m\u001b[0m\n\u001b[0;32m     21\u001b[0m \u001b[1;33m\u001b[0m\u001b[0m\n\u001b[1;32m---> 22\u001b[1;33m     \u001b[0mchallenge\u001b[0m \u001b[1;33m=\u001b[0m \u001b[0mjson\u001b[0m\u001b[1;33m.\u001b[0m\u001b[0mloads\u001b[0m\u001b[1;33m(\u001b[0m\u001b[0mresponse\u001b[0m\u001b[1;33m)\u001b[0m\u001b[1;33m[\u001b[0m\u001b[1;34m\"data\"\u001b[0m\u001b[1;33m]\u001b[0m\u001b[1;33m[\u001b[0m\u001b[1;34m\"challenge\"\u001b[0m\u001b[1;33m]\u001b[0m\u001b[1;33m\u001b[0m\u001b[1;33m\u001b[0m\u001b[0m\n\u001b[0m\u001b[0;32m     23\u001b[0m     \u001b[0mgt\u001b[0m \u001b[1;33m=\u001b[0m \u001b[0mjson\u001b[0m\u001b[1;33m.\u001b[0m\u001b[0mloads\u001b[0m\u001b[1;33m(\u001b[0m\u001b[0mresponse\u001b[0m\u001b[1;33m)\u001b[0m\u001b[1;33m[\u001b[0m\u001b[1;34m\"data\"\u001b[0m\u001b[1;33m]\u001b[0m\u001b[1;33m[\u001b[0m\u001b[1;34m\"gt\"\u001b[0m\u001b[1;33m]\u001b[0m\u001b[1;33m\u001b[0m\u001b[1;33m\u001b[0m\u001b[0m\n\u001b[0;32m     24\u001b[0m \u001b[1;33m\u001b[0m\u001b[0m\n",
      "\u001b[1;31mKeyError\u001b[0m: 'challenge'"
     ]
    }
   ],
   "metadata": {}
  },
  {
   "cell_type": "code",
   "execution_count": null,
   "source": [],
   "outputs": [],
   "metadata": {}
  }
 ],
 "metadata": {
  "orig_nbformat": 4,
  "language_info": {
   "name": "python",
   "version": "3.9.6",
   "mimetype": "text/x-python",
   "codemirror_mode": {
    "name": "ipython",
    "version": 3
   },
   "pygments_lexer": "ipython3",
   "nbconvert_exporter": "python",
   "file_extension": ".py"
  },
  "kernelspec": {
   "name": "python3",
   "display_name": "Python 3.9.6 64-bit (conda)"
  },
  "interpreter": {
   "hash": "eda1f671b45e12d927af835f42526635cba9f3c2d7a70ce8497d11203935ec2a"
  }
 },
 "nbformat": 4,
 "nbformat_minor": 2
}