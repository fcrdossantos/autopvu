{
 "cells": [
  {
   "cell_type": "code",
   "execution_count": 40,
   "source": [
    "import browser\r\n",
    "browser.close_browser()\r\n",
    "\r\n",
    "import main"
   ],
   "outputs": [
    {
     "output_type": "stream",
     "name": "stdout",
     "text": [
      "|| Carregando o ambiente (.env)\n",
      "|| Lendo o HWID correto\n",
      "|| HWID Alterado com sucesso!\n",
      "|| Abrindo Navegador\n"
     ]
    },
    {
     "output_type": "stream",
     "name": "stderr",
     "text": [
      "127.0.0.1:61570: request\n",
      "  -> HTTP protocol error in client request: Bad HTTP request line: b')\\x02\\x97\\x01'\n"
     ]
    },
    {
     "output_type": "stream",
     "name": "stdout",
     "text": [
      "|| Não minimize outro mude a aba do navegador ainda!!!\n",
      "|| Abrindo o MetaMask\n",
      "|| Clicando na posição: (1802,52)\n",
      "|| Digitando a senha\n",
      "|| Desbloqueando MetaMask\n",
      "|| Clicando na posição: (1629,577)\n",
      "|| Ocultando a extensão do MetaMask!\n",
      "|| Clicando na posição: (1802,52)\n"
     ]
    },
    {
     "output_type": "stream",
     "name": "stderr",
     "text": [
      "127.0.0.1:54672: request\n",
      "  -> HTTP protocol error in client request: Bad HTTP request line: b')\\x02\\xad\\x01'\n"
     ]
    },
    {
     "output_type": "stream",
     "name": "stdout",
     "text": [
      "|| Inicializando o bot\n",
      "|| Aguarde até 10 segundos\n",
      "|| Verificando Jogo e Login\n",
      "|| Já está logado na conta!\n",
      "|| Vamos iniciar as rotinas do jogo\n",
      "|| Pronto! Você já pode minimizar ou mudar a aba do navegador\n"
     ]
    }
   ],
   "metadata": {}
  },
  {
   "cell_type": "code",
   "execution_count": 44,
   "source": [
    "%load_ext autoreload\r\n",
    "%autoreload 2"
   ],
   "outputs": [],
   "metadata": {}
  },
  {
   "cell_type": "code",
   "execution_count": null,
   "source": [
    "# properties:\r\n",
    "# type             => str   [tools, sunflowers]\r\n",
    "# id               => int   [...]\r\n",
    "# usage            => int   [...]\r\n",
    "# price            => int   [...]\r\n",
    "# name             => str   [...]\r\n",
    "# min_amount       => int   [...]\r\n",
    "# current_amount   => int   [...]\r\n",
    "\r\n",
    "# requests:\r\n",
    "# store | tools        => https://backend-farm.plantvsundead.com/available-tools\r\n",
    "# store | sunflowers   => https://backend-farm.plantvsundead.com/sunflowers\r\n",
    "# user  | tools        => https://backend-farm.plantvsundead.com/my-tools\r\n",
    "# user  | sunflowers   => https://backend-farm.plantvsundead.com/my-sunflowers\r\n",
    "\r\n",
    "# currency:\r\n",
    "# name      => str  [PVU, LE]\r\n",
    "# amount    => int  [...]"
   ],
   "outputs": [],
   "metadata": {}
  },
  {
   "cell_type": "code",
   "execution_count": 49,
   "source": [
    "from pvu.farm import get_available_spaces, get_farm_lands\r\n",
    "\r\n",
    "x = get_available_spaces()\r\n",
    "y = get_farm_lands()\r\n",
    "\r\n",
    "print(x)\r\n",
    "print(y)"
   ],
   "outputs": [
    {
     "output_type": "stream",
     "name": "stdout",
     "text": [
      "|| Pegando as minhas Sunflowers\n",
      "|| Pegando as minhas Sunflowers\n",
      "{'tree': 0, 'mother': 0}\n",
      "[{'_id': '612009d94803690019f5dd7a', 'isDefaultLand': True, 'status': 2, 'ownerId': '0x4c552f298c397535346b179779bab49326cf058d', 'tokenId': -1, 'landId': 0, 'createdAt': '2021-08-20T20:00:25.155Z', 'updatedAt': '2021-08-27T03:23:37.198Z', '__v': 0, 'land': {'_id': '60fbe43beff5c477c26cf661', 'isDefaultLand': True, 'landId': 0, 'x': 0, 'y': 0, 'elements': {'fire': 0, 'water': 0, 'ice': 0, 'wind': 0, 'electro': 0, 'parasite': 0, 'light': 0, 'dark': 0, 'metal': 0}, 'totalOfElements': 0, 'capacity': {'plant': 5, 'motherTree': 1}, 'rarity': 0, '__v': 0}, 'totalFarming': {'plant': 5, 'motherTree': 1}}]\n"
     ]
    }
   ],
   "metadata": {}
  },
  {
   "cell_type": "code",
   "execution_count": 48,
   "source": [
    "from pvu.farm import get_available_spaces\r\n",
    "\r\n",
    "get_available_spaces()"
   ],
   "outputs": [
    {
     "output_type": "stream",
     "name": "stdout",
     "text": [
      "|| Pegando as minhas Sunflowers\n"
     ]
    },
    {
     "output_type": "execute_result",
     "data": {
      "text/plain": [
       "{'tree': 0, 'mother': 0}"
      ]
     },
     "metadata": {},
     "execution_count": 48
    }
   ],
   "metadata": {}
  },
  {
   "cell_type": "code",
   "execution_count": 51,
   "source": [
    "from pvu.game import harvest_plants\r\n",
    "\r\n",
    "harvest_plants()"
   ],
   "outputs": [
    {
     "output_type": "stream",
     "name": "stdout",
     "text": [
      "|| Iniciando a rotina de colher plantas\n",
      "|| Coletando as informações das plantas\n",
      "|| Coletando as informações da fazenda\n",
      "|| Colhendo a planta: 61244e74a8d26300144e46fc\n",
      "|| A planta ainda não pode mais ser colhida: 61244e74a8d26300144e46fc\n",
      "|| Removendo a planta: 61244e74a8d26300144e46fc\n",
      "|| Sucesso ao remover a planta: 61244e74a8d26300144e46fc\n",
      "|| Colhendo a planta: 61244e76e8dc01001484892c\n",
      "|| A planta ainda não pode mais ser colhida: 61244e76e8dc01001484892c\n",
      "|| Removendo a planta: 61244e76e8dc01001484892c\n",
      "|| Sucesso ao remover a planta: 61244e76e8dc01001484892c\n",
      "|| Planta 61285ab9ea4ed700135ebe3e foi colhida\n",
      "|| Fim da rotina de colher plantas\n"
     ]
    }
   ],
   "metadata": {}
  },
  {
   "cell_type": "code",
   "execution_count": 53,
   "source": [
    "from pvu.game import add_plants\r\n",
    "\r\n",
    "add_plants()"
   ],
   "outputs": [
    {
     "output_type": "stream",
     "name": "stdout",
     "text": [
      "|| Iniciando rotina de adicionar novas plantas\n",
      "|| Pegando as minhas Sunflowers\n",
      "|| Adicionando uma planta Sunflower Sapling\n",
      "|| Sucesso ao adicionar a planta:\n",
      "|| Iniciando a rotina de colocar vasos nas plantas\n",
      "|| Coletando as informações das plantas\n",
      "|| Coletando as informações da fazenda\n",
      "|| Planta 612825bcea2bd700125c53a0 não precisa de vasos\n",
      "|| Planta 61285ab258a0ad00141a7788 não precisa de vasos\n",
      "|| Planta 61285ab6fbfb12001be9844b não precisa de vasos\n",
      "|| Planta 61285ab9ea4ed700135ebe3e não precisa de vasos\n",
      "|| Planta 61287a9b3b198000124eae80 não precisa de vasos\n",
      "|| A planta é nova e precisa de um vaso\n",
      "|| Colocando pote na planta: 61287b351f9e9000140c9cbb\n",
      "|| Tentativa 1/5 de solucionar o captcha\n",
      "|| Enviando Captcha para ser resolvido\n",
      "|| Identificando Challenge e GT\n",
      "|| Tentando solucionar o captcha\n",
      "|| Sucesso ao solucionar o captcha!\n",
      "|| Enviando resultado do captcha\n",
      "|| Sucesso ao colocar o vaso na planta: 61287b351f9e9000140c9cbb\n",
      "|| || Fim da rotina de colocar vasos\n",
      "|| Iniciando a rotina de regar plantas\n",
      "|| Coletando as informações das plantas\n",
      "|| Coletando as informações da fazenda\n",
      "|| Planta 612825bcea2bd700125c53a0 terminou de ser regada\n",
      "|| Planta 61285ab258a0ad00141a7788 terminou de ser regada\n",
      "|| Planta 61285ab6fbfb12001be9844b terminou de ser regada\n",
      "|| Planta 61285ab9ea4ed700135ebe3e terminou de ser regada\n",
      "|| Planta 61287a9b3b198000124eae80 terminou de ser regada\n",
      "|| Aguando a planta: 61287b351f9e9000140c9cbb\n",
      "|| Tentativa 1/5 de solucionar o captcha\n",
      "|| Enviando Captcha para ser resolvido\n",
      "|| Identificando Challenge e GT\n",
      "|| Tentando solucionar o captcha\n",
      "|| Sucesso ao solucionar o captcha!\n",
      "|| Enviando resultado do captcha\n",
      "|| Sucesso ao regar a planta: 61287b351f9e9000140c9cbb\n",
      "|| Aguando a planta: 61287b351f9e9000140c9cbb\n",
      "|| Tentativa 1/5 de solucionar o captcha\n",
      "|| Enviando Captcha para ser resolvido\n",
      "|| Identificando Challenge e GT\n",
      "|| Tentando solucionar o captcha\n",
      "|| Sucesso ao solucionar o captcha!\n",
      "|| Enviando resultado do captcha\n",
      "|| Sucesso ao regar a planta: 61287b351f9e9000140c9cbb\n",
      "|| Planta 61287b351f9e9000140c9cbb terminou de ser regada\n",
      "|| Fim da rotina de regar plantas\n",
      "|| Fim da rotina de adicionar novas plantas\n"
     ]
    }
   ],
   "metadata": {}
  },
  {
   "cell_type": "code",
   "execution_count": 54,
   "source": [
    "from pvu.items import get_items\r\n",
    "\r\n",
    "print(get_items())"
   ],
   "outputs": [
    {
     "output_type": "stream",
     "name": "stdout",
     "text": [
      "|| Carregando o ambiente (.env)\n",
      "|| Lendo o HWID correto\n",
      "|| HWID Alterado com sucesso!\n",
      "|| Não minimize outro mude a aba do navegador ainda!!!\n",
      "|| Abrindo o MetaMask\n",
      "|| Clicando na posição: (1802,52)\n",
      "|| Digitando a senha\n",
      "|| Desbloqueando MetaMask\n",
      "|| Não achamos o botão para desbloquear o MetaMask!\n",
      "|| Desbloqueie o MetaMask manualmente\n",
      "|| Após isso, pressione [ENTER] (aqui) continuar\n",
      "|| Inicializando o bot\n",
      "|| Aguarde até 10 segundos\n",
      "|| Verificando Jogo e Login\n",
      "|| Já está logado na conta!\n",
      "|| Vamos iniciar as rotinas do jogo\n",
      "|| Pronto! Você já pode minimizar ou mudar a aba do navegador\n",
      "|| Pegando todas as ferramentas disponíveis\n",
      "|| Pegando todas as minhas ferramentas\n",
      "|| Pegando todas as Sunflowers disponíveis\n",
      "|| Pegando as minhas Sunflowers\n",
      "[{'name': 'Small Pot', 'id': 1, '_type': 'tool', 'price': 50, 'buy_amount': 1, 'min_amount': 6, 'current_amount': 0}, {'name': 'Big Pot', 'id': 2, '_type': 'tool', 'price': 100, 'buy_amount': 1, 'min_amount': 0, 'current_amount': 0}, {'name': 'Water', 'id': 3, '_type': 'tool', 'price': 50, 'buy_amount': 1, 'min_amount': 50, 'current_amount': 195}, {'name': 'Scarecrow', 'id': 4, '_type': 'tool', 'price': 20, 'buy_amount': 1, 'min_amount': 10, 'current_amount': 57}, {'name': 'Greenhouse', 'id': 5, '_type': 'tool', 'price': 10, 'buy_amount': 1, 'min_amount': 0, 'current_amount': 0}, {'name': 'Sunflower Sapling', 'id': 1, '_type': 'sunflower', 'price': 100, 'buy_amount': 1, 'min_amount': 6, 'current_amount': 0}, {'name': 'Sunflower mama', 'id': 2, '_type': 'sunflower', 'price': 200, 'buy_amount': 1, 'min_amount': 1, 'current_amount': 1}]\n"
     ]
    }
   ],
   "metadata": {}
  },
  {
   "cell_type": "code",
   "execution_count": 88,
   "source": [
    "import math\r\n",
    "import requests \r\n",
    "from pvu.utils import get_headers, random_sleep\r\n",
    "\r\n",
    "def buy_item(item, buy_times):\r\n",
    "    item_id = item['id']\r\n",
    "\r\n",
    "    print(f\"|| Vou comprar {item['name']} {buy_times} vezes\")\r\n",
    "\r\n",
    "    if item['type'] == 'tool':\r\n",
    "        url = \"https://backend-farm.plantvsundead.com/buy-tools\"\r\n",
    "        payload = {'amount': buy_times, 'toolId': item_id}\r\n",
    "    else:\r\n",
    "        url = \"https://backend-farm.plantvsundead.com/buy-sunflowers\"\r\n",
    "        payload = {'amount': buy_times, 'sunflowerId': item_id}\r\n",
    "\r\n",
    "    print(f\"|| Sucesso ao comprar {item['name']}\")\r\n",
    "\r\n",
    "    headers = get_headers()\r\n",
    "\r\n",
    "    random_sleep()\r\n",
    "    response = requests.request(\"POST\", url, json=payload, headers=headers)\r\n",
    "\r\n",
    "    print(response.text)\r\n",
    "\r\n",
    "    if '\"status\":0' in response.text:\r\n",
    "        print(\"|| Sucesso ao adicionar a planta:\")\r\n",
    "    elif '\"status\":14' in response.text:\r\n",
    "        print(\"|| Você está no limite de plantas\")\r\n",
    "    else:\r\n",
    "        print(\"|| Erro ao adicionar a planta\")\r\n",
    "        print(\"|| => Resposta:\", response.text)\r\n",
    "        print(\"|| Tentarei novamente!\")\r\n",
    "        return False\r\n",
    "\r\n",
    "    return True\r\n",
    "    \r\n",
    "\r\n",
    "def buy_items():\r\n",
    "    print(\"|| Iniciando a rotina de comprar itens\")\r\n",
    "    items = get_items()\r\n",
    "\r\n",
    "    for item in items:\r\n",
    "        current_amount = item['current_amount']\r\n",
    "        min_amount = item['min_amount']\r\n",
    "\r\n",
    "        if current_amount < min_amount:\r\n",
    "            buy_amount = min_amount - current_amount\r\n",
    "            buy_times =  math.ceil(buy_amount / item['buy_amount'] )\r\n",
    "\r\n",
    "            print(f\"|| Precisa comprar {item['name']} temos {current_amount} de {min_amount}\")\r\n",
    "\r\n",
    "            buy_item(item, buy_times)\r\n",
    "\r\n",
    "            \r\n",
    "    print(\"|| Fim da rotina de comprar itens\")"
   ],
   "outputs": [],
   "metadata": {}
  },
  {
   "cell_type": "code",
   "execution_count": 89,
   "source": [
    "buy_items()"
   ],
   "outputs": [
    {
     "output_type": "stream",
     "name": "stdout",
     "text": [
      "|| Iniciando a rotina de comprar itens\n",
      "|| Pegando todas as ferramentas disponíveis\n",
      "|| Pegando todas as minhas ferramentas\n",
      "|| Pegando todas as Sunflowers disponíveis\n",
      "|| Pegando as minhas Sunflowers\n",
      "|| Precisa comprar Small Pot temos 2 de 6\n",
      "|| Vou comprar Small Pot 1 vezes\n",
      "|| Sucesso ao comprar Small Pot\n",
      "{\"status\":0,\"data\":{\"amount\":4,\"toolId\":1}}\n",
      "|| Sucesso ao adicionar a planta:\n",
      "|| Precisa comprar Sunflower Sapling temos 1 de 6\n",
      "|| Vou comprar Sunflower Sapling 1 vezes\n",
      "|| Sucesso ao comprar Sunflower Sapling\n",
      "{\"status\":0,\"data\":{\"quantity\":5,\"sunflowerId\":1,\"type\":\"SAPLING\"}}\n",
      "|| Sucesso ao adicionar a planta:\n",
      "|| Fim da rotina de comprar itens\n"
     ]
    },
    {
     "output_type": "stream",
     "name": "stderr",
     "text": [
      "127.0.0.1:54214: request\n",
      "  -> HTTP protocol error in client request: Bad HTTP request line: b')\\x02\\xc7\\x02'\n"
     ]
    }
   ],
   "metadata": {}
  },
  {
   "cell_type": "code",
   "execution_count": 91,
   "source": [
    "from pvu.store import buy_items as bi\r\n",
    "\r\n",
    "bi()"
   ],
   "outputs": [
    {
     "output_type": "stream",
     "name": "stdout",
     "text": [
      "|| Iniciando a rotina de comprar itens\n"
     ]
    }
   ],
   "metadata": {}
  },
  {
   "cell_type": "code",
   "execution_count": 85,
   "source": [
    "\r\n",
    "\r\n",
    "for item in items:\r\n",
    "    current_amount = item['current_amount']\r\n",
    "    min_amount = item['min_amount']\r\n",
    "\r\n",
    "    if current_amount < min_amount:\r\n",
    "        buy_amount = min_amount - current_amount\r\n",
    "        buy_times =  math.ceil(buy_amount / item['buy_amount'] )\r\n",
    "\r\n",
    "        (print(f\"|| Precisa comprar {item['name']} temos {current_amount} de {min_amount}\"))\r\n",
    "        print(\"buy_times\", buy_times)\r\n",
    "        #buy_item(item, buy_times)"
   ],
   "outputs": [
    {
     "output_type": "stream",
     "name": "stdout",
     "text": [
      "|| Precisa comprar Small Pot temos 0 de 6\n",
      "buy_times 6\n",
      "a\n",
      "|| Precisa comprar Water temos 195 de 414\n",
      "buy_times 3\n",
      "|| Precisa comprar Scarecrow temos 57 de 123\n",
      "buy_times 4\n",
      "|| Precisa comprar Sunflower Sapling temos 0 de 6\n",
      "buy_times 6\n"
     ]
    }
   ],
   "metadata": {}
  },
  {
   "cell_type": "code",
   "execution_count": null,
   "source": [],
   "outputs": [],
   "metadata": {}
  }
 ],
 "metadata": {
  "orig_nbformat": 4,
  "language_info": {
   "name": "python",
   "version": "3.9.6",
   "mimetype": "text/x-python",
   "codemirror_mode": {
    "name": "ipython",
    "version": 3
   },
   "pygments_lexer": "ipython3",
   "nbconvert_exporter": "python",
   "file_extension": ".py"
  },
  "kernelspec": {
   "name": "python3",
   "display_name": "Python 3.9.6 64-bit (conda)"
  },
  "interpreter": {
   "hash": "eda1f671b45e12d927af835f42526635cba9f3c2d7a70ce8497d11203935ec2a"
  }
 },
 "nbformat": 4,
 "nbformat_minor": 2
}