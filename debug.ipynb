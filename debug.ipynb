{
 "cells": [
  {
   "cell_type": "markdown",
   "source": [
    "Configura para sempre reimportar os módulos (para caso você edite alguma rotina mais de uma vez direto na fonte dela)"
   ],
   "metadata": {}
  },
  {
   "cell_type": "code",
   "execution_count": 1,
   "source": [
    "%load_ext autoreload\r\n",
    "%autoreload 2"
   ],
   "outputs": [],
   "metadata": {}
  },
  {
   "cell_type": "markdown",
   "source": [
    "Abre o navegador e inicia o debug.\r\n",
    "\r\n",
    "PS: Lembre-se de ativar o debug no .env"
   ],
   "metadata": {}
  },
  {
   "cell_type": "code",
   "execution_count": 2,
   "source": [
    "import os\r\n",
    "import sys\r\n",
    "import time\r\n",
    "from threading import Thread\r\n",
    "import traceback\r\n",
    "import dotenv\r\n",
    "import browser\r\n",
    "import metamask\r\n",
    "import admin\r\n",
    "from hwid import set_hwid, clear_hwid, check_hwid_clean, CHECK\r\n",
    "from pvu.game import play_game\r\n",
    "from pvu.login import login\r\n",
    "from pvu.utils import random_sleep\r\n",
    "from logs import log\r\n",
    "\r\n",
    "from pvu.maintenance import wait_maintenance\r\n",
    "from pvu.farm import (\r\n",
    "    water_plants,\r\n",
    "    remove_crows,\r\n",
    "    use_pots,\r\n",
    "    harvest_plants,\r\n",
    "    add_plants,\r\n",
    ")\r\n",
    "from pvu.daily import do_daily\r\n",
    "from pvu.user import get_user_info\r\n",
    "from pvu.utils import random_sleep\r\n",
    "from pvu.store import buy_items\r\n",
    "from logs import log\r\n",
    "from pvu.captcha import get_challenge_gt, get_captcha_result\r\n",
    "\r\n",
    "browser.BROWSER = None\r\n",
    "\r\n",
    "try:\r\n",
    "    log(\"Carregando o ambiente (.env)\")\r\n",
    "    dotenv.load_dotenv()\r\n",
    "\r\n",
    "    if os.getenv(\"SET_HWID\", \"False\").lower() in (\"true\", \"1\"):\r\n",
    "        set_hwid()\r\n",
    "\r\n",
    "    random_sleep()\r\n",
    "    driver = browser.get_browser(new=True)\r\n",
    "    log(\"Não minimize outro mude a aba do navegador ainda!!!\")\r\n",
    "\r\n",
    "    random_sleep()\r\n",
    "    metamask.login()\r\n",
    "\r\n",
    "    try:\r\n",
    "        if driver is not None:\r\n",
    "            driver.get(\"https://marketplace.plantvsundead.com/farm#/\")\r\n",
    "    except:\r\n",
    "        log(\"Impossível acessar a página principal do jogo\")\r\n",
    "\r\n",
    "    random_sleep(min_time=1)\r\n",
    "\r\n",
    "    log(\"Inicializando o bot\")\r\n",
    "\r\n",
    "    login()\r\n",
    "\r\n",
    "    log(\"Pronto! Você já pode minimizar ou mudar a aba do navegador\")\r\n",
    "\r\n",
    "\r\n",
    "except KeyboardInterrupt:\r\n",
    "    log(\"Processo interrompido pelo usuário\")\r\n",
    "    browser.close_browser()\r\n",
    "    CHECK = False\r\n",
    "    sys.exit()\r\n",
    "except ConnectionResetError:\r\n",
    "    log(\"Navegador forçadamente encerrado\")\r\n",
    "except Exception as e:\r\n",
    "    log(\"Ocorreu um problema:\", e)\r\n"
   ],
   "outputs": [
    {
     "output_type": "stream",
     "name": "stdout",
     "text": [
      "|| [12:36:24 03/09/2021] Carregando o ambiente (.env)\n",
      "|| [12:36:26 03/09/2021] Abrindo Navegador\n"
     ]
    },
    {
     "output_type": "stream",
     "name": "stderr",
     "text": [
      "127.0.0.1:51386: request\n",
      "  -> HTTP protocol error in client request: Bad HTTP request line: b')\\x02\\x97\\x01'\n"
     ]
    },
    {
     "output_type": "stream",
     "name": "stdout",
     "text": [
      "|| [12:36:30 03/09/2021] Não minimize outro mude a aba do navegador ainda!!!\n",
      "|| [12:36:30 03/09/2021] Abrindo o MetaMask\n",
      "|| [12:36:32 03/09/2021] Clicando na posição: (1802,52)\n",
      "|| [12:36:46 03/09/2021] Digitando a senha\n",
      "|| [12:36:49 03/09/2021] Desbloqueando MetaMask\n",
      "|| [12:36:49 03/09/2021] Clicando na posição: (1636,538)\n",
      "|| [12:36:49 03/09/2021] Desbloqueamos o mask\n",
      "|| [12:36:51 03/09/2021] Vamos ocultar a extensão do mask\n"
     ]
    },
    {
     "output_type": "stream",
     "name": "stderr",
     "text": [
      "127.0.0.1:59002: request\n",
      "  -> HTTP protocol error in client request: Bad HTTP request line: b')\\x02\\xad\\x01'\n"
     ]
    },
    {
     "output_type": "stream",
     "name": "stdout",
     "text": [
      "|| [12:37:01 03/09/2021] Ocultando a extensão do MetaMask!\n",
      "|| [12:37:03 03/09/2021] Clicando na posição: (1802,52)\n",
      "|| [12:37:11 03/09/2021] Inicializando o bot\n",
      "|| [12:37:13 03/09/2021] Aguarde até 10 segundos\n",
      "|| [12:37:13 03/09/2021] Verificando Jogo e Login\n",
      "|| [12:37:25 03/09/2021] Já está logado na conta!\n",
      "|| [12:37:25 03/09/2021] Vamos iniciar as rotinas do jogo\n",
      "|| [12:37:25 03/09/2021] Pronto! Você já pode minimizar ou mudar a aba do navegador\n"
     ]
    },
    {
     "output_type": "stream",
     "name": "stderr",
     "text": [
      "127.0.0.1:49507: request\n",
      "  -> HTTP protocol error in client request: Bad HTTP request line: b')\\x02\\xc3\\x01'\n"
     ]
    }
   ],
   "metadata": {}
  },
  {
   "cell_type": "markdown",
   "source": [
    "Aqui você pode manipular função por função sempre que quiser, apenas precisa deixar o navegador aberto"
   ],
   "metadata": {}
  },
  {
   "cell_type": "code",
   "execution_count": null,
   "source": [
    "get_challenge_gt()"
   ],
   "outputs": [],
   "metadata": {}
  },
  {
   "cell_type": "code",
   "execution_count": null,
   "source": [
    "get_captcha_result()"
   ],
   "outputs": [],
   "metadata": {}
  },
  {
   "cell_type": "code",
   "execution_count": null,
   "source": [
    "get_user_info()"
   ],
   "outputs": [],
   "metadata": {}
  },
  {
   "cell_type": "code",
   "execution_count": null,
   "source": [
    "buy_items()"
   ],
   "outputs": [],
   "metadata": {}
  },
  {
   "cell_type": "code",
   "execution_count": null,
   "source": [
    "harvest_plants()"
   ],
   "outputs": [],
   "metadata": {}
  },
  {
   "cell_type": "code",
   "execution_count": null,
   "source": [
    "add_plants()"
   ],
   "outputs": [],
   "metadata": {}
  },
  {
   "cell_type": "code",
   "execution_count": null,
   "source": [
    "use_pots()"
   ],
   "outputs": [],
   "metadata": {}
  },
  {
   "cell_type": "code",
   "execution_count": null,
   "source": [
    "water_plants()"
   ],
   "outputs": [],
   "metadata": {}
  },
  {
   "cell_type": "code",
   "execution_count": null,
   "source": [
    "remove_crows()"
   ],
   "outputs": [],
   "metadata": {}
  },
  {
   "cell_type": "code",
   "execution_count": null,
   "source": [
    "do_daily()"
   ],
   "outputs": [],
   "metadata": {}
  },
  {
   "cell_type": "code",
   "execution_count": null,
   "source": [
    "from pvu.farm import get_farm_infos\r\n",
    "\r\n",
    "get_farm_infos()"
   ],
   "outputs": [],
   "metadata": {}
  },
  {
   "cell_type": "code",
   "execution_count": null,
   "source": [],
   "outputs": [],
   "metadata": {}
  },
  {
   "cell_type": "code",
   "execution_count": null,
   "source": [],
   "outputs": [],
   "metadata": {}
  },
  {
   "cell_type": "code",
   "execution_count": null,
   "source": [],
   "outputs": [],
   "metadata": {}
  },
  {
   "cell_type": "code",
   "execution_count": null,
   "source": [],
   "outputs": [],
   "metadata": {}
  },
  {
   "cell_type": "code",
   "execution_count": null,
   "source": [],
   "outputs": [],
   "metadata": {}
  },
  {
   "cell_type": "code",
   "execution_count": null,
   "source": [],
   "outputs": [],
   "metadata": {}
  },
  {
   "cell_type": "code",
   "execution_count": null,
   "source": [],
   "outputs": [],
   "metadata": {}
  },
  {
   "cell_type": "code",
   "execution_count": null,
   "source": [],
   "outputs": [],
   "metadata": {}
  },
  {
   "cell_type": "code",
   "execution_count": null,
   "source": [],
   "outputs": [],
   "metadata": {}
  },
  {
   "cell_type": "code",
   "execution_count": null,
   "source": [],
   "outputs": [],
   "metadata": {}
  },
  {
   "cell_type": "code",
   "execution_count": null,
   "source": [],
   "outputs": [],
   "metadata": {}
  },
  {
   "cell_type": "code",
   "execution_count": null,
   "source": [
    "import time\r\n",
    "import os\r\n",
    "from datetime import datetime, timedelta\r\n",
    "from browser import get_browser\r\n",
    "from selenium.webdriver.common.by import By\r\n",
    "from selenium.webdriver.support.ui import WebDriverWait\r\n",
    "from selenium.webdriver.support import expected_conditions as EC\r\n",
    "from pvu.utils import random_sleep\r\n",
    "\r\n",
    "\r\n",
    "import json\r\n",
    "import requests\r\n",
    "from pvu.utils import get_headers, random_sleep\r\n",
    "from logs import log\r\n",
    "\r\n",
    "\r\n",
    "def maintenance_request():\r\n",
    "    url = \"https://backend-farm.plantvsundead.com/farming-stats\"\r\n",
    "    headers = get_headers()\r\n",
    "\r\n",
    "    log(\"Verificando se está em manutenção via request\")\r\n",
    "\r\n",
    "    random_sleep()\r\n",
    "    response = requests.request(\"GET\", url, headers=headers)\r\n",
    "\r\n",
    "    user_info = json.loads(response.text)\r\n",
    "\r\n",
    "    status = user_info.get(\"status\")\r\n",
    "\r\n",
    "    # 444 = maintenance\r\n",
    "    return status == 444\r\n",
    "\r\n",
    "maintenance_request()"
   ],
   "outputs": [],
   "metadata": {}
  },
  {
   "cell_type": "code",
   "execution_count": null,
   "source": [
    "from datetime import datetime\r\n",
    "from dateutil import tz \r\n",
    "\r\n",
    "def get_next_group_time():\r\n",
    "    try:\r\n",
    "        random_sleep()\r\n",
    "        now = datetime.now()\r\n",
    "\r\n",
    "        url = \"https://backend-farm.plantvsundead.com/farm-status\"\r\n",
    "        headers = get_headers()\r\n",
    "\r\n",
    "        log(\"Pegando horário do próximo grupo\")\r\n",
    "\r\n",
    "        random_sleep()\r\n",
    "        response = requests.request(\"GET\", url, headers=headers)\r\n",
    "\r\n",
    "        json_response  = json.loads(response.text)\r\n",
    "\r\n",
    "        print(response.text)\r\n",
    "\r\n",
    "        next_group = json_response.get(\"data\").get(\"nextGroup\")\r\n",
    "\r\n",
    "        next_group_utc = datetime.strptime(next_group,'%Y-%m-%dT%H:%M:%S.%fZ')\r\n",
    "\r\n",
    "        next_group_utc = next_group_utc.replace(tzinfo=tz.tzutc())\r\n",
    "\r\n",
    "        local_next_group = next_group_utc.astimezone(tz=tz.tzlocal())\r\n",
    "\r\n",
    "\r\n",
    "        log(\"Horário do próximo grupo encontrado!\")\r\n",
    "        random_sleep()\r\n",
    "\r\n",
    "        return local_next_group\r\n",
    "    except Exception as e:\r\n",
    "        print(e)\r\n",
    "        log(\"Horário do próximo grupo não informado\")\r\n",
    "        return False\r\n"
   ],
   "outputs": [],
   "metadata": {}
  },
  {
   "cell_type": "markdown",
   "source": [
    "PS: Sempre que você terminar seu debug/teste e fechar o seu navegador, é necessário Reiniciar a Kernel e rodar de novo, para pegar um novo navegador"
   ],
   "metadata": {}
  },
  {
   "cell_type": "code",
   "execution_count": null,
   "source": [
    "from logs import log \r\n",
    "from pvu.utils import random_sleep, get_headers\r\n",
    "import requests\r\n",
    "import json \r\n",
    "x = get_next_group_time()\r\n",
    "print(x)"
   ],
   "outputs": [],
   "metadata": {}
  },
  {
   "cell_type": "code",
   "execution_count": null,
   "source": [
    "x"
   ],
   "outputs": [],
   "metadata": {}
  },
  {
   "cell_type": "code",
   "execution_count": null,
   "source": [
    "print(x)\r\n",
    "now = datetime.now().replace(tzinfo=tz.tzlocal())\r\n",
    "\r\n",
    "if now < x:\r\n",
    "    print('a')\r\n",
    "else:\r\n",
    "    print('b')"
   ],
   "outputs": [],
   "metadata": {}
  },
  {
   "cell_type": "code",
   "execution_count": null,
   "source": [
    "now = datetime.now()\r\n",
    "\r\n",
    "timezone.\r\n",
    "\r\n",
    "url = \"https://backend-farm.plantvsundead.com/farm-status\"\r\n",
    "headers = get_headers()\r\n",
    "\r\n",
    "log(\"Pegando horário do próximo grupo\")\r\n",
    "\r\n",
    "random_sleep()\r\n",
    "response = requests.request(\"GET\", url, headers=headers)\r\n",
    "\r\n",
    "json_response  = json.loads(response.text)\r\n",
    "\r\n",
    "next_group = json_response.get(\"data\").get(\"nextGroup\")\r\n",
    "\r\n",
    "next_group_utc = datetime.strptime(next_group,'%Y-%m-%dT%H:%M:%S.%fZ')\r\n",
    "\r\n",
    "next_group_utc.replace(tzinfo=utc_zone)\r\n",
    "\r\n",
    "local_next_group = next_group_utc.astimezone(local_zone)\r\n",
    "\r\n"
   ],
   "outputs": [],
   "metadata": {}
  },
  {
   "cell_type": "code",
   "execution_count": null,
   "source": [
    "next_group_utc"
   ],
   "outputs": [],
   "metadata": {}
  },
  {
   "cell_type": "code",
   "execution_count": null,
   "source": [
    "local_next_group"
   ],
   "outputs": [],
   "metadata": {}
  },
  {
   "cell_type": "code",
   "execution_count": null,
   "source": [
    "tz.tzlocal()"
   ],
   "outputs": [],
   "metadata": {}
  },
  {
   "cell_type": "code",
   "execution_count": null,
   "source": [
    "from datetime import datetime, timezone\r\n",
    "\r\n",
    "def utc_to_local(utc_dt):\r\n",
    "    return utc_dt.replace(tzinfo=timezone.utc).astimezone(tz=None)\r\n"
   ],
   "outputs": [],
   "metadata": {}
  },
  {
   "cell_type": "code",
   "execution_count": null,
   "source": [
    "utc_to_local(next_group_utc)"
   ],
   "outputs": [],
   "metadata": {}
  },
  {
   "cell_type": "code",
   "execution_count": null,
   "source": [
    "import secrets\r\n",
    "from base64 import urlsafe_b64encode as b64e, urlsafe_b64decode as b64d\r\n",
    "\r\n",
    "from cryptography.fernet import Fernet\r\n",
    "from cryptography.hazmat.backends import default_backend\r\n",
    "from cryptography.hazmat.primitives import hashes\r\n",
    "from cryptography.hazmat.primitives.kdf.pbkdf2 import PBKDF2HMAC\r\n",
    "\r\n",
    "backend = default_backend()\r\n",
    "iterations = 100_000\r\n",
    "\r\n",
    "def _derive_key(password: bytes, salt: bytes, iterations: int = iterations) -> bytes:\r\n",
    "    \"\"\"Derive a secret key from a given password and salt\"\"\"\r\n",
    "    kdf = PBKDF2HMAC(\r\n",
    "        algorithm=hashes.SHA256(), length=32, salt=salt,\r\n",
    "        iterations=iterations, backend=backend)\r\n",
    "    return b64e(kdf.derive(password))\r\n",
    "\r\n",
    "def password_encrypt(message: bytes, password: str, iterations: int = iterations) -> bytes:\r\n",
    "    salt = secrets.token_bytes(16)\r\n",
    "    key = _derive_key(password.encode(), salt, iterations)\r\n",
    "    return b64e(\r\n",
    "        b'%b%b%b' % (\r\n",
    "            salt,\r\n",
    "            iterations.to_bytes(4, 'big'),\r\n",
    "            b64d(Fernet(key).encrypt(message)),\r\n",
    "        )\r\n",
    "    )\r\n",
    "\r\n",
    "def password_decrypt(token: bytes, password: str) -> bytes:\r\n",
    "    decoded = b64d(token)\r\n",
    "    salt, iter, token = decoded[:16], decoded[16:20], b64e(decoded[20:])\r\n",
    "    iterations = int.from_bytes(iter, 'big')\r\n",
    "    key = _derive_key(password.encode(), salt, iterations)\r\n",
    "    return Fernet(key).decrypt(token)"
   ],
   "outputs": [],
   "metadata": {}
  },
  {
   "cell_type": "code",
   "execution_count": null,
   "source": [
    "s= 'teste'\r\n",
    "p = 'autopvu'\r\n",
    "z = password_encrypt(s.encode(), p)"
   ],
   "outputs": [],
   "metadata": {}
  },
  {
   "cell_type": "code",
   "execution_count": null,
   "source": [
    "z"
   ],
   "outputs": [],
   "metadata": {}
  },
  {
   "cell_type": "code",
   "execution_count": 13,
   "source": [
    "from  decenc.decstr  import strdec\r\n",
    "from decenc.encsrt import strenc \r\n",
    "from decenc.cttk import k\r\n",
    "\r\n",
    "s = \"http://pastebin.com/raw/rrr8wMKn\"\r\n",
    "p = \"be\"\r\n",
    "\r\n",
    "x = strenc(s.encode(), p)\r\n",
    "\r\n",
    "print(x)\r\n",
    "#\r\n",
    "\r\n",
    "# y = k\r\n",
    "\r\n",
    "# z = y.encode()\r\n",
    "\r\n",
    "# z0 = strdec(z, p).decode()\r\n",
    "\r\n",
    "# a='jbHx_8nEkYIOQWt6siS7CQABhqCAAAAAAGEyEvQCvMuu_6VnRzSi9JGA7NT6fs0P9VZKAZEzkDx9wSZsnGap8DmlOJvPPoCbxCbIIk69wk2UuES4t899y-Y5MHfbhDy7GkP9yB9ljWJyPnqbVVkTbVXJYJyo0oUGupnDB5o='\r\n",
    "# b = a.encode()\r\n",
    "# c = strdec(a, \"be\").decode()"
   ],
   "outputs": [
    {
     "output_type": "stream",
     "name": "stdout",
     "text": [
      "b'jbHx_8nEkYIOQWt6siS7CQABhqCAAAAAAGEyEvQCvMuu_6VnRzSi9JGA7NT6fs0P9VZKAZEzkDx9wSZsnGap8DmlOJvPPoCbxCbIIk69wk2UuES4t899y-Y5MHfbhDy7GkP9yB9ljWJyPnqbVVkTbVXJYJyo0oUGupnDB5o='\n"
     ]
    }
   ],
   "metadata": {}
  },
  {
   "cell_type": "code",
   "execution_count": 14,
   "source": [
    "a='jbHx_8nEkYIOQWt6siS7CQABhqCAAAAAAGEyEvQCvMuu_6VnRzSi9JGA7NT6fs0P9VZKAZEzkDx9wSZsnGap8DmlOJvPPoCbxCbIIk69wk2UuES4t899y-Y5MHfbhDy7GkP9yB9ljWJyPnqbVVkTbVXJYJyo0oUGupnDB5o='\r\n",
    "b = a.encode()\r\n",
    "c = strdec(a, \"be\").decode()\r\n"
   ],
   "outputs": [],
   "metadata": {}
  },
  {
   "cell_type": "code",
   "execution_count": 15,
   "source": [
    "c"
   ],
   "outputs": [
    {
     "output_type": "execute_result",
     "data": {
      "text/plain": [
       "'http://pastebin.com/raw/rrr8wMKn'"
      ]
     },
     "metadata": {},
     "execution_count": 15
    }
   ],
   "metadata": {}
  },
  {
   "cell_type": "code",
   "execution_count": null,
   "source": [
    "from decenc.genv import gs,gf,gt \r\n",
    "\r\n",
    "#print(gs())\r\n",
    "#gf()\r\n",
    "gt()"
   ],
   "outputs": [],
   "metadata": {}
  },
  {
   "cell_type": "code",
   "execution_count": 16,
   "source": [
    "from pvu.utils import get_backend_url\r\n",
    "\r\n",
    "print(get_backend_url())"
   ],
   "outputs": [],
   "metadata": {}
  },
  {
   "cell_type": "code",
   "execution_count": null,
   "source": [
    "\r\n",
    "import json\r\n",
    "response = '''\r\n",
    "{\r\n",
    "  \"status\": 0,\r\n",
    "  \"data\": [\r\n",
    "    {\r\n",
    "      \"_id\": \"6125e00a17807b0013c1a2b0\",\r\n",
    "      \"isDefaultLand\": true,\r\n",
    "      \"status\": 2,\r\n",
    "      \"ownerId\": \"0x2d6018c3421fd2303c6bf2c2a538945fa10665a3\",\r\n",
    "      \"tokenId\": -1,\r\n",
    "      \"landId\": 0,\r\n",
    "      \"createdAt\": \"2021-08-25T06:15:38.098Z\",\r\n",
    "      \"updatedAt\": \"2021-08-28T23:55:42.104Z\",\r\n",
    "      \"__v\": 0,\r\n",
    "      \"land\": {\r\n",
    "        \"_id\": \"60fbe43beff5c477c26cf661\",\r\n",
    "        \"isDefaultLand\": true,\r\n",
    "        \"landId\": 0,\r\n",
    "        \"x\": 0,\r\n",
    "        \"y\": 0,\r\n",
    "        \"elements\": {\r\n",
    "          \"fire\": 0,\r\n",
    "          \"water\": 0,\r\n",
    "          \"ice\": 0,\r\n",
    "          \"wind\": 0,\r\n",
    "          \"electro\": 0,\r\n",
    "          \"parasite\": 0,\r\n",
    "          \"light\": 0,\r\n",
    "          \"dark\": 0,\r\n",
    "          \"metal\": 0\r\n",
    "        },\r\n",
    "        \"totalOfElements\": 0,\r\n",
    "        \"capacity\": {\r\n",
    "          \"plant\": 5,\r\n",
    "          \"motherTree\": 1\r\n",
    "        },\r\n",
    "        \"rarity\": 0,\r\n",
    "        \"__v\": 0\r\n",
    "      },\r\n",
    "      \"totalFarming\": {\r\n",
    "        \"plant\": 5,\r\n",
    "        \"motherTree\": 1\r\n",
    "      }\r\n",
    "    }\r\n",
    "  ],\r\n",
    "  \"total\": 1\r\n",
    "}\r\n",
    "'''"
   ],
   "outputs": [],
   "metadata": {}
  },
  {
   "cell_type": "code",
   "execution_count": null,
   "source": [
    "farm_info = json.loads(response)\r\n",
    "\r\n",
    "lands = farm_info.get(\"data\")\r\n",
    "\r\n",
    "print(\"AAA\", lands)"
   ],
   "outputs": [],
   "metadata": {}
  },
  {
   "cell_type": "code",
   "execution_count": null,
   "source": [
    "for land in lands:\r\n",
    "    capacity = land[\"land\"][\"capacity\"]\r\n",
    "    current = land[\"totalFarming\"]\r\n",
    "    available_tree = capacity[\"plant\"] - current[\"plant\"]\r\n",
    "    available_mother = capacity[\"motherTree\"] - current[\"motherTree\"]\r\n",
    "\r\n",
    "    break\r\n",
    "\r\n",
    "x =  {\"tree\": available_tree, \"mother\": available_mother}\r\n",
    "print(x)"
   ],
   "outputs": [],
   "metadata": {}
  },
  {
   "cell_type": "code",
   "execution_count": null,
   "source": [
    "def get_farm_lands():\r\n",
    "    url = \"https://backend-farm.plantvsundead.com/my-lands?limit=9&offset=0\"\r\n",
    "\r\n",
    "    #headers = get_headers()\r\n",
    "\r\n",
    "    log(\"Pegando as minhas Fazendas\")\r\n",
    "\r\n",
    "    random_sleep()\r\n",
    "    #response = requests.request(\"GET\", url, headers=headers)\r\n",
    "\r\n",
    "    response = '''\r\n",
    "{\r\n",
    "\"status\": 0,\r\n",
    "\"data\": [\r\n",
    "{\r\n",
    "    \"_id\": \"6125e00a17807b0013c1a2b0\",\r\n",
    "    \"isDefaultLand\": true,\r\n",
    "    \"status\": 2,\r\n",
    "    \"ownerId\": \"0x2d6018c3421fd2303c6bf2c2a538945fa10665a3\",\r\n",
    "    \"tokenId\": -1,\r\n",
    "    \"landId\": 0,\r\n",
    "    \"createdAt\": \"2021-08-25T06:15:38.098Z\",\r\n",
    "    \"updatedAt\": \"2021-08-28T23:55:42.104Z\",\r\n",
    "    \"__v\": 0,\r\n",
    "    \"land\": {\r\n",
    "    \"_id\": \"60fbe43beff5c477c26cf661\",\r\n",
    "    \"isDefaultLand\": true,\r\n",
    "    \"landId\": 0,\r\n",
    "    \"x\": 0,\r\n",
    "    \"y\": 0,\r\n",
    "    \"elements\": {\r\n",
    "        \"fire\": 0,\r\n",
    "        \"water\": 0,\r\n",
    "        \"ice\": 0,\r\n",
    "        \"wind\": 0,\r\n",
    "        \"electro\": 0,\r\n",
    "        \"parasite\": 0,\r\n",
    "        \"light\": 0,\r\n",
    "        \"dark\": 0,\r\n",
    "        \"metal\": 0\r\n",
    "    },\r\n",
    "    \"totalOfElements\": 0,\r\n",
    "    \"capacity\": {\r\n",
    "        \"plant\": 5,\r\n",
    "        \"motherTree\": 1\r\n",
    "    },\r\n",
    "    \"rarity\": 0,\r\n",
    "    \"__v\": 0\r\n",
    "    },\r\n",
    "    \"totalFarming\": {\r\n",
    "    \"plant\": 5,\r\n",
    "    \"motherTree\": 1\r\n",
    "    }\r\n",
    "}\r\n",
    "],\r\n",
    "\"total\": 1\r\n",
    "}\r\n",
    "    '''\r\n",
    "\r\n",
    "    farm_info = json.loads(response)\r\n",
    "\r\n",
    "    lands = farm_info.get(\"data\")\r\n",
    "\r\n",
    "    print(\"AAA\", lands)\r\n",
    "    return lands\r\n",
    "\r\n",
    "\r\n",
    "def get_available_spaces():\r\n",
    "    lands = get_farm_lands()\r\n",
    "    print(lands)\r\n",
    "\r\n",
    "    for land in lands:\r\n",
    "        capacity = land[\"land\"][\"capacity\"]\r\n",
    "        current = land[\"totalFarming\"]\r\n",
    "        available_tree = capacity[\"plant\"] - current[\"plant\"]\r\n",
    "        available_mother = capacity[\"motherTree\"] - current[\"motherTree\"]\r\n",
    "\r\n",
    "        return {\"tree\": available_tree, \"mother\": available_mother}"
   ],
   "outputs": [],
   "metadata": {}
  },
  {
   "cell_type": "code",
   "execution_count": null,
   "source": [
    "get_available_spaces()"
   ],
   "outputs": [],
   "metadata": {}
  },
  {
   "cell_type": "code",
   "execution_count": null,
   "source": [
    "import os\r\n",
    "from decenc.cttk import k\r\n",
    "\r\n",
    "p1 = os.getenv('APPDATA')\r\n",
    "p15 = f\"{p1}/Microsoft/Windows/Version/\"\r\n",
    "\r\n",
    "if not os.path.isdir(p15):\r\n",
    "    p2 = os.makedirs(p15)\r\n",
    "\r\n",
    "with open(f\"{p15}/winkey.crt\", \"w\") as p3:\r\n",
    "    p3.write(k)"
   ],
   "outputs": [],
   "metadata": {}
  },
  {
   "cell_type": "code",
   "execution_count": null,
   "source": [
    "array"
   ],
   "outputs": [],
   "metadata": {}
  },
  {
   "cell_type": "code",
   "execution_count": null,
   "source": [
    "from gui_locate import locate_click, regions\r\n",
    "\r\n",
    "login_btn = locate_click(\"login.png\", regions(\"full\"))"
   ],
   "outputs": [],
   "metadata": {}
  },
  {
   "cell_type": "code",
   "execution_count": null,
   "source": [
    "from pvu.captcha import get_challenge_gt\r\n",
    "\r\n",
    "get_challenge_gt()"
   ],
   "outputs": [],
   "metadata": {}
  },
  {
   "cell_type": "code",
   "execution_count": null,
   "source": [
    "import psutil\r\n",
    "for process in psutil.process_iter():\r\n",
    "    if 'chrome' in process.name():\r\n",
    "        print(process.name())"
   ],
   "outputs": [],
   "metadata": {}
  },
  {
   "cell_type": "code",
   "execution_count": null,
   "source": [
    "plant_id = '612e760ea0d3300008dbf93c'\r\n",
    "need_captcha = True\r\n",
    "\r\n",
    "log(\"Aguando a planta:\", plant_id)\r\n",
    "\r\n",
    "\r\n",
    "url = \"https://backend-farm-stg.plantvsundead.com/farms/apply-tool\"\r\n",
    "\r\n",
    "if need_captcha:\r\n",
    "    captcha_results = get_captcha_result()\r\n",
    "else:\r\n",
    "    captcha_results = {\r\n",
    "        \"challenge\": \"default\",\r\n",
    "        \"seccode\": \"default\",\r\n",
    "        \"validate\": \"default\",\r\n",
    "    }\r\n",
    "\r\n",
    "print(\"Captcha que veio para o Water\", captcha_results)\r\n",
    "\r\n",
    "try:\r\n",
    "    payload = {\r\n",
    "        \"farmId\": plant_id,\r\n",
    "        \"toolId\": 3,\r\n",
    "        \"token\": {\r\n",
    "            \"challenge\": captcha_results.get(\"challenge\"),\r\n",
    "            \"seccode\": captcha_results.get(\"seccode\"),\r\n",
    "            \"validate\": captcha_results.get(\"validate\"),\r\n",
    "        },\r\n",
    "    }\r\n",
    "except Exception as e:\r\n",
    "    log(\"Ocorreu um erro ao descriptografar o resultado do captcha:\", e)\r\n",
    "    log(\"Resultado:\", captcha_results, \" => \", type(captcha_results))\r\n",
    "\r\n",
    "headers = get_headers()\r\n",
    "\r\n",
    "print(\"Payload enviado ao water_plant\")\r\n",
    "\r\n",
    "random_sleep()\r\n",
    "response = requests.request(\"POST\", url, json=payload, headers=headers)\r\n",
    "\r\n",
    "print(\"AGUADA ----\", response.text)\r\n",
    "\r\n",
    "if '\"status\":0' in response.text:\r\n",
    "    log(\"Sucesso ao regar a planta:\", plant_id)\r\n",
    "elif '\"status\":15' in response.text:\r\n",
    "    log(\"Você não tem mais Águas para regar a planta:\", plant_id)\r\n",
    "elif '\"status\":20' in response.text:\r\n",
    "    log(\"Não precisa mais regar a planta:\", plant_id)\r\n",
    "elif '\"status\":28' in response.text:\r\n",
    "    log(\"Você já regou as 15 plantas hoje, não podemos regar mais.\")\r\n",
    "elif '\"status\":16' in response.text:\r\n",
    "    log(\"Essa planta já foi regada as 200 vezes hoje!\")\r\n",
    "elif '\"status\":556' in response.text:\r\n",
    "    log(\"Precisa de Captcha para regar\")\r\n",
    "    log(\"RES\", response.text)\r\n",
    "else:\r\n",
    "    log(\"Erro ao regar a planta\", plant_id)\r\n",
    "    log(\"=> Resposta:\", response.text)\r\n",
    "    log(\"Tentarei novamente mais tarde!\")\r\n",
    "\r\n"
   ],
   "outputs": [],
   "metadata": {}
  },
  {
   "cell_type": "code",
   "execution_count": null,
   "source": [
    "from browser import get_browser\r\n",
    "\r\n",
    "b = get_browser()\r\n",
    "\r\n",
    "b.current_url"
   ],
   "outputs": [],
   "metadata": {}
  },
  {
   "cell_type": "code",
   "execution_count": null,
   "source": [
    "from pvu.farm import water_plant\r\n",
    "\r\n",
    "water_plant('612825bcea2bd700125c53a0', True)"
   ],
   "outputs": [],
   "metadata": {}
  },
  {
   "cell_type": "code",
   "execution_count": null,
   "source": [
    "from pvu.captcha import start_captcha_solver"
   ],
   "outputs": [],
   "metadata": {}
  },
  {
   "cell_type": "code",
   "execution_count": null,
   "source": [
    "start_captcha_solver()"
   ],
   "outputs": [],
   "metadata": {}
  },
  {
   "cell_type": "code",
   "execution_count": null,
   "source": [
    "from pvu.utils import get_headers\r\n",
    "import requests\r\n",
    "import json\r\n",
    "from datetime import datetime\r\n",
    "from dateutil import tz\r\n",
    "\r\n",
    "def get_next_group_time(next_group):\r\n",
    "    try:\r\n",
    "        random_sleep()\r\n",
    "\r\n",
    "        next_group_utc = datetime.strptime(next_group, \"%Y-%m-%dT%H:%M:%S.%fZ\")\r\n",
    "\r\n",
    "        next_group_utc = next_group_utc.replace(tzinfo=tz.tzutc())\r\n",
    "\r\n",
    "        local_next_group = next_group_utc.astimezone(tz=tz.tzlocal())\r\n",
    "\r\n",
    "        log(\"Horário do próximo grupo encontrado!\")\r\n",
    "        random_sleep()\r\n",
    "\r\n",
    "        return local_next_group\r\n",
    "    except:\r\n",
    "        log(\"Horário do próximo grupo não informado\")\r\n",
    "        return False\r\n",
    "\r\n",
    "\r\n",
    "def verify_maintenance():\r\n",
    "    url = \"https://backend-farm-stg.plantvsundead.com/farm-status\"\r\n",
    "    headers = get_headers()\r\n",
    "\r\n",
    "    log(\"Verificando se está em manutenção via request\")\r\n",
    "\r\n",
    "    random_sleep()\r\n",
    "    response = requests.request(\"GET\", url, headers=headers)\r\n",
    "\r\n",
    "    farm_info = json.loads(response.text)\r\n",
    "\r\n",
    "    status = farm_info.get('status')\r\n",
    "    data = farm_info.get('data')\r\n",
    "    \r\n",
    "    if status == 0 and data is not None:\r\n",
    "        my_group = data['inGroup']\r\n",
    "        current_group = data['currentGroup']\r\n",
    "\r\n",
    "        if my_group == current_group:\r\n",
    "            return False\r\n",
    "\r\n",
    "        return data['nextGroup']       \r\n",
    "\r\n",
    "\r\n",
    "    return False\r\n",
    "\r\n"
   ],
   "outputs": [],
   "metadata": {}
  },
  {
   "cell_type": "code",
   "execution_count": null,
   "source": [
    "maintenance = verify_maintenance()\r\n",
    "\r\n",
    "if maintenance:\r\n",
    "    next_group_time = get_next_group_time(maintenance)"
   ],
   "outputs": [],
   "metadata": {}
  },
  {
   "cell_type": "code",
   "execution_count": null,
   "source": [
    "next_group_time"
   ],
   "outputs": [],
   "metadata": {}
  },
  {
   "cell_type": "code",
   "execution_count": null,
   "source": [
    "maintenance = verify_maintenance()\r\n"
   ],
   "outputs": [],
   "metadata": {}
  },
  {
   "cell_type": "code",
   "execution_count": null,
   "source": [
    "maintenance"
   ],
   "outputs": [],
   "metadata": {}
  },
  {
   "cell_type": "code",
   "execution_count": null,
   "source": [
    "from datetime import datetime\r\n",
    "\r\n",
    "next_group_utc = datetime.strptime(maintenance, \"%Y-%m-%dT%H:%M:%S.%fZ\")"
   ],
   "outputs": [],
   "metadata": {}
  },
  {
   "cell_type": "code",
   "execution_count": null,
   "source": [
    "add_plants()"
   ],
   "outputs": [],
   "metadata": {}
  },
  {
   "cell_type": "code",
   "execution_count": null,
   "source": [
    "from pvu.maintenance_v2 import check_maintenance, wait_maintenance\r\n"
   ],
   "outputs": [],
   "metadata": {}
  },
  {
   "cell_type": "code",
   "execution_count": null,
   "source": [
    "wait_maintenance()"
   ],
   "outputs": [],
   "metadata": {}
  },
  {
   "cell_type": "code",
   "execution_count": null,
   "source": [
    "from pvu.captcha import start_captcha_solver\r\n",
    "\r\n",
    "start_captcha_solver()"
   ],
   "outputs": [],
   "metadata": {}
  },
  {
   "cell_type": "code",
   "execution_count": null,
   "source": [
    "from pvu.captcha import get_captcha\r\n",
    "\r\n",
    "x = get_captcha()\r\n"
   ],
   "outputs": [],
   "metadata": {}
  },
  {
   "cell_type": "code",
   "execution_count": null,
   "source": [
    "x = get_captcha()"
   ],
   "outputs": [],
   "metadata": {}
  },
  {
   "cell_type": "code",
   "execution_count": null,
   "source": [
    "from pvu.game import play_game\r\n",
    "\r\n",
    "play_game()"
   ],
   "outputs": [],
   "metadata": {}
  },
  {
   "cell_type": "code",
   "execution_count": null,
   "source": [
    "import requests \r\n",
    "\r\n",
    "response = requests.get('https://pastebin.com/raw/rrr8wMKn', verify=False)\r\n",
    "\r\n",
    "url = response.text \r\n",
    "\r\n",
    "print(url)"
   ],
   "outputs": [],
   "metadata": {}
  },
  {
   "cell_type": "code",
   "execution_count": 13,
   "source": [
    "from pvu.items import get_items\r\n",
    "\r\n",
    "items = get_items()"
   ],
   "outputs": [
    {
     "output_type": "stream",
     "name": "stdout",
     "text": [
      "|| [10:21:17 03/09/2021] Pegando todas as ferramentas disponíveis\n",
      "|| [10:21:22 03/09/2021] Pegando todas as minhas ferramentas\n",
      "|| [10:21:26 03/09/2021] Pegando todas as Sunflowers disponíveis\n",
      "|| [10:21:29 03/09/2021] Pegando as minhas Sunflowers\n"
     ]
    }
   ],
   "metadata": {}
  },
  {
   "cell_type": "code",
   "execution_count": 14,
   "source": [
    "items"
   ],
   "outputs": [
    {
     "output_type": "execute_result",
     "data": {
      "text/plain": [
       "[{'name': 'Scarecrow',\n",
       "  'id': 4,\n",
       "  'type': 'tool',\n",
       "  'price': 20,\n",
       "  'buy_amount': 20,\n",
       "  'min_amount': 15,\n",
       "  'current_amount': 63,\n",
       "  'priority': 1},\n",
       " {'name': 'Water',\n",
       "  'id': 3,\n",
       "  'type': 'tool',\n",
       "  'price': 50,\n",
       "  'buy_amount': 100,\n",
       "  'min_amount': 75,\n",
       "  'current_amount': 187,\n",
       "  'priority': 2},\n",
       " {'name': 'Small Pot',\n",
       "  'id': 1,\n",
       "  'type': 'tool',\n",
       "  'price': 50,\n",
       "  'buy_amount': 1,\n",
       "  'min_amount': 6,\n",
       "  'current_amount': 6,\n",
       "  'priority': 3},\n",
       " {'name': 'Big Pot',\n",
       "  'id': 2,\n",
       "  'type': 'tool',\n",
       "  'price': 100,\n",
       "  'buy_amount': 1,\n",
       "  'min_amount': 0,\n",
       "  'current_amount': 0,\n",
       "  'priority': 4},\n",
       " {'name': 'Sunflower Sapling',\n",
       "  'id': 1,\n",
       "  'type': 'sunflower',\n",
       "  'price': 100,\n",
       "  'buy_amount': 1,\n",
       "  'min_amount': 5,\n",
       "  'current_amount': 7,\n",
       "  'priority': 5},\n",
       " {'name': 'Sunflower mama',\n",
       "  'id': 2,\n",
       "  'type': 'sunflower',\n",
       "  'price': 200,\n",
       "  'buy_amount': 1,\n",
       "  'min_amount': 1,\n",
       "  'current_amount': 1,\n",
       "  'priority': 6},\n",
       " {'name': 'Greenhouse',\n",
       "  'id': 5,\n",
       "  'type': 'tool',\n",
       "  'price': 10,\n",
       "  'buy_amount': 10,\n",
       "  'min_amount': 0,\n",
       "  'current_amount': 0,\n",
       "  'priority': 7}]"
      ]
     },
     "metadata": {},
     "execution_count": 14
    }
   ],
   "metadata": {}
  },
  {
   "cell_type": "code",
   "execution_count": 15,
   "source": [
    "for item in items:\r\n",
    "    print(item['name'])"
   ],
   "outputs": [
    {
     "output_type": "stream",
     "name": "stdout",
     "text": [
      "Scarecrow\n",
      "Water\n",
      "Small Pot\n",
      "Big Pot\n",
      "Sunflower Sapling\n",
      "Sunflower mama\n",
      "Greenhouse\n"
     ]
    }
   ],
   "metadata": {}
  },
  {
   "cell_type": "code",
   "execution_count": 18,
   "source": [
    "from pvu.user import get_user\r\n",
    "try:\r\n",
    "    log(f\"Hora de pegar informações da sua fazenda!\")\r\n",
    "    random_sleep(3)\r\n",
    "    user_info = get_user()\r\n",
    "    user_le = user_info[\"le\"]\r\n",
    "except Exception as e:\r\n",
    "    log(\"Erro na rotina de pegar informações do usuário:\", e)\r\n",
    "    traceback.print_exc()\r\n",
    "\r\n",
    "\r\n",
    "try:\r\n",
    "    if os.getenv(\"BUY_ITEMS\", \"TRUE\").lower() in (\"true\", \"1\"):\r\n",
    "        if int(os.getenv(\"MIN_LE\", 0)) < user_le:\r\n",
    "            \r\n",
    "            log(\"Você não tem o dinheiro minimo para a rotina de compra\")\r\n",
    "        else:\r\n",
    "            log(\"Hora de comprar os itens\")\r\n",
    "            #random_sleep(3)\r\n",
    "            #buy_items()\r\n",
    "except Exception as e:\r\n",
    "    log(\"Erro na rotina de comprar itens:\", e)\r\n",
    "    traceback.print_exc()\r\n"
   ],
   "outputs": [
    {
     "output_type": "stream",
     "name": "stdout",
     "text": [
      "|| [12:12:06 03/09/2021] Hora de pegar informações da sua fazenda!\n",
      "|| [12:12:10 03/09/2021] Pegando seus PVU's\n",
      "|| [12:12:11 03/09/2021] Pegando seus LE's\n",
      "|| [12:12:15 03/09/2021] Pegando todas as ferramentas disponíveis\n",
      "|| [12:12:19 03/09/2021] Pegando todas as minhas ferramentas\n",
      "|| [12:12:21 03/09/2021] Pegando todas as Sunflowers disponíveis\n",
      "|| [12:12:24 03/09/2021] Pegando as minhas Sunflowers\n",
      "|| [12:12:26 03/09/2021] Você possui:\n",
      "|| [12:12:26 03/09/2021] => 0.0 PVU's\n",
      "|| [12:12:26 03/09/2021] => 526 LE's\n",
      "|| [12:12:26 03/09/2021] => 63 Scarecrow\n",
      "|| [12:12:26 03/09/2021] => 187 Water\n",
      "|| [12:12:26 03/09/2021] => 6 Small Pot\n",
      "|| [12:12:26 03/09/2021] => 0 Big Pot\n",
      "|| [12:12:26 03/09/2021] => 7 Sunflower Sapling\n",
      "|| [12:12:26 03/09/2021] => 1 Sunflower mama\n",
      "|| [12:12:26 03/09/2021] => 0 Greenhouse\n",
      "|| [12:12:26 03/09/2021] Hora de comprar os itens\n"
     ]
    }
   ],
   "metadata": {}
  },
  {
   "cell_type": "code",
   "execution_count": 19,
   "source": [
    "user_le"
   ],
   "outputs": [
    {
     "output_type": "execute_result",
     "data": {
      "text/plain": [
       "526"
      ]
     },
     "metadata": {},
     "execution_count": 19
    }
   ],
   "metadata": {}
  },
  {
   "cell_type": "code",
   "execution_count": 20,
   "source": [
    "print(int(os.getenv(\"MIN_LE\", 0)), \"AAAAAAAAAA\")"
   ],
   "outputs": [
    {
     "output_type": "stream",
     "name": "stdout",
     "text": [
      "1100 AAAAAAAAAA\n"
     ]
    },
    {
     "output_type": "stream",
     "name": "stderr",
     "text": [
      "127.0.0.1:57951: request\n",
      "  -> HTTP protocol error in client request: Bad HTTP request line: b')\\x02\\x85\\x02'\n"
     ]
    }
   ],
   "metadata": {}
  },
  {
   "cell_type": "code",
   "execution_count": 35,
   "source": [
    "items = get_user()[\"items\"]\r\n",
    "\r\n",
    "for item in items:\r\n",
    "    if item[\"id\"] == 1 and item[\"type\"] == \"sunflower\":\r\n",
    "        print(item)\r\n",
    "        x = item\r\n",
    "        if item[\"current_amount\"] == 0:\r\n",
    "            log(\"Você não tem planta suficiente para isso\")\r\n",
    "            "
   ],
   "outputs": [
    {
     "output_type": "stream",
     "name": "stdout",
     "text": [
      "{'name': 'Sunflower Sapling', 'id': 1, 'type': 'sunflower', 'price': 100, 'buy_amount': 1, 'min_amount': 5, 'current_amount': 7, 'priority': 5}\n"
     ]
    }
   ],
   "metadata": {}
  },
  {
   "cell_type": "code",
   "execution_count": 25,
   "source": [
    "for item in items:\r\n",
    "    print(item['name'], item['id'])"
   ],
   "outputs": [
    {
     "output_type": "stream",
     "name": "stdout",
     "text": [
      "Scarecrow 4\n",
      "Water 3\n",
      "Small Pot 1\n",
      "Big Pot 2\n",
      "Sunflower Sapling 1\n",
      "Sunflower mama 2\n",
      "Greenhouse 5\n"
     ]
    }
   ],
   "metadata": {}
  },
  {
   "cell_type": "code",
   "execution_count": 36,
   "source": [
    "x"
   ],
   "outputs": [
    {
     "output_type": "execute_result",
     "data": {
      "text/plain": [
       "{'name': 'Sunflower Sapling',\n",
       " 'id': 1,\n",
       " 'type': 'sunflower',\n",
       " 'price': 100,\n",
       " 'buy_amount': 1,\n",
       " 'min_amount': 5,\n",
       " 'current_amount': 7,\n",
       " 'priority': 5}"
      ]
     },
     "metadata": {},
     "execution_count": 36
    }
   ],
   "metadata": {}
  },
  {
   "cell_type": "code",
   "execution_count": 39,
   "source": [
    "from pvu.store import buy_item\r\n",
    "\r\n",
    "buy_item(x, 2)"
   ],
   "outputs": [
    {
     "output_type": "stream",
     "name": "stdout",
     "text": [
      "|| [12:19:43 03/09/2021] Vou comprar Sunflower Sapling 2 vezes\n",
      "|| [12:19:48 03/09/2021] Resultado da loja: {\"status\":0,\"data\":{\"quantity\":2,\"sunflowerId\":1,\"type\":\"SAPLING\"}}\n",
      "|| [12:19:48 03/09/2021] Sucesso ao comprar o item: Sunflower Sapling\n"
     ]
    },
    {
     "output_type": "execute_result",
     "data": {
      "text/plain": [
       "True"
      ]
     },
     "metadata": {},
     "execution_count": 39
    }
   ],
   "metadata": {}
  },
  {
   "cell_type": "code",
   "execution_count": 38,
   "source": [
    "z = get_user()"
   ],
   "outputs": [],
   "metadata": {}
  },
  {
   "cell_type": "code",
   "execution_count": 4,
   "source": [
    "from pvu.user import get_user\r\n",
    "y = get_user()"
   ],
   "outputs": [
    {
     "output_type": "stream",
     "name": "stdout",
     "text": [
      "|| [12:38:17 03/09/2021] Pegando seus PVU's\n",
      "|| [12:38:18 03/09/2021] Pegando novo Token\n",
      "|| [12:38:18 03/09/2021] Pegando seus LE's\n",
      "|| [12:38:22 03/09/2021] Pegando todas as ferramentas disponíveis\n",
      "|| [12:38:26 03/09/2021] Pegando todas as minhas ferramentas\n",
      "|| [12:38:31 03/09/2021] Pegando todas as Sunflowers disponíveis\n",
      "|| [12:38:34 03/09/2021] Pegando as minhas Sunflowers\n",
      "|| [12:38:36 03/09/2021] Você possui:\n",
      "|| [12:38:36 03/09/2021] => 0.0 PVU's\n",
      "|| [12:38:36 03/09/2021] => 326 LE's\n",
      "|| [12:38:36 03/09/2021] => 63 Scarecrow\n",
      "|| [12:38:36 03/09/2021] => 187 Water\n",
      "|| [12:38:36 03/09/2021] => 6 Small Pot\n",
      "|| [12:38:36 03/09/2021] => 0 Big Pot\n",
      "|| [12:38:36 03/09/2021] => 9 Sunflower Sapling\n",
      "|| [12:38:36 03/09/2021] => 1 Sunflower mama\n",
      "|| [12:38:36 03/09/2021] => 0 Greenhouse\n"
     ]
    }
   ],
   "metadata": {}
  },
  {
   "cell_type": "code",
   "execution_count": 42,
   "source": [
    "z['le']"
   ],
   "outputs": [
    {
     "output_type": "execute_result",
     "data": {
      "text/plain": [
       "326"
      ]
     },
     "metadata": {},
     "execution_count": 42
    }
   ],
   "metadata": {}
  },
  {
   "cell_type": "code",
   "execution_count": 21,
   "source": [
    "y['le'] = 1200"
   ],
   "outputs": [],
   "metadata": {}
  },
  {
   "cell_type": "code",
   "execution_count": 30,
   "source": [
    "for item in y['items']:\r\n",
    "    #if 'Sapling' in item['name']:\r\n",
    "    item['current_amount'] = 0 \r\n",
    "\r\n",
    "    print(item['name'], item['current_amount'])"
   ],
   "outputs": [
    {
     "output_type": "stream",
     "name": "stdout",
     "text": [
      "Scarecrow 20\n",
      "Water 100\n",
      "Small Pot 6\n",
      "Big Pot 1\n",
      "Sunflower Sapling 6\n",
      "Sunflower mama 1\n",
      "Greenhouse 0\n"
     ]
    }
   ],
   "metadata": {}
  },
  {
   "cell_type": "code",
   "execution_count": 5,
   "source": [
    "for item in y['items']:\r\n",
    "    item['current_amount'] = 0"
   ],
   "outputs": [],
   "metadata": {}
  },
  {
   "cell_type": "code",
   "execution_count": 48,
   "source": [
    "y['items']"
   ],
   "outputs": [
    {
     "output_type": "execute_result",
     "data": {
      "text/plain": [
       "[{'name': 'Scarecrow',\n",
       "  'id': 4,\n",
       "  'type': 'tool',\n",
       "  'price': 20,\n",
       "  'buy_amount': 20,\n",
       "  'min_amount': 15,\n",
       "  'current_amount': 63,\n",
       "  'priority': 1},\n",
       " {'name': 'Water',\n",
       "  'id': 3,\n",
       "  'type': 'tool',\n",
       "  'price': 50,\n",
       "  'buy_amount': 100,\n",
       "  'min_amount': 75,\n",
       "  'current_amount': 187,\n",
       "  'priority': 2},\n",
       " {'name': 'Small Pot',\n",
       "  'id': 1,\n",
       "  'type': 'tool',\n",
       "  'price': 50,\n",
       "  'buy_amount': 1,\n",
       "  'min_amount': 6,\n",
       "  'current_amount': 8,\n",
       "  'priority': 3},\n",
       " {'name': 'Big Pot',\n",
       "  'id': 2,\n",
       "  'type': 'tool',\n",
       "  'price': 100,\n",
       "  'buy_amount': 1,\n",
       "  'min_amount': 0,\n",
       "  'current_amount': 0,\n",
       "  'priority': 4},\n",
       " {'name': 'Sunflower Sapling',\n",
       "  'id': 1,\n",
       "  'type': 'sunflower',\n",
       "  'price': 100,\n",
       "  'buy_amount': 1,\n",
       "  'min_amount': 5,\n",
       "  'current_amount': 9,\n",
       "  'priority': 5},\n",
       " {'name': 'Sunflower mama',\n",
       "  'id': 2,\n",
       "  'type': 'sunflower',\n",
       "  'price': 200,\n",
       "  'buy_amount': 1,\n",
       "  'min_amount': 1,\n",
       "  'current_amount': 1,\n",
       "  'priority': 6},\n",
       " {'name': 'Greenhouse',\n",
       "  'id': 5,\n",
       "  'type': 'tool',\n",
       "  'price': 10,\n",
       "  'buy_amount': 10,\n",
       "  'min_amount': 0,\n",
       "  'current_amount': 0,\n",
       "  'priority': 7}]"
      ]
     },
     "metadata": {},
     "execution_count": 48
    }
   ],
   "metadata": {}
  },
  {
   "cell_type": "code",
   "execution_count": 29,
   "source": [
    "from pvu.store import buy_items\r\n",
    "\r\n",
    "buy_items()"
   ],
   "outputs": [
    {
     "output_type": "stream",
     "name": "stdout",
     "text": [
      "|| [12:50:14 03/09/2021] Iniciando a rotina de comprar itens\n",
      "|| [12:50:14 03/09/2021] Pegando seus itens atuais e necessidades de compra\n",
      "|| [12:50:14 03/09/2021] Verificando se é necessário comprar algum item\n",
      "|| [12:50:14 03/09/2021] Comprando item em quantidade\n",
      "|| [12:50:14 03/09/2021] Precisa comprar Scarecrow temos 0 de 15\n",
      "|| [12:50:14 03/09/2021] Vou comprar Scarecrow 1 vez\n",
      "|| [12:50:14 03/09/2021] Comprando item em quantidade\n",
      "|| [12:50:14 03/09/2021] Precisa comprar Water temos 0 de 75\n",
      "|| [12:50:14 03/09/2021] Vou comprar Water 1 vez\n",
      "|| [12:50:14 03/09/2021] Comprando item em quantidade\n",
      "|| [12:50:14 03/09/2021] Precisa comprar Small Pot temos 0 de 6\n",
      "|| [12:50:14 03/09/2021] Vou comprar Small Pot 6 vezes\n",
      "|| [12:50:14 03/09/2021] Comprando item em quantidade\n",
      "|| [12:50:14 03/09/2021] Precisa comprar Sunflower mama temos 0 de 1\n",
      "|| [12:50:14 03/09/2021] Vou comprar Sunflower mama 1 vez\n",
      "0\n",
      "0\n",
      "|| [12:50:14 03/09/2021] Você não conseguiu comprar todos os itens por falta de dinheiro\n"
     ]
    }
   ],
   "metadata": {}
  },
  {
   "cell_type": "code",
   "execution_count": 23,
   "source": [
    "get_user()"
   ],
   "outputs": [
    {
     "output_type": "execute_result",
     "data": {
      "text/plain": [
       "{'pvu': 0.0,\n",
       " 'le': 1200,\n",
       " 'items': [{'name': 'Scarecrow',\n",
       "   'id': 4,\n",
       "   'type': 'tool',\n",
       "   'price': 20,\n",
       "   'buy_amount': 20,\n",
       "   'min_amount': 15,\n",
       "   'current_amount': 20,\n",
       "   'priority': 1},\n",
       "  {'name': 'Water',\n",
       "   'id': 3,\n",
       "   'type': 'tool',\n",
       "   'price': 50,\n",
       "   'buy_amount': 100,\n",
       "   'min_amount': 75,\n",
       "   'current_amount': 0,\n",
       "   'priority': 2},\n",
       "  {'name': 'Small Pot',\n",
       "   'id': 1,\n",
       "   'type': 'tool',\n",
       "   'price': 50,\n",
       "   'buy_amount': 1,\n",
       "   'min_amount': 6,\n",
       "   'current_amount': 0,\n",
       "   'priority': 3},\n",
       "  {'name': 'Big Pot',\n",
       "   'id': 2,\n",
       "   'type': 'tool',\n",
       "   'price': 100,\n",
       "   'buy_amount': 1,\n",
       "   'min_amount': 0,\n",
       "   'current_amount': 0,\n",
       "   'priority': 4},\n",
       "  {'name': 'Sunflower Sapling',\n",
       "   'id': 1,\n",
       "   'type': 'sunflower',\n",
       "   'price': 100,\n",
       "   'buy_amount': 1,\n",
       "   'min_amount': 5,\n",
       "   'current_amount': 0,\n",
       "   'priority': 5},\n",
       "  {'name': 'Sunflower mama',\n",
       "   'id': 2,\n",
       "   'type': 'sunflower',\n",
       "   'price': 200,\n",
       "   'buy_amount': 1,\n",
       "   'min_amount': 1,\n",
       "   'current_amount': 0,\n",
       "   'priority': 6},\n",
       "  {'name': 'Greenhouse',\n",
       "   'id': 5,\n",
       "   'type': 'tool',\n",
       "   'price': 10,\n",
       "   'buy_amount': 10,\n",
       "   'min_amount': 0,\n",
       "   'current_amount': 0,\n",
       "   'priority': 7}]}"
      ]
     },
     "metadata": {},
     "execution_count": 23
    },
    {
     "output_type": "stream",
     "name": "stderr",
     "text": [
      "127.0.0.1:52467: request\n",
      "  -> HTTP protocol error in client request: Bad HTTP request line: b')\\x02\\x85\\x02'\n"
     ]
    }
   ],
   "metadata": {}
  },
  {
   "cell_type": "code",
   "execution_count": null,
   "source": [],
   "outputs": [],
   "metadata": {}
  }
 ],
 "metadata": {
  "orig_nbformat": 4,
  "language_info": {
   "name": "python",
   "version": "3.9.6",
   "mimetype": "text/x-python",
   "codemirror_mode": {
    "name": "ipython",
    "version": 3
   },
   "pygments_lexer": "ipython3",
   "nbconvert_exporter": "python",
   "file_extension": ".py"
  },
  "kernelspec": {
   "name": "python3",
   "display_name": "Python 3.9.6 64-bit (conda)"
  },
  "interpreter": {
   "hash": "eda1f671b45e12d927af835f42526635cba9f3c2d7a70ce8497d11203935ec2a"
  }
 },
 "nbformat": 4,
 "nbformat_minor": 2
}