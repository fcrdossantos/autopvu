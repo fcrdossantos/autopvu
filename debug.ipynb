{
 "cells": [
  {
   "cell_type": "markdown",
   "source": [
    "Configura para sempre reimportar os módulos (para caso você edite alguma rotina mais de uma vez direto na fonte dela)"
   ],
   "metadata": {}
  },
  {
   "cell_type": "code",
   "execution_count": null,
   "source": [
    "%load_ext autoreload\r\n",
    "%autoreload 2"
   ],
   "outputs": [],
   "metadata": {}
  },
  {
   "cell_type": "markdown",
   "source": [
    "Abre o navegador e inicia o debug.\r\n",
    "\r\n",
    "PS: Lembre-se de ativar o debug no .env"
   ],
   "metadata": {}
  },
  {
   "cell_type": "code",
   "execution_count": null,
   "source": [
    "import main"
   ],
   "outputs": [],
   "metadata": {}
  },
  {
   "cell_type": "markdown",
   "source": [
    "Aqui você pode manipular função por função sempre que quiser, apenas precisa deixar o navegador aberto"
   ],
   "metadata": {}
  },
  {
   "cell_type": "code",
   "execution_count": null,
   "source": [
    "from pvu.user import get_user_info\r\n",
    "\r\n",
    "get_user_info()"
   ],
   "outputs": [],
   "metadata": {}
  },
  {
   "cell_type": "markdown",
   "source": [
    "PS: Sempre que você terminar seu debug/teste e fechar o seu navegador, é necessário Reiniciar a Kernel e rodar de novo, para pegar um novo navegador"
   ],
   "metadata": {}
  }
 ],
 "metadata": {
  "orig_nbformat": 4,
  "language_info": {
   "name": "python",
   "version": "3.9.6",
   "mimetype": "text/x-python",
   "codemirror_mode": {
    "name": "ipython",
    "version": 3
   },
   "pygments_lexer": "ipython3",
   "nbconvert_exporter": "python",
   "file_extension": ".py"
  },
  "kernelspec": {
   "name": "python3",
   "display_name": "Python 3.9.6 64-bit (conda)"
  },
  "interpreter": {
   "hash": "eda1f671b45e12d927af835f42526635cba9f3c2d7a70ce8497d11203935ec2a"
  }
 },
 "nbformat": 4,
 "nbformat_minor": 2
}