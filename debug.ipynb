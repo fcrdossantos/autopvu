{
 "cells": [
  {
   "cell_type": "markdown",
   "source": [
    "Configura para sempre reimportar os módulos (para caso você edite alguma rotina mais de uma vez direto na fonte dela)"
   ],
   "metadata": {}
  },
  {
   "cell_type": "code",
   "execution_count": 1,
   "source": [
    "%load_ext autoreload\r\n",
    "%autoreload 2"
   ],
   "outputs": [],
   "metadata": {}
  },
  {
   "cell_type": "markdown",
   "source": [
    "Abre o navegador e inicia o debug.\r\n",
    "\r\n",
    "PS: Lembre-se de ativar o debug no .env"
   ],
   "metadata": {}
  },
  {
   "cell_type": "code",
   "execution_count": 2,
   "source": [
    "import main"
   ],
   "outputs": [
    {
     "output_type": "stream",
     "name": "stdout",
     "text": [
      " [14:37:56 30/08/2021] Carregando o ambiente (.env)\n",
      " [14:37:56 30/08/2021] Lendo o HWID correto\n",
      " [14:37:56 30/08/2021] HWID Alterado com sucesso!\n",
      " [14:37:57 30/08/2021] Abrindo Navegador\n"
     ]
    },
    {
     "output_type": "stream",
     "name": "stderr",
     "text": [
      "127.0.0.1:54272: request\n",
      "  -> HTTP protocol error in client request: Bad HTTP request line: b')\\x02\\x97\\x01'\n"
     ]
    },
    {
     "output_type": "stream",
     "name": "stdout",
     "text": [
      " [14:38:02 30/08/2021] Não minimize outro mude a aba do navegador ainda!!!\n",
      " [14:38:04 30/08/2021] Abrindo o MetaMask\n",
      " [14:38:06 30/08/2021]  Clicando na posição: (1802,52)\n",
      " [14:38:11 30/08/2021] Digitando a senha\n",
      " [14:38:13 30/08/2021] Desbloqueando MetaMask\n",
      " [14:38:14 30/08/2021]  Clicando na posição: (1636,538)\n",
      " [14:38:14 30/08/2021] Desbloqueamos o mask\n",
      " [14:38:18 30/08/2021] Vamos ocultar a extensão do mask\n"
     ]
    },
    {
     "output_type": "stream",
     "name": "stderr",
     "text": [
      "127.0.0.1:60448: request\n",
      "  -> HTTP protocol error in client request: Bad HTTP request line: b')\\x02\\xad\\x01'\n"
     ]
    },
    {
     "output_type": "stream",
     "name": "stdout",
     "text": [
      " [14:38:30 30/08/2021] Ocultando a extensão do MetaMask!\n",
      " [14:38:32 30/08/2021]  Clicando na posição: (1802,52)\n",
      " [14:38:48 30/08/2021] Inicializando o bot\n",
      " [14:38:50 30/08/2021] Aguarde até 10 segundos\n",
      " [14:38:50 30/08/2021] Verificando Jogo e Login\n",
      " [14:39:00 30/08/2021] Já está logado na conta!\n",
      " [14:39:00 30/08/2021] Vamos iniciar as rotinas do jogo\n",
      " [14:39:00 30/08/2021] Pronto! Você já pode minimizar ou mudar a aba do navegador\n"
     ]
    }
   ],
   "metadata": {}
  },
  {
   "cell_type": "markdown",
   "source": [
    "Aqui você pode manipular função por função sempre que quiser, apenas precisa deixar o navegador aberto"
   ],
   "metadata": {}
  },
  {
   "cell_type": "code",
   "execution_count": 4,
   "source": [
    "import time\r\n",
    "import os\r\n",
    "from datetime import datetime, timedelta\r\n",
    "from browser import get_browser\r\n",
    "from selenium.webdriver.common.by import By\r\n",
    "from selenium.webdriver.support.ui import WebDriverWait\r\n",
    "from selenium.webdriver.support import expected_conditions as EC\r\n",
    "from pvu.utils import random_sleep\r\n",
    "\r\n",
    "\r\n",
    "import json\r\n",
    "import requests\r\n",
    "from pvu.utils import get_headers, random_sleep\r\n",
    "from logs import log\r\n",
    "\r\n",
    "\r\n",
    "def maintenance_request():\r\n",
    "    url = \"https://backend-farm.plantvsundead.com/farming-stats\"\r\n",
    "    headers = get_headers()\r\n",
    "\r\n",
    "    log(\"Verificando se está em manutenção via request\")\r\n",
    "\r\n",
    "    random_sleep()\r\n",
    "    response = requests.request(\"GET\", url, headers=headers)\r\n",
    "\r\n",
    "    user_info = json.loads(response.text)\r\n",
    "\r\n",
    "    status = user_info.get(\"status\")\r\n",
    "\r\n",
    "    # 444 = maintenance\r\n",
    "    return status == 444\r\n",
    "\r\n",
    "maintenance_request()"
   ],
   "outputs": [
    {
     "output_type": "stream",
     "name": "stdout",
     "text": [
      " [14:39:04 30/08/2021] Pegando novo Token\n",
      " [14:39:04 30/08/2021] Verificando se está em manutenção via request\n"
     ]
    },
    {
     "output_type": "execute_result",
     "data": {
      "text/plain": [
       "True"
      ]
     },
     "metadata": {},
     "execution_count": 4
    },
    {
     "output_type": "stream",
     "name": "stderr",
     "text": [
      "127.0.0.1:49199: request\n",
      "  -> HTTP protocol error in client request: Bad HTTP request line: b')\\x02\\xc3\\x01'\n",
      "127.0.0.1:49826: request\n",
      "  -> HTTP protocol error in client request: Bad HTTP request line: b')\\x02\\xd9\\x01'\n"
     ]
    }
   ],
   "metadata": {}
  },
  {
   "cell_type": "code",
   "execution_count": 47,
   "source": [
    "from datetime import datetime\r\n",
    "from dateutil import tz \r\n",
    "\r\n",
    "def get_next_group_time():\r\n",
    "    try:\r\n",
    "        random_sleep()\r\n",
    "        now = datetime.now()\r\n",
    "\r\n",
    "        url = \"https://backend-farm.plantvsundead.com/farm-status\"\r\n",
    "        headers = get_headers()\r\n",
    "\r\n",
    "        log(\"Pegando horário do próximo grupo\")\r\n",
    "\r\n",
    "        random_sleep()\r\n",
    "        response = requests.request(\"GET\", url, headers=headers)\r\n",
    "\r\n",
    "        json_response  = json.loads(response.text)\r\n",
    "\r\n",
    "        next_group = json_response.get(\"data\").get(\"nextGroup\")\r\n",
    "\r\n",
    "        next_group_utc = datetime.strptime(next_group,'%Y-%m-%dT%H:%M:%S.%fZ')\r\n",
    "\r\n",
    "        next_group_utc = next_group_utc.replace(tzinfo=tz.tzutc())\r\n",
    "\r\n",
    "        local_next_group = next_group_utc.astimezone(tz=tz.tzlocal())\r\n",
    "\r\n",
    "\r\n",
    "        log(\"Horário do próximo grupo encontrado!\")\r\n",
    "        random_sleep()\r\n",
    "\r\n",
    "        return local_next_group\r\n",
    "    except:\r\n",
    "        log(\"Horário do próximo grupo não informado\")\r\n",
    "        return False\r\n"
   ],
   "outputs": [],
   "metadata": {}
  },
  {
   "cell_type": "markdown",
   "source": [
    "PS: Sempre que você terminar seu debug/teste e fechar o seu navegador, é necessário Reiniciar a Kernel e rodar de novo, para pegar um novo navegador"
   ],
   "metadata": {}
  },
  {
   "cell_type": "code",
   "execution_count": 48,
   "source": [
    "x = get_next_group_time()\r\n",
    "print(x)"
   ],
   "outputs": [],
   "metadata": {}
  },
  {
   "cell_type": "code",
   "execution_count": null,
   "source": [
    "x"
   ],
   "outputs": [],
   "metadata": {}
  },
  {
   "cell_type": "code",
   "execution_count": 45,
   "source": [
    "print(x)\r\n",
    "now = datetime.now().replace(tzinfo=tz.tzlocal())\r\n",
    "\r\n",
    "if now < x:\r\n",
    "    print('a')\r\n",
    "else:\r\n",
    "    print('b')"
   ],
   "outputs": [
    {
     "output_type": "stream",
     "name": "stdout",
     "text": [
      "2021-08-30 15:20:31.688000-03:00\n",
      "b\n"
     ]
    }
   ],
   "metadata": {}
  },
  {
   "cell_type": "code",
   "execution_count": 30,
   "source": [
    "now = datetime.now()\r\n",
    "\r\n",
    "timezone.\r\n",
    "\r\n",
    "url = \"https://backend-farm.plantvsundead.com/farm-status\"\r\n",
    "headers = get_headers()\r\n",
    "\r\n",
    "log(\"Pegando horário do próximo grupo\")\r\n",
    "\r\n",
    "random_sleep()\r\n",
    "response = requests.request(\"GET\", url, headers=headers)\r\n",
    "\r\n",
    "json_response  = json.loads(response.text)\r\n",
    "\r\n",
    "next_group = json_response.get(\"data\").get(\"nextGroup\")\r\n",
    "\r\n",
    "next_group_utc = datetime.strptime(next_group,'%Y-%m-%dT%H:%M:%S.%fZ')\r\n",
    "\r\n",
    "next_group_utc.replace(tzinfo=utc_zone)\r\n",
    "\r\n",
    "local_next_group = next_group_utc.astimezone(local_zone)\r\n",
    "\r\n"
   ],
   "outputs": [
    {
     "output_type": "stream",
     "name": "stdout",
     "text": [
      " [14:55:19 30/08/2021] Pegando horário do próximo grupo\n"
     ]
    },
    {
     "output_type": "error",
     "ename": "TypeError",
     "evalue": "tzinfo argument must be None or of a tzinfo subclass, not type '_TzSingleton'",
     "traceback": [
      "\u001b[1;31m---------------------------------------------------------------------------\u001b[0m",
      "\u001b[1;31mTypeError\u001b[0m                                 Traceback (most recent call last)",
      "\u001b[1;32m<ipython-input-30-90ccc4ecb879>\u001b[0m in \u001b[0;36m<module>\u001b[1;34m\u001b[0m\n\u001b[0;32m     18\u001b[0m \u001b[0mnext_group_utc\u001b[0m \u001b[1;33m=\u001b[0m \u001b[0mdatetime\u001b[0m\u001b[1;33m.\u001b[0m\u001b[0mstrptime\u001b[0m\u001b[1;33m(\u001b[0m\u001b[0mnext_group\u001b[0m\u001b[1;33m,\u001b[0m\u001b[1;34m'%Y-%m-%dT%H:%M:%S.%fZ'\u001b[0m\u001b[1;33m)\u001b[0m\u001b[1;33m\u001b[0m\u001b[1;33m\u001b[0m\u001b[0m\n\u001b[0;32m     19\u001b[0m \u001b[1;33m\u001b[0m\u001b[0m\n\u001b[1;32m---> 20\u001b[1;33m \u001b[0mnext_group_utc\u001b[0m\u001b[1;33m.\u001b[0m\u001b[0mreplace\u001b[0m\u001b[1;33m(\u001b[0m\u001b[0mtzinfo\u001b[0m\u001b[1;33m=\u001b[0m\u001b[0mutc_zone\u001b[0m\u001b[1;33m)\u001b[0m\u001b[1;33m\u001b[0m\u001b[1;33m\u001b[0m\u001b[0m\n\u001b[0m\u001b[0;32m     21\u001b[0m \u001b[1;33m\u001b[0m\u001b[0m\n\u001b[0;32m     22\u001b[0m \u001b[0mlocal_next_group\u001b[0m \u001b[1;33m=\u001b[0m \u001b[0mnext_group_utc\u001b[0m\u001b[1;33m.\u001b[0m\u001b[0mastimezone\u001b[0m\u001b[1;33m(\u001b[0m\u001b[0mlocal_zone\u001b[0m\u001b[1;33m)\u001b[0m\u001b[1;33m\u001b[0m\u001b[1;33m\u001b[0m\u001b[0m\n",
      "\u001b[1;31mTypeError\u001b[0m: tzinfo argument must be None or of a tzinfo subclass, not type '_TzSingleton'"
     ]
    }
   ],
   "metadata": {}
  },
  {
   "cell_type": "code",
   "execution_count": 26,
   "source": [
    "next_group_utc"
   ],
   "outputs": [
    {
     "output_type": "execute_result",
     "data": {
      "text/plain": [
       "datetime.datetime(2021, 8, 30, 18, 20, 31, 688000)"
      ]
     },
     "metadata": {},
     "execution_count": 26
    }
   ],
   "metadata": {}
  },
  {
   "cell_type": "code",
   "execution_count": 27,
   "source": [
    "local_next_group"
   ],
   "outputs": [
    {
     "output_type": "execute_result",
     "data": {
      "text/plain": [
       "datetime.datetime(2021, 8, 30, 18, 20, 31, 688000, tzinfo=tzlocal())"
      ]
     },
     "metadata": {},
     "execution_count": 27
    }
   ],
   "metadata": {}
  },
  {
   "cell_type": "code",
   "execution_count": 29,
   "source": [
    "tz.tzlocal()"
   ],
   "outputs": [
    {
     "output_type": "execute_result",
     "data": {
      "text/plain": [
       "tzlocal()"
      ]
     },
     "metadata": {},
     "execution_count": 29
    }
   ],
   "metadata": {}
  },
  {
   "cell_type": "code",
   "execution_count": 31,
   "source": [
    "from datetime import datetime, timezone\r\n",
    "\r\n",
    "def utc_to_local(utc_dt):\r\n",
    "    return utc_dt.replace(tzinfo=timezone.utc).astimezone(tz=None)\r\n"
   ],
   "outputs": [],
   "metadata": {}
  },
  {
   "cell_type": "code",
   "execution_count": 32,
   "source": [
    "utc_to_local(next_group_utc)"
   ],
   "outputs": [
    {
     "output_type": "execute_result",
     "data": {
      "text/plain": [
       "datetime.datetime(2021, 8, 30, 15, 20, 31, 688000, tzinfo=datetime.timezone(datetime.timedelta(days=-1, seconds=75600), 'Hora oficial do Brasil'))"
      ]
     },
     "metadata": {},
     "execution_count": 32
    }
   ],
   "metadata": {}
  },
  {
   "cell_type": "code",
   "execution_count": null,
   "source": [],
   "outputs": [],
   "metadata": {}
  }
 ],
 "metadata": {
  "orig_nbformat": 4,
  "language_info": {
   "name": "python",
   "version": "3.9.6",
   "mimetype": "text/x-python",
   "codemirror_mode": {
    "name": "ipython",
    "version": 3
   },
   "pygments_lexer": "ipython3",
   "nbconvert_exporter": "python",
   "file_extension": ".py"
  },
  "kernelspec": {
   "name": "python3",
   "display_name": "Python 3.9.6 64-bit (conda)"
  },
  "interpreter": {
   "hash": "eda1f671b45e12d927af835f42526635cba9f3c2d7a70ce8497d11203935ec2a"
  }
 },
 "nbformat": 4,
 "nbformat_minor": 2
}