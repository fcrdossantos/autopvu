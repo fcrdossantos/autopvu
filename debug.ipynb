{
 "cells": [
  {
   "cell_type": "code",
   "execution_count": 1,
   "source": [
    "from browser import BROWSER\r\n",
    "BROWSER = None\r\n",
    "\r\n",
    "import main"
   ],
   "outputs": [
    {
     "output_type": "stream",
     "name": "stdout",
     "text": [
      "|| Carregando o ambiente (.env)\n",
      "|| Lendo o HWID correto\n",
      "|| HWID Alterado com sucesso!\n",
      "|| Abrindo Navegador\n"
     ]
    },
    {
     "output_type": "stream",
     "name": "stderr",
     "text": [
      "127.0.0.1:59870: request\n",
      "  -> HTTP protocol error in client request: Bad HTTP request line: b')\\x02\\x97\\x01'\n"
     ]
    },
    {
     "output_type": "stream",
     "name": "stdout",
     "text": [
      "|| Não minimize outro mude a aba do navegador ainda!!!\n",
      "|| Abrindo o MetaMask\n",
      "|| Clicando na posição: (1801,51)\n",
      "|| Digitando PASSWORD\n",
      "|| Desbloqueando MetaMask\n",
      "|| Clicando na posição: (1628,577)\n",
      "|| Ocultando a extensão do MetaMask!\n",
      "|| Clicando na posição: (1802,51)\n"
     ]
    },
    {
     "output_type": "stream",
     "name": "stderr",
     "text": [
      "127.0.0.1:63455: request\n",
      "  -> HTTP protocol error in client request: Bad HTTP request line: b')\\x02\\xad\\x01'\n"
     ]
    },
    {
     "output_type": "stream",
     "name": "stdout",
     "text": [
      "|| Inicializando o bot\n",
      "|| Aguarde até 10 segundos\n",
      "|| Verificando Jogo e Login\n",
      "|| Já está logado na conta!\n",
      "|| Vamos iniciar as rotinas do jogo\n",
      "|| Pronto! Você já pode minimizar ou mudar a aba do navegador\n"
     ]
    }
   ],
   "metadata": {}
  },
  {
   "cell_type": "code",
   "execution_count": 3,
   "source": [
    "%load_ext autoreload\r\n",
    "%autoreload 2"
   ],
   "outputs": [],
   "metadata": {}
  },
  {
   "cell_type": "code",
   "execution_count": 9,
   "source": [
    "from pvu.user import get_user_info\r\n",
    "from pvu.items import get_items\r\n",
    "\r\n",
    "items = get_items()\r\n",
    "items"
   ],
   "outputs": [
    {
     "output_type": "stream",
     "name": "stdout",
     "text": [
      "|| Pegando todas as Sunflowers disponíveis\n",
      "|| Pegando as minhas Sunflowers\n",
      "|| Pegando todas as ferramentas disponíveis\n",
      "|| Pegando todas as minhas ferramentas\n"
     ]
    },
    {
     "output_type": "stream",
     "name": "stderr",
     "text": [
      "127.0.0.1:56311: request\n",
      "  -> HTTP protocol error in client request: Bad HTTP request line: b')\\x02\\xef\\x01'\n"
     ]
    },
    {
     "output_type": "stream",
     "name": "stdout",
     "text": [
      "|| Não encontramos um valor para MIN_SCARECROW no arquivo .env\n",
      "|| Vamos colocar o valor mínimo para Scarecrow como sendo 0\n"
     ]
    },
    {
     "output_type": "execute_result",
     "data": {
      "text/plain": [
       "[{'name': 'Sunflower Sapling',\n",
       "  'id': 1,\n",
       "  '_type': 'sunflower',\n",
       "  'price': 100,\n",
       "  'buy_amount': 1,\n",
       "  'min_amount': 6,\n",
       "  'current_amount': 0},\n",
       " {'name': 'Sunflower mama',\n",
       "  'id': 2,\n",
       "  '_type': 'sunflower',\n",
       "  'price': 200,\n",
       "  'buy_amount': 1,\n",
       "  'min_amount': 1,\n",
       "  'current_amount': 0},\n",
       " {'name': 'Small Pot',\n",
       "  'id': 1,\n",
       "  '_type': 'tool',\n",
       "  'price': 50,\n",
       "  'buy_amount': 1,\n",
       "  'min_amount': 6,\n",
       "  'current_amount': 0},\n",
       " {'name': 'Big Pot',\n",
       "  'id': 2,\n",
       "  '_type': 'tool',\n",
       "  'price': 100,\n",
       "  'buy_amount': 1,\n",
       "  'min_amount': 0,\n",
       "  'current_amount': 0},\n",
       " {'name': 'Water',\n",
       "  'id': 3,\n",
       "  '_type': 'tool',\n",
       "  'price': 50,\n",
       "  'buy_amount': 1,\n",
       "  'min_amount': 50,\n",
       "  'current_amount': 0},\n",
       " {'name': 'Scarecrow',\n",
       "  'id': 4,\n",
       "  '_type': 'tool',\n",
       "  'price': 20,\n",
       "  'buy_amount': 1,\n",
       "  'min_amount': 0,\n",
       "  'current_amount': 0},\n",
       " {'name': 'Greenhouse',\n",
       "  'id': 5,\n",
       "  '_type': 'tool',\n",
       "  'price': 10,\n",
       "  'buy_amount': 1,\n",
       "  'min_amount': 0,\n",
       "  'current_amount': 0}]"
      ]
     },
     "metadata": {},
     "execution_count": 9
    }
   ],
   "metadata": {}
  },
  {
   "cell_type": "code",
   "execution_count": 10,
   "source": [
    "from pvu.user import get_user_info\r\n",
    "info = get_user_info()\r\n",
    "info"
   ],
   "outputs": [
    {
     "output_type": "stream",
     "name": "stdout",
     "text": [
      "|| Pegando seus PVU's\n",
      "|| Pegando seus LE's\n",
      "|| Pegando todas as Sunflowers disponíveis\n",
      "|| Pegando as minhas Sunflowers\n",
      "|| Pegando todas as ferramentas disponíveis\n",
      "|| Pegando todas as minhas ferramentas\n",
      "|| Não encontramos um valor para MIN_SCARECROW no arquivo .env\n",
      "|| Vamos colocar o valor mínimo para Scarecrow como sendo 0\n",
      "|| Você possui:\n",
      "|| => 1.19 PVU's\n",
      "|| => 850 LE's\n",
      "|| => 0 Sunflower Sapling\n",
      "|| => 0 Sunflower mama\n",
      "|| => 0 Small Pot\n",
      "|| => 0 Big Pot\n",
      "|| => 0 Water\n",
      "|| => 0 Scarecrow\n",
      "|| => 0 Greenhouse\n"
     ]
    }
   ],
   "metadata": {}
  },
  {
   "cell_type": "code",
   "execution_count": 21,
   "source": [
    "from pvu.farm import use_pots, water_plants\r\n",
    "\r\n",
    "#use_pots()\r\n",
    "\r\n",
    "water_plants()\r\n"
   ],
   "outputs": [
    {
     "output_type": "stream",
     "name": "stdout",
     "text": [
      "|| Iniciando a rotina de regar plantas\n",
      "|| Coletando as informações das plantas\n",
      "|| Coletando as informações da fazenda\n"
     ]
    }
   ],
   "metadata": {}
  },
  {
   "cell_type": "code",
   "execution_count": 16,
   "source": [
    "from pvu.farm import get_plants, get_farm_infos\r\n",
    "\r\n",
    "p = get_plants()"
   ],
   "outputs": [
    {
     "output_type": "stream",
     "name": "stdout",
     "text": [
      "|| Coletando as informações das plantas\n",
      "|| Coletando as informações da fazenda\n"
     ]
    }
   ],
   "metadata": {}
  },
  {
   "cell_type": "code",
   "execution_count": 15,
   "source": [
    "get_farm_infos()"
   ],
   "outputs": [
    {
     "output_type": "stream",
     "name": "stdout",
     "text": [
      "|| Coletando as informações da fazenda\n"
     ]
    },
    {
     "output_type": "execute_result",
     "data": {
      "text/plain": [
       "{'status': 0,\n",
       " 'data': [{'_id': '61242e12eada8d001377d86a',\n",
       "   'plant': {'farmConfig': {'le': 250, 'hours': 72},\n",
       "    'sunflowerId': 1,\n",
       "    'type': 1,\n",
       "    'iconUrl': 'https://pvu-static.s3.ap-southeast-1.amazonaws.com/farms/sapling.svg',\n",
       "    'synergy': {}},\n",
       "   'land': {'elements': {'fire': 0,\n",
       "     'water': 0,\n",
       "     'ice': 0,\n",
       "     'wind': 0,\n",
       "     'electro': 0,\n",
       "     'parasite': 0,\n",
       "     'light': 0,\n",
       "     'dark': 0,\n",
       "     'metal': 0},\n",
       "    'capacity': {'plant': 5, 'motherTree': 1},\n",
       "    'landId': 0,\n",
       "    'x': 0,\n",
       "    'y': 0,\n",
       "    'totalOfElements': 0,\n",
       "    'rarity': 0},\n",
       "   'isTempPlant': True,\n",
       "   'stage': 'farming',\n",
       "   'ownerId': '0x4c552f298c397535346b179779bab49326cf058d',\n",
       "   'landId': 0,\n",
       "   'plantId': 0,\n",
       "   'plantType': 1,\n",
       "   'activeTools': [{'count': 1,\n",
       "     '_id': '61242e12eada8d001377d86b',\n",
       "     'id': 1,\n",
       "     'type': 'POT',\n",
       "     'duration': 10,\n",
       "     'endTime': '2021-09-02T23:26:02.508Z',\n",
       "     'startTime': '2021-08-23T23:26:02.508Z'},\n",
       "    {'count': 2,\n",
       "     '_id': '61242e12eada8d001377d86d',\n",
       "     'id': 3,\n",
       "     'type': 'WATER',\n",
       "     'duration': 0,\n",
       "     'endTime': '2021-08-27T21:26:02.802Z',\n",
       "     'startTime': '2021-08-26T22:26:02.802Z'}],\n",
       "   'createdAt': '2021-08-23T23:24:02.092Z',\n",
       "   'updatedAt': '2021-08-26T23:33:19.737Z',\n",
       "   '__v': 0,\n",
       "   'harvestTime': '2021-08-26T23:26:02.802Z',\n",
       "   'rate': {'le': 250, 'hours': 72},\n",
       "   'startTime': '2021-08-23T23:26:02.802Z',\n",
       "   'hasSynergy': False,\n",
       "   'needWater': False,\n",
       "   'hasSeed': False,\n",
       "   'inGreenhouse': False,\n",
       "   'count': 195,\n",
       "   'totalHarvest': 0,\n",
       "   'totalExtraHarvest': 0},\n",
       "  {'_id': '61242e688d080a0014e0c9f9',\n",
       "   'plant': {'farmConfig': {'le': 250, 'hours': 72},\n",
       "    'sunflowerId': 1,\n",
       "    'type': 1,\n",
       "    'iconUrl': 'https://pvu-static.s3.ap-southeast-1.amazonaws.com/farms/sapling.svg',\n",
       "    'synergy': {}},\n",
       "   'land': {'elements': {'fire': 0,\n",
       "     'water': 0,\n",
       "     'ice': 0,\n",
       "     'wind': 0,\n",
       "     'electro': 0,\n",
       "     'parasite': 0,\n",
       "     'light': 0,\n",
       "     'dark': 0,\n",
       "     'metal': 0},\n",
       "    'capacity': {'plant': 5, 'motherTree': 1},\n",
       "    'landId': 0,\n",
       "    'x': 0,\n",
       "    'y': 0,\n",
       "    'totalOfElements': 0,\n",
       "    'rarity': 0},\n",
       "   'isTempPlant': True,\n",
       "   'stage': 'farming',\n",
       "   'ownerId': '0x4c552f298c397535346b179779bab49326cf058d',\n",
       "   'landId': 0,\n",
       "   'plantId': 0,\n",
       "   'plantType': 1,\n",
       "   'activeTools': [{'count': 1,\n",
       "     '_id': '61242e688d080a0014e0c9fa',\n",
       "     'id': 1,\n",
       "     'type': 'POT',\n",
       "     'duration': 10,\n",
       "     'endTime': '2021-09-02T23:26:06.725Z',\n",
       "     'startTime': '2021-08-23T23:26:06.725Z'},\n",
       "    {'count': 2,\n",
       "     '_id': '61242e688d080a0014e0c9fc',\n",
       "     'id': 3,\n",
       "     'type': 'WATER',\n",
       "     'duration': 0,\n",
       "     'endTime': '2021-08-27T21:26:07.017Z',\n",
       "     'startTime': '2021-08-26T22:26:07.017Z'}],\n",
       "   'createdAt': '2021-08-23T23:25:28.281Z',\n",
       "   'updatedAt': '2021-08-26T23:33:21.780Z',\n",
       "   '__v': 0,\n",
       "   'harvestTime': '2021-08-26T23:26:07.017Z',\n",
       "   'rate': {'le': 250, 'hours': 72},\n",
       "   'startTime': '2021-08-23T23:26:07.017Z',\n",
       "   'hasSynergy': False,\n",
       "   'needWater': False,\n",
       "   'hasSeed': False,\n",
       "   'inGreenhouse': False,\n",
       "   'count': 186,\n",
       "   'totalHarvest': 0,\n",
       "   'totalExtraHarvest': 0},\n",
       "  {'_id': '61242e68e8dc010014844a92',\n",
       "   'plant': {'farmConfig': {'le': 250, 'hours': 72},\n",
       "    'sunflowerId': 1,\n",
       "    'type': 1,\n",
       "    'iconUrl': 'https://pvu-static.s3.ap-southeast-1.amazonaws.com/farms/sapling.svg',\n",
       "    'synergy': {}},\n",
       "   'land': {'elements': {'fire': 0,\n",
       "     'water': 0,\n",
       "     'ice': 0,\n",
       "     'wind': 0,\n",
       "     'electro': 0,\n",
       "     'parasite': 0,\n",
       "     'light': 0,\n",
       "     'dark': 0,\n",
       "     'metal': 0},\n",
       "    'capacity': {'plant': 5, 'motherTree': 1},\n",
       "    'landId': 0,\n",
       "    'x': 0,\n",
       "    'y': 0,\n",
       "    'totalOfElements': 0,\n",
       "    'rarity': 0},\n",
       "   'isTempPlant': True,\n",
       "   'stage': 'farming',\n",
       "   'ownerId': '0x4c552f298c397535346b179779bab49326cf058d',\n",
       "   'landId': 0,\n",
       "   'plantId': 0,\n",
       "   'plantType': 1,\n",
       "   'activeTools': [{'count': 1,\n",
       "     '_id': '61242e68e8dc010014844a93',\n",
       "     'id': 1,\n",
       "     'type': 'POT',\n",
       "     'duration': 10,\n",
       "     'endTime': '2021-09-02T23:26:10.598Z',\n",
       "     'startTime': '2021-08-23T23:26:10.598Z'},\n",
       "    {'count': 2,\n",
       "     '_id': '61242e68e8dc010014844a95',\n",
       "     'id': 3,\n",
       "     'type': 'WATER',\n",
       "     'duration': 0,\n",
       "     'endTime': '2021-08-28T00:26:10.891Z',\n",
       "     'startTime': '2021-08-26T23:26:10.891Z'}],\n",
       "   'createdAt': '2021-08-23T23:25:28.928Z',\n",
       "   'updatedAt': '2021-08-26T23:33:24.574Z',\n",
       "   '__v': 0,\n",
       "   'harvestTime': '2021-08-26T23:26:10.891Z',\n",
       "   'rate': {'le': 250, 'hours': 72},\n",
       "   'startTime': '2021-08-23T23:26:10.891Z',\n",
       "   'hasSynergy': False,\n",
       "   'needWater': False,\n",
       "   'hasSeed': False,\n",
       "   'inGreenhouse': False,\n",
       "   'count': 27,\n",
       "   'totalHarvest': 0,\n",
       "   'totalExtraHarvest': 0},\n",
       "  {'_id': '61244e74a8d26300144e46fc',\n",
       "   'plant': {'farmConfig': {'le': 250, 'hours': 72},\n",
       "    'sunflowerId': 1,\n",
       "    'type': 1,\n",
       "    'iconUrl': 'https://pvu-static.s3.ap-southeast-1.amazonaws.com/farms/sapling.svg',\n",
       "    'synergy': {}},\n",
       "   'land': {'elements': {'fire': 0,\n",
       "     'water': 0,\n",
       "     'ice': 0,\n",
       "     'wind': 0,\n",
       "     'electro': 0,\n",
       "     'parasite': 0,\n",
       "     'light': 0,\n",
       "     'dark': 0,\n",
       "     'metal': 0},\n",
       "    'capacity': {'plant': 5, 'motherTree': 1},\n",
       "    'landId': 0,\n",
       "    'x': 0,\n",
       "    'y': 0,\n",
       "    'totalOfElements': 0,\n",
       "    'rarity': 0},\n",
       "   'isTempPlant': True,\n",
       "   'stage': 'farming',\n",
       "   'ownerId': '0x4c552f298c397535346b179779bab49326cf058d',\n",
       "   'landId': 0,\n",
       "   'plantId': 0,\n",
       "   'plantType': 1,\n",
       "   'activeTools': [{'count': 2,\n",
       "     '_id': '61244e74a8d26300144e46fd',\n",
       "     'id': 1,\n",
       "     'type': 'POT',\n",
       "     'duration': 10,\n",
       "     'endTime': '2021-09-03T01:42:33.789Z',\n",
       "     'startTime': '2021-08-24T01:42:33.789Z'}],\n",
       "   'createdAt': '2021-08-24T01:42:12.488Z',\n",
       "   'updatedAt': '2021-08-26T23:43:32.800Z',\n",
       "   '__v': 0,\n",
       "   'harvestTime': '2021-08-27T01:42:34.081Z',\n",
       "   'rate': {'le': 250, 'hours': 72},\n",
       "   'startTime': '2021-08-24T01:42:34.081Z',\n",
       "   'hasSynergy': False,\n",
       "   'needWater': True,\n",
       "   'hasSeed': False,\n",
       "   'inGreenhouse': False,\n",
       "   'count': 140,\n",
       "   'totalHarvest': 0,\n",
       "   'totalExtraHarvest': 0},\n",
       "  {'_id': '61244e76e8dc01001484892c',\n",
       "   'plant': {'farmConfig': {'le': 250, 'hours': 72},\n",
       "    'sunflowerId': 1,\n",
       "    'type': 1,\n",
       "    'iconUrl': 'https://pvu-static.s3.ap-southeast-1.amazonaws.com/farms/sapling.svg',\n",
       "    'synergy': {}},\n",
       "   'land': {'elements': {'fire': 0,\n",
       "     'water': 0,\n",
       "     'ice': 0,\n",
       "     'wind': 0,\n",
       "     'electro': 0,\n",
       "     'parasite': 0,\n",
       "     'light': 0,\n",
       "     'dark': 0,\n",
       "     'metal': 0},\n",
       "    'capacity': {'plant': 5, 'motherTree': 1},\n",
       "    'landId': 0,\n",
       "    'x': 0,\n",
       "    'y': 0,\n",
       "    'totalOfElements': 0,\n",
       "    'rarity': 0},\n",
       "   'isTempPlant': True,\n",
       "   'stage': 'farming',\n",
       "   'ownerId': '0x4c552f298c397535346b179779bab49326cf058d',\n",
       "   'landId': 0,\n",
       "   'plantId': 0,\n",
       "   'plantType': 1,\n",
       "   'activeTools': [{'count': 1,\n",
       "     '_id': '61244e76e8dc01001484892d',\n",
       "     'id': 1,\n",
       "     'type': 'POT',\n",
       "     'duration': 10,\n",
       "     'endTime': '2021-09-03T01:46:04.240Z',\n",
       "     'startTime': '2021-08-24T01:46:04.240Z'},\n",
       "    {'count': 2,\n",
       "     '_id': '61244e76e8dc01001484892f',\n",
       "     'id': 3,\n",
       "     'type': 'WATER',\n",
       "     'duration': 0,\n",
       "     'endTime': '2021-08-27T02:46:04.532Z',\n",
       "     'startTime': '2021-08-26T01:46:04.532Z'}],\n",
       "   'createdAt': '2021-08-24T01:42:14.703Z',\n",
       "   'updatedAt': '2021-08-26T17:43:14.881Z',\n",
       "   '__v': 0,\n",
       "   'harvestTime': '2021-08-27T01:46:04.532Z',\n",
       "   'rate': {'le': 250, 'hours': 72},\n",
       "   'startTime': '2021-08-24T01:46:04.532Z',\n",
       "   'hasSynergy': False,\n",
       "   'needWater': False,\n",
       "   'hasSeed': False,\n",
       "   'inGreenhouse': False,\n",
       "   'count': 82,\n",
       "   'totalHarvest': 0,\n",
       "   'totalExtraHarvest': 0},\n",
       "  {'_id': '612825bcea2bd700125c53a0',\n",
       "   'plant': {'farmConfig': {'le': 850, 'hours': 144},\n",
       "    'sunflowerId': 2,\n",
       "    'type': 2,\n",
       "    'iconUrl': 'https://pvu-static.s3.ap-southeast-1.amazonaws.com/farms/mama.svg',\n",
       "    'synergy': {}},\n",
       "   'land': {'elements': {'fire': 0,\n",
       "     'water': 0,\n",
       "     'ice': 0,\n",
       "     'wind': 0,\n",
       "     'electro': 0,\n",
       "     'parasite': 0,\n",
       "     'light': 0,\n",
       "     'dark': 0,\n",
       "     'metal': 0},\n",
       "    'capacity': {'plant': 5, 'motherTree': 1},\n",
       "    'landId': 0,\n",
       "    'x': 0,\n",
       "    'y': 0,\n",
       "    'totalOfElements': 0,\n",
       "    'rarity': 0},\n",
       "   'isTempPlant': True,\n",
       "   'stage': 'new',\n",
       "   'ownerId': '0x4c552f298c397535346b179779bab49326cf058d',\n",
       "   'landId': 0,\n",
       "   'plantId': 0,\n",
       "   'plantType': 2,\n",
       "   'activeTools': [],\n",
       "   'createdAt': '2021-08-26T23:37:32.522Z',\n",
       "   'updatedAt': '2021-08-26T23:37:32.522Z',\n",
       "   '__v': 0,\n",
       "   'hasSynergy': False,\n",
       "   'needWater': True,\n",
       "   'hasSeed': False,\n",
       "   'inGreenhouse': False,\n",
       "   'count': 182,\n",
       "   'totalHarvest': 0,\n",
       "   'totalExtraHarvest': 0}],\n",
       " 'total': 6}"
      ]
     },
     "metadata": {},
     "execution_count": 15
    }
   ],
   "metadata": {}
  },
  {
   "cell_type": "code",
   "execution_count": 18,
   "source": [
    "p"
   ],
   "outputs": [
    {
     "output_type": "execute_result",
     "data": {
      "text/plain": [
       "[{'id': '61242e12eada8d001377d86a',\n",
       "  'water': 2,\n",
       "  'crow': False,\n",
       "  'pot': 1,\n",
       "  'stage': 'farming'},\n",
       " {'id': '61242e688d080a0014e0c9f9',\n",
       "  'water': 2,\n",
       "  'crow': False,\n",
       "  'pot': 1,\n",
       "  'stage': 'farming'},\n",
       " {'id': '61242e68e8dc010014844a92',\n",
       "  'water': 2,\n",
       "  'crow': False,\n",
       "  'pot': 1,\n",
       "  'stage': 'farming'},\n",
       " {'id': '61244e74a8d26300144e46fc',\n",
       "  'water': 0,\n",
       "  'crow': False,\n",
       "  'pot': 2,\n",
       "  'stage': 'farming'},\n",
       " {'id': '61244e76e8dc01001484892c',\n",
       "  'water': 2,\n",
       "  'crow': False,\n",
       "  'pot': 1,\n",
       "  'stage': 'farming'},\n",
       " {'id': '612825bcea2bd700125c53a0', 'water': 0, 'crow': False, 'stage': 'new'}]"
      ]
     },
     "metadata": {},
     "execution_count": 18
    }
   ],
   "metadata": {}
  },
  {
   "cell_type": "code",
   "execution_count": null,
   "source": [
    "# 1 -> Mudar o Get_User, retornando:\r\n",
    "# |=> Currencies\r\n",
    "# |=> Tools\r\n",
    "# |=> Sunflowers\r\n",
    "\r\n",
    "# 2 -> Criar os Gets:\r\n",
    "# |=> Currencies\r\n",
    "# |=> Tools\r\n",
    "# |=> Sunflowers"
   ],
   "outputs": [],
   "metadata": {}
  },
  {
   "cell_type": "code",
   "execution_count": null,
   "source": [
    "# properties:\r\n",
    "# type             => str   [tools, sunflowers]\r\n",
    "# id               => int   [...]\r\n",
    "# usage            => int   [...]\r\n",
    "# price            => int   [...]\r\n",
    "# name             => str   [...]\r\n",
    "# min_amount       => int   [...]\r\n",
    "# current_amount   => int   [...]\r\n",
    "\r\n",
    "# requests:\r\n",
    "# store | tools        => https://backend-farm.plantvsundead.com/available-tools\r\n",
    "# store | sunflowers   => https://backend-farm.plantvsundead.com/sunflowers\r\n",
    "# user  | tools        => https://backend-farm.plantvsundead.com/my-tools\r\n",
    "# user  | sunflowers   => https://backend-farm.plantvsundead.com/my-sunflowers\r\n",
    "\r\n",
    "# currency:\r\n",
    "# name      => str  [PVU, LE]\r\n",
    "# amount    => int  [...]"
   ],
   "outputs": [],
   "metadata": {}
  },
  {
   "cell_type": "code",
   "execution_count": 7,
   "source": [
    "from pvu.sunflowers import get_all_sunflowers\r\n",
    "get_all_sunflowers()"
   ],
   "outputs": [
    {
     "output_type": "stream",
     "name": "stdout",
     "text": [
      "|| Pegando todas as Sunflowers disponíveis\n"
     ]
    },
    {
     "output_type": "execute_result",
     "data": {
      "text/plain": [
       "[{'rate': {'le': 250, 'hours': 72},\n",
       "  'usages': 1,\n",
       "  '_id': '611e0ef5fcf01d9463a8acf3',\n",
       "  'id': 1,\n",
       "  'name': 'Sunflower Sapling',\n",
       "  'price': 100,\n",
       "  'duration': 3,\n",
       "  'type': 'SAPLING',\n",
       "  'plantType': 1,\n",
       "  'description': 'A temporary plant that gives 250LE/72h, is not affected by weather events, and\\ncannot drop seeds.',\n",
       "  'hint': '',\n",
       "  '__v': 0},\n",
       " {'rate': {'le': 850, 'hours': 144},\n",
       "  'usages': 1,\n",
       "  '_id': '611e0ef5fcf01d9463a8acf4',\n",
       "  'id': 2,\n",
       "  'name': 'Sunflower mama',\n",
       "  'price': 200,\n",
       "  'duration': 6,\n",
       "  'type': 'MAMA',\n",
       "  'plantType': 2,\n",
       "  'description': 'A temporary mother tree that gives 850LE/144h, is not affected by weather\\nevents, and cannot drop seeds.',\n",
       "  'hint': '',\n",
       "  '__v': 0}]"
      ]
     },
     "metadata": {},
     "execution_count": 7
    }
   ],
   "metadata": {}
  },
  {
   "cell_type": "code",
   "execution_count": null,
   "source": [],
   "outputs": [],
   "metadata": {}
  }
 ],
 "metadata": {
  "orig_nbformat": 4,
  "language_info": {
   "name": "python",
   "version": "3.9.6",
   "mimetype": "text/x-python",
   "codemirror_mode": {
    "name": "ipython",
    "version": 3
   },
   "pygments_lexer": "ipython3",
   "nbconvert_exporter": "python",
   "file_extension": ".py"
  },
  "kernelspec": {
   "name": "python3",
   "display_name": "Python 3.9.6 64-bit (conda)"
  },
  "interpreter": {
   "hash": "eda1f671b45e12d927af835f42526635cba9f3c2d7a70ce8497d11203935ec2a"
  }
 },
 "nbformat": 4,
 "nbformat_minor": 2
}