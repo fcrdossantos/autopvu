{
 "cells": [
  {
   "cell_type": "code",
   "execution_count": 1,
   "source": [
    "from browser import BROWSER\r\n",
    "BROWSER = None\r\n",
    "\r\n",
    "import main"
   ],
   "outputs": [
    {
     "output_type": "stream",
     "name": "stdout",
     "text": [
      "|| Carregando o ambiente (.env)\n",
      "|| Lendo o HWID correto\n",
      "|| HWID Alterado com sucesso!\n",
      "|| Abrindo Navegador\n"
     ]
    },
    {
     "output_type": "stream",
     "name": "stderr",
     "text": [
      "127.0.0.1:59870: request\n",
      "  -> HTTP protocol error in client request: Bad HTTP request line: b')\\x02\\x97\\x01'\n"
     ]
    },
    {
     "output_type": "stream",
     "name": "stdout",
     "text": [
      "|| Não minimize outro mude a aba do navegador ainda!!!\n",
      "|| Abrindo o MetaMask\n",
      "|| Clicando na posição: (1801,51)\n",
      "|| Digitando PASSWORD\n",
      "|| Desbloqueando MetaMask\n",
      "|| Clicando na posição: (1628,577)\n",
      "|| Ocultando a extensão do MetaMask!\n",
      "|| Clicando na posição: (1802,51)\n"
     ]
    },
    {
     "output_type": "stream",
     "name": "stderr",
     "text": [
      "127.0.0.1:63455: request\n",
      "  -> HTTP protocol error in client request: Bad HTTP request line: b')\\x02\\xad\\x01'\n"
     ]
    },
    {
     "output_type": "stream",
     "name": "stdout",
     "text": [
      "|| Inicializando o bot\n",
      "|| Aguarde até 10 segundos\n",
      "|| Verificando Jogo e Login\n",
      "|| Já está logado na conta!\n",
      "|| Vamos iniciar as rotinas do jogo\n",
      "|| Pronto! Você já pode minimizar ou mudar a aba do navegador\n"
     ]
    }
   ],
   "metadata": {}
  },
  {
   "cell_type": "code",
   "execution_count": 3,
   "source": [
    "%load_ext autoreload\r\n",
    "%autoreload 2"
   ],
   "outputs": [],
   "metadata": {}
  },
  {
   "cell_type": "code",
   "execution_count": 9,
   "source": [
    "from pvu.user import get_user_info\r\n",
    "from pvu.items import get_items\r\n",
    "\r\n",
    "items = get_items()\r\n",
    "items"
   ],
   "outputs": [
    {
     "output_type": "stream",
     "name": "stdout",
     "text": [
      "|| Pegando todas as Sunflowers disponíveis\n",
      "|| Pegando as minhas Sunflowers\n",
      "|| Pegando todas as ferramentas disponíveis\n",
      "|| Pegando todas as minhas ferramentas\n"
     ]
    },
    {
     "output_type": "stream",
     "name": "stderr",
     "text": [
      "127.0.0.1:56311: request\n",
      "  -> HTTP protocol error in client request: Bad HTTP request line: b')\\x02\\xef\\x01'\n"
     ]
    },
    {
     "output_type": "stream",
     "name": "stdout",
     "text": [
      "|| Não encontramos um valor para MIN_SCARECROW no arquivo .env\n",
      "|| Vamos colocar o valor mínimo para Scarecrow como sendo 0\n"
     ]
    },
    {
     "output_type": "execute_result",
     "data": {
      "text/plain": [
       "[{'name': 'Sunflower Sapling',\n",
       "  'id': 1,\n",
       "  '_type': 'sunflower',\n",
       "  'price': 100,\n",
       "  'buy_amount': 1,\n",
       "  'min_amount': 6,\n",
       "  'current_amount': 0},\n",
       " {'name': 'Sunflower mama',\n",
       "  'id': 2,\n",
       "  '_type': 'sunflower',\n",
       "  'price': 200,\n",
       "  'buy_amount': 1,\n",
       "  'min_amount': 1,\n",
       "  'current_amount': 0},\n",
       " {'name': 'Small Pot',\n",
       "  'id': 1,\n",
       "  '_type': 'tool',\n",
       "  'price': 50,\n",
       "  'buy_amount': 1,\n",
       "  'min_amount': 6,\n",
       "  'current_amount': 0},\n",
       " {'name': 'Big Pot',\n",
       "  'id': 2,\n",
       "  '_type': 'tool',\n",
       "  'price': 100,\n",
       "  'buy_amount': 1,\n",
       "  'min_amount': 0,\n",
       "  'current_amount': 0},\n",
       " {'name': 'Water',\n",
       "  'id': 3,\n",
       "  '_type': 'tool',\n",
       "  'price': 50,\n",
       "  'buy_amount': 1,\n",
       "  'min_amount': 50,\n",
       "  'current_amount': 0},\n",
       " {'name': 'Scarecrow',\n",
       "  'id': 4,\n",
       "  '_type': 'tool',\n",
       "  'price': 20,\n",
       "  'buy_amount': 1,\n",
       "  'min_amount': 0,\n",
       "  'current_amount': 0},\n",
       " {'name': 'Greenhouse',\n",
       "  'id': 5,\n",
       "  '_type': 'tool',\n",
       "  'price': 10,\n",
       "  'buy_amount': 1,\n",
       "  'min_amount': 0,\n",
       "  'current_amount': 0}]"
      ]
     },
     "metadata": {},
     "execution_count": 9
    }
   ],
   "metadata": {}
  },
  {
   "cell_type": "code",
   "execution_count": null,
   "source": [
    "# properties:\r\n",
    "# type             => str   [tools, sunflowers]\r\n",
    "# id               => int   [...]\r\n",
    "# usage            => int   [...]\r\n",
    "# price            => int   [...]\r\n",
    "# name             => str   [...]\r\n",
    "# min_amount       => int   [...]\r\n",
    "# current_amount   => int   [...]\r\n",
    "\r\n",
    "# requests:\r\n",
    "# store | tools        => https://backend-farm.plantvsundead.com/available-tools\r\n",
    "# store | sunflowers   => https://backend-farm.plantvsundead.com/sunflowers\r\n",
    "# user  | tools        => https://backend-farm.plantvsundead.com/my-tools\r\n",
    "# user  | sunflowers   => https://backend-farm.plantvsundead.com/my-sunflowers\r\n",
    "\r\n",
    "# currency:\r\n",
    "# name      => str  [PVU, LE]\r\n",
    "# amount    => int  [...]"
   ],
   "outputs": [],
   "metadata": {}
  },
  {
   "cell_type": "code",
   "execution_count": 23,
   "source": [
    "import mss\r\n",
    "import cv2\r\n",
    "import numpy as np\r\n",
    "from gui_locate import regions\r\n",
    "\r\n",
    "def take_ss(region, name=None):\r\n",
    "    with mss.mss() as sct:\r\n",
    "        sct_img = sct.grab(region)\r\n",
    "\r\n",
    "        if name is not None:\r\n",
    "            mss.tools.to_png(sct_img.rgb, sct_img.size, output=name)\r\n",
    "        return sct_img\r\n",
    "\r\n",
    "\r\n",
    "def locate(image, region=regions(), confidence=0.8, grayscale=False):\r\n",
    "    image_path = f\"images/{image}\"\r\n",
    "\r\n",
    "    with mss.mss() as sct:\r\n",
    "\r\n",
    "        ss = np.array(sct.grab(region))\r\n",
    "        ss = ss[:, :, :3]\r\n",
    "\r\n",
    "        needle = cv2.imread(image_path)\r\n",
    "\r\n",
    "        if grayscale:\r\n",
    "            ss = cv2.cvtColor(ss, cv2.COLOR_BGR2GRAY)\r\n",
    "            needle = cv2.cvtColor(needle, cv2.COLOR_BGR2GRAY)\r\n",
    "\r\n",
    "        needle_h, needle_w = needle.shape[:2]\r\n",
    "        #print(needle_h, needle_w)\r\n",
    "\r\n",
    "        result = cv2.matchTemplate(ss, needle, cv2.TM_CCORR_NORMED)\r\n",
    "        min_val, max_val, min_loc, max_loc = cv2.minMaxLoc(result)\r\n",
    "\r\n",
    "        #print(min_val, max_loc, min_loc, max_loc)\r\n",
    "\r\n",
    "        if max_val > confidence:\r\n",
    "            position_x = max_loc[0] + needle_w//2\r\n",
    "            position_y = max_loc[1] + needle_h//2\r\n",
    "            return position_x,position_y\r\n",
    "        \r\n",
    "        return False"
   ],
   "outputs": [],
   "metadata": {}
  },
  {
   "cell_type": "code",
   "execution_count": 24,
   "source": [
    "locate(\"open.png\")"
   ],
   "outputs": [
    {
     "output_type": "execute_result",
     "data": {
      "text/plain": [
       "(1551, 121)"
      ]
     },
     "metadata": {},
     "execution_count": 24
    }
   ],
   "metadata": {}
  },
  {
   "cell_type": "code",
   "execution_count": null,
   "source": [],
   "outputs": [],
   "metadata": {}
  }
 ],
 "metadata": {
  "orig_nbformat": 4,
  "language_info": {
   "name": "python",
   "version": "3.9.6",
   "mimetype": "text/x-python",
   "codemirror_mode": {
    "name": "ipython",
    "version": 3
   },
   "pygments_lexer": "ipython3",
   "nbconvert_exporter": "python",
   "file_extension": ".py"
  },
  "kernelspec": {
   "name": "python3",
   "display_name": "Python 3.9.6 64-bit (conda)"
  },
  "interpreter": {
   "hash": "eda1f671b45e12d927af835f42526635cba9f3c2d7a70ce8497d11203935ec2a"
  }
 },
 "nbformat": 4,
 "nbformat_minor": 2
}