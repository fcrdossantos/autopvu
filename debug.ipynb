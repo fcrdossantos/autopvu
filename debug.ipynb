{
 "cells": [
  {
   "cell_type": "code",
   "execution_count": 1,
   "source": [
    "import browser\r\n",
    "browser.close_browser()\r\n",
    "\r\n",
    "import main"
   ],
   "outputs": [
    {
     "output_type": "stream",
     "name": "stdout",
     "text": [
      "|| Carregando o ambiente (.env)\n",
      "|| Lendo o HWID correto\n",
      "|| HWID Alterado com sucesso!\n",
      "|| Abrindo Navegador\n"
     ]
    },
    {
     "output_type": "stream",
     "name": "stderr",
     "text": [
      "127.0.0.1:49948: request\n",
      "  -> HTTP protocol error in client request: Bad HTTP request line: b')\\x02\\x97\\x01'\n"
     ]
    },
    {
     "output_type": "stream",
     "name": "stdout",
     "text": [
      "|| Não minimize outro mude a aba do navegador ainda!!!\n",
      "|| Abrindo o MetaMask\n",
      "|| Clicando na posição: (1802,52)\n",
      "|| Digitando a senha\n",
      "|| Desbloqueando MetaMask\n",
      "|| Clicando na posição: (1629,577)\n",
      "|| Ocultando a extensão do MetaMask!\n",
      "|| Clicando na posição: (1802,52)\n"
     ]
    },
    {
     "output_type": "stream",
     "name": "stderr",
     "text": [
      "127.0.0.1:50928: request\n",
      "  -> HTTP protocol error in client request: Bad HTTP request line: b')\\x02\\xad\\x01'\n"
     ]
    },
    {
     "output_type": "stream",
     "name": "stdout",
     "text": [
      "|| Inicializando o bot\n",
      "|| Aguarde até 10 segundos\n",
      "|| Verificando Jogo e Login\n",
      "|| Já está logado na conta!\n",
      "|| Vamos iniciar as rotinas do jogo\n",
      "|| Pronto! Você já pode minimizar ou mudar a aba do navegador\n"
     ]
    }
   ],
   "metadata": {}
  },
  {
   "cell_type": "code",
   "execution_count": 7,
   "source": [
    "%load_ext autoreload\r\n",
    "%autoreload 2"
   ],
   "outputs": [],
   "metadata": {}
  },
  {
   "cell_type": "code",
   "execution_count": null,
   "source": [
    "# properties:\r\n",
    "# type             => str   [tools, sunflowers]\r\n",
    "# id               => int   [...]\r\n",
    "# usage            => int   [...]\r\n",
    "# price            => int   [...]\r\n",
    "# name             => str   [...]\r\n",
    "# min_amount       => int   [...]\r\n",
    "# current_amount   => int   [...]\r\n",
    "\r\n",
    "# requests:\r\n",
    "# store | tools        => https://backend-farm.plantvsundead.com/available-tools\r\n",
    "# store | sunflowers   => https://backend-farm.plantvsundead.com/sunflowers\r\n",
    "# user  | tools        => https://backend-farm.plantvsundead.com/my-tools\r\n",
    "# user  | sunflowers   => https://backend-farm.plantvsundead.com/my-sunflowers\r\n",
    "\r\n",
    "# currency:\r\n",
    "# name      => str  [PVU, LE]\r\n",
    "# amount    => int  [...]"
   ],
   "outputs": [],
   "metadata": {}
  },
  {
   "cell_type": "code",
   "execution_count": null,
   "source": [
    "from pvu.farm import get_available_spaces, get_farm_lands\r\n",
    "\r\n",
    "x = get_available_spaces()\r\n",
    "y = get_farm_lands()\r\n",
    "\r\n",
    "print(x)\r\n",
    "print(y)"
   ],
   "outputs": [],
   "metadata": {}
  },
  {
   "cell_type": "code",
   "execution_count": null,
   "source": [
    "#Brutal Mode\r\n",
    "\r\n",
    "def add_plants_force():\r\n",
    "    print(\"|| Iniciando rotina de adicionar novas plantas\")\r\n",
    "    for i in range(5):\r\n",
    "        status = add_plant(1)\r\n",
    "        if status == 14:\r\n",
    "            break;\r\n",
    "\r\n",
    "    add_plant(2)\r\n",
    "\r\n",
    "    print(\"|| Fim da rotina de adicionar novas plantas\")"
   ],
   "outputs": [],
   "metadata": {}
  },
  {
   "cell_type": "code",
   "execution_count": 15,
   "source": [],
   "outputs": [],
   "metadata": {}
  },
  {
   "cell_type": "code",
   "execution_count": 27,
   "source": [
    "get_available_land()"
   ],
   "outputs": [
    {
     "output_type": "execute_result",
     "data": {
      "text/plain": [
       "{'tree': 3, 'mother': 0}"
      ]
     },
     "metadata": {},
     "execution_count": 27
    }
   ],
   "metadata": {}
  },
  {
   "cell_type": "code",
   "execution_count": 20,
   "source": [
    "available_mother"
   ],
   "outputs": [
    {
     "output_type": "execute_result",
     "data": {
      "text/plain": [
       "0"
      ]
     },
     "metadata": {},
     "execution_count": 20
    }
   ],
   "metadata": {}
  },
  {
   "cell_type": "code",
   "execution_count": 38,
   "source": [
    "def add_plants_force():\r\n",
    "    print(\"|| Iniciando rotina de adicionar novas plantas\")\r\n",
    "    available_lands = get_available_lands()\r\n",
    "\r\n",
    "    for _ in range(available_lands['tree']):\r\n",
    "        add_plant(1)\r\n",
    "\r\n",
    "    for _ in range(available_lands['mother']):\r\n",
    "        add_plant(2)\r\n",
    "\r\n",
    "    print(\"|| Fim da rotina de adicionar novas plantas\")"
   ],
   "outputs": [],
   "metadata": {}
  },
  {
   "cell_type": "code",
   "execution_count": 39,
   "source": [
    "add_plants_force()"
   ],
   "outputs": [
    {
     "output_type": "stream",
     "name": "stdout",
     "text": [
      "|| Iniciando rotina de adicionar novas plantas\n",
      "tree\n",
      "tree\n",
      "tree\n",
      "mother\n",
      "|| Fim da rotina de adicionar novas plantas\n"
     ]
    }
   ],
   "metadata": {}
  },
  {
   "cell_type": "code",
   "execution_count": null,
   "source": [],
   "outputs": [],
   "metadata": {}
  }
 ],
 "metadata": {
  "orig_nbformat": 4,
  "language_info": {
   "name": "python",
   "version": "3.9.6",
   "mimetype": "text/x-python",
   "codemirror_mode": {
    "name": "ipython",
    "version": 3
   },
   "pygments_lexer": "ipython3",
   "nbconvert_exporter": "python",
   "file_extension": ".py"
  },
  "kernelspec": {
   "name": "python3",
   "display_name": "Python 3.9.6 64-bit (conda)"
  },
  "interpreter": {
   "hash": "eda1f671b45e12d927af835f42526635cba9f3c2d7a70ce8497d11203935ec2a"
  }
 },
 "nbformat": 4,
 "nbformat_minor": 2
}