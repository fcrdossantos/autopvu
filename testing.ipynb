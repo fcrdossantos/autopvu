{
 "cells": [
  {
   "cell_type": "code",
   "execution_count": 1,
   "source": [
    "import main"
   ],
   "outputs": [
    {
     "output_type": "stream",
     "name": "stdout",
     "text": [
      "|| Carregando o ambiente (.env)\n",
      "|| Lendo o HWID correto\n",
      "|| HWID Alterado com sucesso!\n",
      "|| Abrindo Navegador\n",
      "|| Não minimize outro mude a aba do navegador ainda!!!\n",
      "|| Abrindo o MetaMask\n",
      "|| Clicando na posição: (1769,51)\n",
      "|| Digitando PASSWORD\n",
      "|| Desbloqueando MetaMask\n",
      "|| Clicando na posição: (1597,579)\n",
      "|| Ocultando a extensão do MetaMask!\n",
      "|| Clicando na posição: (1769,51)\n",
      "|| Inicializando o bot\n",
      "|| Aguarde até 10 segundos\n",
      "|| Verificando Jogo e Login\n",
      "|| Precisamos logar na conta!\n",
      "|| Logando na conta\n",
      "|| Clicando na posição: (1190,436)\n",
      "|| Vamos confirmar (assinar) o acesso (login)\n",
      "|| Clicando na posição: (1826,551)\n",
      "|| Pronto! Você já pode minimizar ou mudar a aba do navegador\n"
     ]
    }
   ],
   "metadata": {}
  },
  {
   "cell_type": "code",
   "execution_count": 35,
   "source": [
    "%load_ext autoreload\r\n",
    "%autoreload 2"
   ],
   "outputs": [],
   "metadata": {}
  },
  {
   "cell_type": "code",
   "execution_count": 2,
   "source": [
    "from pvu.user import get_user_info\r\n",
    "\r\n",
    "info = get_user_info()"
   ],
   "outputs": [
    {
     "output_type": "stream",
     "name": "stdout",
     "text": [
      "|| Pegando as informações do usuário\n",
      "|| Pegando seus PVU's\n",
      "|| Pegando novo Token\n",
      "|| Pegando seus LE's\n",
      "|| Pegando suas ferramentas\n",
      "|| Você possui:\n",
      "|| => 0.28 PVU's\n",
      "|| => 170 LE's\n",
      "|| => 0 Vasos Pequenos\n",
      "|| => 0 Vasos Grandes\n",
      "|| => 61 Águas\n",
      "|| => 20 Espantalhos\n",
      "|| => 0 Estufas\n"
     ]
    }
   ],
   "metadata": {}
  },
  {
   "cell_type": "code",
   "execution_count": 110,
   "source": [
    "import math\r\n",
    "\r\n",
    "def buy_product(product,  le, needed_amount):\r\n",
    "    prices = get_products_price()\r\n",
    "    amounts_on_buys = get_products_amount_on_buy()\r\n",
    "\r\n",
    "    price = prices[product]\r\n",
    "    amount_on_buy = amounts_on_buys[product]\r\n",
    "\r\n",
    "    times_to_buy = math.ceil(needed_amount / amount_on_buy) \r\n",
    "    print(times_to_buy)\r\n",
    "\r\n",
    "    for _ in range(times_to_buy):\r\n",
    "        if le >= price:\r\n",
    "            print(\"Vou comprar\", product)\r\n",
    "            le = le - price\r\n",
    "\r\n",
    "\r\n",
    "\r\n",
    "def check_buy_product(info_user):\r\n",
    "    le = info_user['le']\r\n",
    "    min_amounts =  get_min_products_amount()\r\n",
    "\r\n",
    "    for product in info_user:\r\n",
    "        if product == 'pvu' or product == 'le':\r\n",
    "            continue\r\n",
    "        else:\r\n",
    "            product_amount = info_user[product]\r\n",
    "            min_amount = min_amounts[product]\r\n",
    "            needed_amount = min_amount - product_amount\r\n",
    "            product_name = get_product_translation()[product]\r\n",
    "\r\n",
    "            if needed_amount > 0:\r\n",
    "                need_text = \"falta\" if needed_amount == 1 else \"faltam\"\r\n",
    "                print(f\"|| Você precisa comprar {product_name} ({need_text} {needed_amount})\")\r\n",
    "                buy_product(product, le, needed_amount)\r\n",
    "            \r\n"
   ],
   "outputs": [],
   "metadata": {}
  },
  {
   "cell_type": "code",
   "execution_count": 56,
   "source": [
    "info"
   ],
   "outputs": [
    {
     "output_type": "execute_result",
     "data": {
      "text/plain": [
       "{'Water': 61, 'Scarecrow': 20, 'Big Pot': 0, 'Small Pot': 0, 'Greenhouse': 0}"
      ]
     },
     "metadata": {},
     "execution_count": 56
    }
   ],
   "metadata": {}
  },
  {
   "cell_type": "code",
   "execution_count": null,
   "source": [
    "# 1 -> Mudar o Get_User, retornando:\r\n",
    "# |=> Currencies\r\n",
    "# |=> Tools\r\n",
    "# |=> Sunflowers\r\n",
    "\r\n",
    "# 2 -> Criar os Gets:\r\n",
    "# |=> Currencies\r\n",
    "# |=> Tools\r\n",
    "# |=> Sunflowers"
   ],
   "outputs": [],
   "metadata": {}
  },
  {
   "cell_type": "code",
   "execution_count": null,
   "source": [
    "# properties:\r\n",
    "# type             => str   [tools, sunflowers]\r\n",
    "# id               => int   [...]\r\n",
    "# usage            => int   [...]\r\n",
    "# price            => int   [...]\r\n",
    "# name             => str   [...]\r\n",
    "# min_amount       => int   [...]\r\n",
    "# current_amount   => int   [...]\r\n",
    "\r\n",
    "# requests:\r\n",
    "# store | tools        => https://backend-farm.plantvsundead.com/available-tools\r\n",
    "# store | sunflowers   => https://backend-farm.plantvsundead.com/sunflowers\r\n",
    "# user  | tools        => https://backend-farm.plantvsundead.com/my-tools\r\n",
    "# user  | sunflowers   => https://backend-farm.plantvsundead.com/my-sunflowers\r\n",
    "\r\n",
    "# currency:\r\n",
    "# name      => str  [PVU, LE]\r\n",
    "# amount    => int  [...]"
   ],
   "outputs": [],
   "metadata": {}
  },
  {
   "cell_type": "code",
   "execution_count": 57,
   "source": [
    "from pvu.user import get_user_tools\r\n",
    "from pvu.tools import get_all_tools\r\n",
    "\r\n",
    "all_tools = get_all_tools()\r\n",
    "my_tools = get_user_tools()\r\n"
   ],
   "outputs": [
    {
     "output_type": "stream",
     "name": "stdout",
     "text": [
      "|| Pegando todas as ferramentas disponíveis\n",
      "|| Pegando suas ferramentas\n"
     ]
    }
   ],
   "metadata": {}
  },
  {
   "cell_type": "code",
   "execution_count": 33,
   "source": [
    "info"
   ],
   "outputs": [
    {
     "output_type": "execute_result",
     "data": {
      "text/plain": [
       "{'Water': 61, 'Scarecrow': 20, 'Big Pot': 0, 'Small Pot': 0, 'Greenhouse': 0}"
      ]
     },
     "metadata": {},
     "execution_count": 33
    }
   ],
   "metadata": {}
  },
  {
   "cell_type": "code",
   "execution_count": 52,
   "source": [
    "# properties:\r\n",
    "  # type             => str   [tools, sunflowers]\r\n",
    "  # id               => int   [...]\r\n",
    "  # name             => str   [...]\r\n",
    "  # usages           => int   [...]\r\n",
    "  # price            => int   [...]\r\n",
    "  # min_amount       => int   [...]\r\n",
    "# current_amount   => int   [...]\r\n",
    "\r\n",
    " "
   ],
   "outputs": [],
   "metadata": {}
  },
  {
   "cell_type": "code",
   "execution_count": 53,
   "source": [
    "x = get_tools_info(all_tools, my_tools)"
   ],
   "outputs": [],
   "metadata": {}
  },
  {
   "cell_type": "code",
   "execution_count": 54,
   "source": [
    "x"
   ],
   "outputs": [
    {
     "output_type": "execute_result",
     "data": {
      "text/plain": [
       "[{'name': 'Small Pot',\n",
       "  'id': 1,\n",
       "  '_type': 'tool',\n",
       "  'price': 50,\n",
       "  'usages': None,\n",
       "  'min_amount': 6,\n",
       "  'current_amount': 0},\n",
       " {'name': 'Big Pot',\n",
       "  'id': 2,\n",
       "  '_type': 'tool',\n",
       "  'price': 100,\n",
       "  'usages': None,\n",
       "  'min_amount': 0,\n",
       "  'current_amount': 0},\n",
       " {'name': 'Water',\n",
       "  'id': 3,\n",
       "  '_type': 'tool',\n",
       "  'price': 50,\n",
       "  'usages': None,\n",
       "  'min_amount': 50,\n",
       "  'current_amount': 61},\n",
       " {'name': 'Scarecrow',\n",
       "  'id': 4,\n",
       "  '_type': 'tool',\n",
       "  'price': 20,\n",
       "  'usages': None,\n",
       "  'min_amount': 10,\n",
       "  'current_amount': 20},\n",
       " {'name': 'Greenhouse',\n",
       "  'id': 5,\n",
       "  '_type': 'tool',\n",
       "  'price': 10,\n",
       "  'usages': None,\n",
       "  'min_amount': 0,\n",
       "  'current_amount': 0}]"
      ]
     },
     "metadata": {},
     "execution_count": 54
    }
   ],
   "metadata": {}
  },
  {
   "cell_type": "code",
   "execution_count": 15,
   "source": [
    "tools"
   ],
   "outputs": [
    {
     "output_type": "execute_result",
     "data": {
      "text/plain": [
       "[{'chanceDropSeed': 0,\n",
       "  '_id': '611e0ee5cf3028944f31f513',\n",
       "  'id': 1,\n",
       "  'name': 'Small Pot',\n",
       "  'price': 50,\n",
       "  'usages': 1,\n",
       "  'duration': 10,\n",
       "  'type': 'POT',\n",
       "  'description': 'You need small pot to start farming.',\n",
       "  'createdAt': '2021-08-19T07:57:25.811Z',\n",
       "  'updatedAt': '2021-08-19T07:57:25.811Z',\n",
       "  '__v': 0},\n",
       " {'chanceDropSeed': 1,\n",
       "  '_id': '611e0ee5cf3028944f31f514',\n",
       "  'id': 2,\n",
       "  'name': 'Big Pot',\n",
       "  'price': 100,\n",
       "  'usages': 1,\n",
       "  'duration': 30,\n",
       "  'type': 'POT',\n",
       "  'description': 'You need big pot to start farming. +1% chance to drop seeds.',\n",
       "  'createdAt': '2021-08-19T07:57:25.812Z',\n",
       "  'updatedAt': '2021-08-19T07:57:25.812Z',\n",
       "  '__v': 0},\n",
       " {'chanceDropSeed': 0,\n",
       "  '_id': '611e0ee5cf3028944f31f515',\n",
       "  'id': 3,\n",
       "  'name': 'Water',\n",
       "  'price': 50,\n",
       "  'usages': 100,\n",
       "  'duration': 0,\n",
       "  'type': 'WATER',\n",
       "  'description': \"Don't forget to water your plants everyday.\",\n",
       "  'createdAt': '2021-08-19T07:57:25.812Z',\n",
       "  'updatedAt': '2021-08-19T07:57:25.812Z',\n",
       "  '__v': 0},\n",
       " {'chanceDropSeed': 0,\n",
       "  '_id': '611e0ee5cf3028944f31f516',\n",
       "  'id': 4,\n",
       "  'name': 'Scarecrow',\n",
       "  'price': 20,\n",
       "  'usages': 20,\n",
       "  'duration': 0,\n",
       "  'type': 'SCARECROW',\n",
       "  'description': 'Crows are unpredictable.',\n",
       "  'createdAt': '2021-08-19T07:57:25.812Z',\n",
       "  'updatedAt': '2021-08-19T07:57:25.812Z',\n",
       "  '__v': 0},\n",
       " {'chanceDropSeed': 0,\n",
       "  '_id': '611e0ee5cf3028944f31f517',\n",
       "  'id': 5,\n",
       "  'name': 'Greenhouse',\n",
       "  'price': 10,\n",
       "  'usages': 10,\n",
       "  'duration': 1,\n",
       "  'type': 'GREENHOUSE',\n",
       "  'description': \"No need to worry about tomorrow's weather.\",\n",
       "  'createdAt': '2021-08-19T07:57:25.812Z',\n",
       "  'updatedAt': '2021-08-19T07:57:25.812Z',\n",
       "  '__v': 0}]"
      ]
     },
     "metadata": {},
     "execution_count": 15
    }
   ],
   "metadata": {}
  },
  {
   "cell_type": "code",
   "execution_count": null,
   "source": [],
   "outputs": [],
   "metadata": {}
  },
  {
   "cell_type": "code",
   "execution_count": 63,
   "source": [
    "#https://backend-farm.plantvsundead.com/sunflowers\r\n",
    "import json\r\n",
    "import requests\r\n",
    "from pvu.utils import get_headers, random_sleep\r\n",
    "import os\r\n",
    "\r\n",
    "\r\n",
    "def get_all_sunflowers():\r\n",
    "    url = \"https://backend-farm.plantvsundead.com/sunflowers\"\r\n",
    "    headers = get_headers()\r\n",
    "\r\n",
    "    print(\"|| Pegando todas as Sunflowers disponíveis\")\r\n",
    "\r\n",
    "    random_sleep()\r\n",
    "    response = requests.request(\"GET\", url, headers=headers)\r\n",
    "\r\n",
    "    user_info = json.loads(response.text)\r\n",
    "\r\n",
    "    tools = user_info.get(\"data\")\r\n",
    "\r\n",
    "    return tools\r\n",
    "\r\n",
    "def get_my_sunflowers():\r\n",
    "    url = \"https://backend-farm.plantvsundead.com/my-sunflowers\"\r\n",
    "    headers = get_headers()\r\n",
    "\r\n",
    "    print(\"|| Pegando as minhas Sunflowers\")\r\n",
    "\r\n",
    "    random_sleep()\r\n",
    "    response = requests.request(\"GET\", url, headers=headers)\r\n",
    "\r\n",
    "    user_info = json.loads(response.text)\r\n",
    "\r\n",
    "    tools = user_info.get(\"data\")\r\n",
    "\r\n",
    "    return tools"
   ],
   "outputs": [],
   "metadata": {}
  },
  {
   "cell_type": "code",
   "execution_count": 62,
   "source": [
    "all_sunflowers = get_all_sunflowers()\r\n",
    "my_sunflowers = get_my_sunflowers()"
   ],
   "outputs": [
    {
     "output_type": "stream",
     "name": "stdout",
     "text": [
      "|| Pegando todas as Sunflowers disponíveis\n",
      "|| Pegando todas as Sunflowers disponíveis\n"
     ]
    }
   ],
   "metadata": {}
  },
  {
   "cell_type": "code",
   "execution_count": 64,
   "source": [
    "all_sunflowers"
   ],
   "outputs": [
    {
     "output_type": "execute_result",
     "data": {
      "text/plain": [
       "[{'rate': {'le': 250, 'hours': 72},\n",
       "  'usages': 1,\n",
       "  '_id': '611e0ef5fcf01d9463a8acf3',\n",
       "  'id': 1,\n",
       "  'name': 'Sunflower Sapling',\n",
       "  'price': 100,\n",
       "  'duration': 3,\n",
       "  'type': 'SAPLING',\n",
       "  'plantType': 1,\n",
       "  'description': 'A temporary plant that gives 250LE/72h, is not affected by weather events, and\\ncannot drop seeds.',\n",
       "  'hint': '',\n",
       "  '__v': 0},\n",
       " {'rate': {'le': 850, 'hours': 144},\n",
       "  'usages': 1,\n",
       "  '_id': '611e0ef5fcf01d9463a8acf4',\n",
       "  'id': 2,\n",
       "  'name': 'Sunflower mama',\n",
       "  'price': 200,\n",
       "  'duration': 6,\n",
       "  'type': 'MAMA',\n",
       "  'plantType': 2,\n",
       "  'description': 'A temporary mother tree that gives 850LE/144h, is not affected by weather\\nevents, and cannot drop seeds.',\n",
       "  'hint': '',\n",
       "  '__v': 0},\n",
       " {'rate': {'le': 0, 'hours': 0},\n",
       "  'usages': 1,\n",
       "  '_id': '611e0ef5fcf01d9463a8acf5',\n",
       "  'id': 3,\n",
       "  'name': 'Sun Box',\n",
       "  'price': 100,\n",
       "  'duration': 0,\n",
       "  'type': 'BOX',\n",
       "  'plantType': 0,\n",
       "  'description': 'A magical box that harnesses energy from the sun. Open it to find useful items inside and maybe a valuable surprise if you are lucky.',\n",
       "  'hint': '30% to drop: 20 x scarecrows and 100 x water\\n30% to drop: 2 x small pots\\n30% to drop: 1 x sunflower sapling\\n9.9% to drop: 1 x sunflower mama\\n0.1% to drop: 1 x seed',\n",
       "  '__v': 0}]"
      ]
     },
     "metadata": {},
     "execution_count": 64
    }
   ],
   "metadata": {}
  },
  {
   "cell_type": "code",
   "execution_count": 65,
   "source": [
    "my_sunflowers"
   ],
   "outputs": [
    {
     "output_type": "execute_result",
     "data": {
      "text/plain": [
       "[{'rate': {'le': 850, 'hours': 144},\n",
       "  '_id': '6125ddbb2f4cd4bd4c3f3811',\n",
       "  'ownerId': '0x2d6018c3421fd2303c6bf2c2a538945fa10665a3',\n",
       "  'sunflowerId': 2,\n",
       "  '__v': 0,\n",
       "  'createdAt': '2021-08-25T06:05:47.547Z',\n",
       "  'duration': 6,\n",
       "  'name': 'Sunflower mama',\n",
       "  'plantType': 2,\n",
       "  'total': 1,\n",
       "  'type': 'MAMA',\n",
       "  'updatedAt': '2021-08-25T06:15:46.581Z',\n",
       "  'usages': 0},\n",
       " {'rate': {'le': 250, 'hours': 72},\n",
       "  '_id': '6125dfff2f4cd4bd4c57a59b',\n",
       "  'ownerId': '0x2d6018c3421fd2303c6bf2c2a538945fa10665a3',\n",
       "  'sunflowerId': 1,\n",
       "  '__v': 0,\n",
       "  'createdAt': '2021-08-25T06:15:27.015Z',\n",
       "  'duration': 3,\n",
       "  'name': 'Sunflower Sapling',\n",
       "  'plantType': 1,\n",
       "  'total': 5,\n",
       "  'type': 'SAPLING',\n",
       "  'updatedAt': '2021-08-25T06:15:54.110Z',\n",
       "  'usages': 0}]"
      ]
     },
     "metadata": {},
     "execution_count": 65
    }
   ],
   "metadata": {}
  },
  {
   "cell_type": "code",
   "execution_count": 66,
   "source": [
    "def get_my_tools():\r\n",
    "    url = \"https://backend-farm.plantvsundead.com/my-tools\"\r\n",
    "    headers = get_headers()\r\n",
    "\r\n",
    "    print(\"|| Pegando todas as ferramentas disponíveis\")\r\n",
    "\r\n",
    "    random_sleep()\r\n",
    "    response = requests.request(\"GET\", url, headers=headers)\r\n",
    "\r\n",
    "    user_info = json.loads(response.text)\r\n",
    "\r\n",
    "    tools = user_info.get(\"data\")\r\n",
    "\r\n",
    "    return tools"
   ],
   "outputs": [],
   "metadata": {}
  },
  {
   "cell_type": "code",
   "execution_count": 67,
   "source": [
    "my_tools = get_my_tools()"
   ],
   "outputs": [
    {
     "output_type": "stream",
     "name": "stdout",
     "text": [
      "|| Pegando todas as ferramentas disponíveis\n"
     ]
    }
   ],
   "metadata": {}
  },
  {
   "cell_type": "code",
   "execution_count": 83,
   "source": [
    "from pvu.tools import get_tools\r\n",
    "\r\n",
    "t = get_tools()"
   ],
   "outputs": [
    {
     "output_type": "stream",
     "name": "stdout",
     "text": [
      "|| Pegando todas as ferramentas disponíveis\n",
      "|| Pegando todas as minhas ferramentas\n"
     ]
    }
   ],
   "metadata": {}
  },
  {
   "cell_type": "code",
   "execution_count": 81,
   "source": [
    "#my_sunflowers\r\n",
    "#all_sunflowers\r\n",
    "\r\n",
    "from pvu.sunflowers import get_sunflowers\r\n",
    "\r\n",
    "sf =get_sunflowers()"
   ],
   "outputs": [
    {
     "output_type": "stream",
     "name": "stdout",
     "text": [
      "|| Pegando todas as Sunflowers disponíveis\n",
      "|| Pegando as minhas Sunflowers\n",
      "|| Não encontramos um valor para MIN_SUNFLOWER_SAPLING no arquivo .env\n",
      "|| Vamos colocar o valor mínimo para Sunflower Sapling como sendo 0\n",
      "|| Não encontramos um valor para MIN_SUNFLOWER_MAMA no arquivo .env\n",
      "|| Vamos colocar o valor mínimo para Sunflower mama como sendo 0\n"
     ]
    }
   ],
   "metadata": {}
  },
  {
   "cell_type": "code",
   "execution_count": 84,
   "source": [
    "items = sf + t "
   ],
   "outputs": [],
   "metadata": {}
  },
  {
   "cell_type": "code",
   "execution_count": 85,
   "source": [
    "items"
   ],
   "outputs": [
    {
     "output_type": "execute_result",
     "data": {
      "text/plain": [
       "[{'name': 'Sunflower Sapling',\n",
       "  'id': 1,\n",
       "  '_type': 'tool',\n",
       "  'price': 100,\n",
       "  'usages': None,\n",
       "  'min_amount': 0,\n",
       "  'current_amount': 0},\n",
       " {'name': 'Sunflower mama',\n",
       "  'id': 2,\n",
       "  '_type': 'tool',\n",
       "  'price': 200,\n",
       "  'usages': None,\n",
       "  'min_amount': 0,\n",
       "  'current_amount': 0}]"
      ]
     },
     "metadata": {},
     "execution_count": 85
    }
   ],
   "metadata": {}
  },
  {
   "cell_type": "code",
   "execution_count": 86,
   "source": [
    "for item in items:\r\n",
    "    print(f\"|| => {item.get('current_amount')} {item.get('name')}\")\r\n"
   ],
   "outputs": [
    {
     "output_type": "execute_result",
     "data": {
      "text/plain": [
       "[]"
      ]
     },
     "metadata": {},
     "execution_count": 86
    }
   ],
   "metadata": {}
  },
  {
   "cell_type": "code",
   "execution_count": null,
   "source": [],
   "outputs": [],
   "metadata": {}
  }
 ],
 "metadata": {
  "orig_nbformat": 4,
  "language_info": {
   "name": "python",
   "version": "3.9.6",
   "mimetype": "text/x-python",
   "codemirror_mode": {
    "name": "ipython",
    "version": 3
   },
   "pygments_lexer": "ipython3",
   "nbconvert_exporter": "python",
   "file_extension": ".py"
  },
  "kernelspec": {
   "name": "python3",
   "display_name": "Python 3.9.6 64-bit (conda)"
  },
  "interpreter": {
   "hash": "eda1f671b45e12d927af835f42526635cba9f3c2d7a70ce8497d11203935ec2a"
  }
 },
 "nbformat": 4,
 "nbformat_minor": 2
}